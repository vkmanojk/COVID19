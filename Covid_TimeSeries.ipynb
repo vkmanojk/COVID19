{
 "cells": [
  {
   "cell_type": "markdown",
   "metadata": {
    "colab_type": "text",
    "id": "PEVyw6dEW4qe"
   },
   "source": [
    "# COVID-19: Time Series Prediction"
   ]
  },
  {
   "cell_type": "code",
   "execution_count": 64,
   "metadata": {
    "colab": {
     "base_uri": "https://localhost:8080/",
     "height": 54
    },
    "colab_type": "code",
    "id": "PTc129iLe68p",
    "outputId": "b3e336ae-457d-4edf-d400-48404ab150b9"
   },
   "outputs": [
    {
     "name": "stdout",
     "output_type": "stream",
     "text": [
      "Drive already mounted at /content/drive/; to attempt to forcibly remount, call drive.mount(\"/content/drive/\", force_remount=True).\n"
     ]
    }
   ],
   "source": [
    "from google.colab import drive\n",
    "drive.mount('/content/drive/')"
   ]
  },
  {
   "cell_type": "markdown",
   "metadata": {
    "colab_type": "text",
    "id": "dGTKKb1LXCph"
   },
   "source": [
    "## Import Statements"
   ]
  },
  {
   "cell_type": "code",
   "execution_count": 2,
   "metadata": {
    "colab": {
     "base_uri": "https://localhost:8080/",
     "height": 105
    },
    "colab_type": "code",
    "id": "nLIIqmh8dXDW",
    "outputId": "c2930b95-6f8d-4eb2-dd28-b675fda81e6f"
   },
   "outputs": [
    {
     "name": "stderr",
     "output_type": "stream",
     "text": [
      "/usr/local/lib/python3.6/dist-packages/statsmodels/tools/_testing.py:19: FutureWarning: pandas.util.testing is deprecated. Use the functions in the public API at pandas.testing instead.\n",
      "  import pandas.util.testing as tm\n"
     ]
    },
    {
     "name": "stdout",
     "output_type": "stream",
     "text": [
      "TensorFlow 1.x selected.\n"
     ]
    },
    {
     "name": "stderr",
     "output_type": "stream",
     "text": [
      "Using TensorFlow backend.\n"
     ]
    }
   ],
   "source": [
    "import warnings\n",
    "import numpy as np\n",
    "import pandas as pd\n",
    "import os\n",
    "import datetime\n",
    "import seaborn as sns\n",
    "import matplotlib.pyplot as plt\n",
    "from tqdm import tqdm\n",
    "from pylab import rcParams\n",
    "from matplotlib import rc\n",
    "from pandas.plotting import register_matplotlib_converters\n",
    "\n",
    "from sklearn.preprocessing import MinMaxScaler\n",
    "from sklearn.preprocessing import LabelEncoder\n",
    "from sklearn.metrics import mean_squared_error, mean_absolute_error\n",
    "from sklearn.metrics import accuracy_score\n",
    "from sklearn.model_selection import train_test_split\n",
    "%tensorflow_version 1.x\n",
    "\n",
    "import torch\n",
    "from torch import nn, optim\n",
    "from keras import optimizers\n",
    "from keras.utils import plot_model\n",
    "from keras.models import Sequential, Model\n",
    "from keras.layers.convolutional import Conv1D, MaxPooling1D\n",
    "from keras.layers import Dense, LSTM, RepeatVector, TimeDistributed, Flatten, Dropout\n",
    "import tensorflow as tf\n",
    "# from tensorflow import set_random_seed\n",
    "from numpy.random import seed"
   ]
  },
  {
   "cell_type": "code",
   "execution_count": 0,
   "metadata": {
    "colab": {},
    "colab_type": "code",
    "id": "iM6GzWl8g_Vp"
   },
   "outputs": [],
   "source": [
    "# print(tf.__version__)"
   ]
  },
  {
   "cell_type": "code",
   "execution_count": 4,
   "metadata": {
    "colab": {
     "base_uri": "https://localhost:8080/",
     "height": 34
    },
    "colab_type": "code",
    "id": "Nin1RlrgdXDd",
    "outputId": "c5300d01-8830-4b31-8440-99e70b21e4dc"
   },
   "outputs": [
    {
     "data": {
      "text/plain": [
       "<torch._C.Generator at 0x7f4d1bb5b6d0>"
      ]
     },
     "execution_count": 4,
     "metadata": {
      "tags": []
     },
     "output_type": "execute_result"
    }
   ],
   "source": [
    "%config InlineBackend.figure_format='retina'\n",
    "%matplotlib inline\n",
    "warnings.filterwarnings(\"ignore\")\n",
    "sns.set(style='whitegrid', palette='muted', font_scale=1.2)\n",
    "HAPPY_COLORS_PALETTE = [\"#01BEFE\", \"#FFDD00\", \"#FF7D00\", \"#FF006D\", \"#93D30C\", \"#8F00FF\"]\n",
    "sns.set_palette(sns.color_palette(HAPPY_COLORS_PALETTE))\n",
    "rcParams['figure.figsize'] = 14, 10\n",
    "register_matplotlib_converters()\n",
    "# set_random_seed(1)\n",
    "seed(1)\n",
    "torch.manual_seed(1)"
   ]
  },
  {
   "cell_type": "markdown",
   "metadata": {
    "colab_type": "text",
    "id": "mtQ9-xLYXKBV"
   },
   "source": [
    "## Loading the data"
   ]
  },
  {
   "cell_type": "code",
   "execution_count": 5,
   "metadata": {
    "colab": {
     "base_uri": "https://localhost:8080/",
     "height": 326
    },
    "colab_type": "code",
    "id": "jkUGmKBkdXDi",
    "outputId": "892cb3ea-914a-4896-d833-68104d72ba7e"
   },
   "outputs": [
    {
     "data": {
      "text/html": [
       "<div>\n",
       "<style scoped>\n",
       "    .dataframe tbody tr th:only-of-type {\n",
       "        vertical-align: middle;\n",
       "    }\n",
       "\n",
       "    .dataframe tbody tr th {\n",
       "        vertical-align: top;\n",
       "    }\n",
       "\n",
       "    .dataframe thead th {\n",
       "        text-align: right;\n",
       "    }\n",
       "</style>\n",
       "<table border=\"1\" class=\"dataframe\">\n",
       "  <thead>\n",
       "    <tr style=\"text-align: right;\">\n",
       "      <th></th>\n",
       "      <th>Unnamed: 0</th>\n",
       "      <th>Province/State</th>\n",
       "      <th>Country</th>\n",
       "      <th>latitude</th>\n",
       "      <th>longitude</th>\n",
       "      <th>Date</th>\n",
       "      <th>loc_id</th>\n",
       "      <th>Key</th>\n",
       "      <th>Confirmed</th>\n",
       "      <th>Deaths</th>\n",
       "      <th>Recovered</th>\n",
       "    </tr>\n",
       "  </thead>\n",
       "  <tbody>\n",
       "    <tr>\n",
       "      <th>0</th>\n",
       "      <td>0</td>\n",
       "      <td>Not specified</td>\n",
       "      <td>Afghanistan</td>\n",
       "      <td>33.0</td>\n",
       "      <td>65.0</td>\n",
       "      <td>2020-01-22</td>\n",
       "      <td>0</td>\n",
       "      <td>0</td>\n",
       "      <td>0.0</td>\n",
       "      <td>0.0</td>\n",
       "      <td>0.0</td>\n",
       "    </tr>\n",
       "    <tr>\n",
       "      <th>1</th>\n",
       "      <td>1</td>\n",
       "      <td>Not specified</td>\n",
       "      <td>Afghanistan</td>\n",
       "      <td>33.0</td>\n",
       "      <td>65.0</td>\n",
       "      <td>2020-01-23</td>\n",
       "      <td>0</td>\n",
       "      <td>1</td>\n",
       "      <td>0.0</td>\n",
       "      <td>0.0</td>\n",
       "      <td>0.0</td>\n",
       "    </tr>\n",
       "    <tr>\n",
       "      <th>2</th>\n",
       "      <td>2</td>\n",
       "      <td>Not specified</td>\n",
       "      <td>Afghanistan</td>\n",
       "      <td>33.0</td>\n",
       "      <td>65.0</td>\n",
       "      <td>2020-01-24</td>\n",
       "      <td>0</td>\n",
       "      <td>2</td>\n",
       "      <td>0.0</td>\n",
       "      <td>0.0</td>\n",
       "      <td>0.0</td>\n",
       "    </tr>\n",
       "    <tr>\n",
       "      <th>3</th>\n",
       "      <td>3</td>\n",
       "      <td>Not specified</td>\n",
       "      <td>Afghanistan</td>\n",
       "      <td>33.0</td>\n",
       "      <td>65.0</td>\n",
       "      <td>2020-01-25</td>\n",
       "      <td>0</td>\n",
       "      <td>3</td>\n",
       "      <td>0.0</td>\n",
       "      <td>0.0</td>\n",
       "      <td>0.0</td>\n",
       "    </tr>\n",
       "    <tr>\n",
       "      <th>4</th>\n",
       "      <td>4</td>\n",
       "      <td>Not specified</td>\n",
       "      <td>Afghanistan</td>\n",
       "      <td>33.0</td>\n",
       "      <td>65.0</td>\n",
       "      <td>2020-01-26</td>\n",
       "      <td>0</td>\n",
       "      <td>4</td>\n",
       "      <td>0.0</td>\n",
       "      <td>0.0</td>\n",
       "      <td>0.0</td>\n",
       "    </tr>\n",
       "  </tbody>\n",
       "</table>\n",
       "</div>"
      ],
      "text/plain": [
       "   Unnamed: 0 Province/State      Country  ...  Confirmed  Deaths Recovered\n",
       "0           0  Not specified  Afghanistan  ...        0.0     0.0       0.0\n",
       "1           1  Not specified  Afghanistan  ...        0.0     0.0       0.0\n",
       "2           2  Not specified  Afghanistan  ...        0.0     0.0       0.0\n",
       "3           3  Not specified  Afghanistan  ...        0.0     0.0       0.0\n",
       "4           4  Not specified  Afghanistan  ...        0.0     0.0       0.0\n",
       "\n",
       "[5 rows x 11 columns]"
      ]
     },
     "execution_count": 5,
     "metadata": {
      "tags": []
     },
     "output_type": "execute_result"
    }
   ],
   "source": [
    "df = pd.read_csv('drive/My Drive/Colab Notebooks/Dataset/newdata.csv', parse_dates=['Date'])\n",
    "df.head()"
   ]
  },
  {
   "cell_type": "markdown",
   "metadata": {
    "colab_type": "text",
    "id": "4icHlVQHXNtQ"
   },
   "source": [
    "## Data Preprocessing"
   ]
  },
  {
   "cell_type": "code",
   "execution_count": 6,
   "metadata": {
    "colab": {
     "base_uri": "https://localhost:8080/",
     "height": 204
    },
    "colab_type": "code",
    "id": "UPMI5KP9dXDm",
    "outputId": "7b9d8ff4-4b5d-4fa1-af53-89ecb8a36e8e"
   },
   "outputs": [
    {
     "data": {
      "text/html": [
       "<div>\n",
       "<style scoped>\n",
       "    .dataframe tbody tr th:only-of-type {\n",
       "        vertical-align: middle;\n",
       "    }\n",
       "\n",
       "    .dataframe tbody tr th {\n",
       "        vertical-align: top;\n",
       "    }\n",
       "\n",
       "    .dataframe thead th {\n",
       "        text-align: right;\n",
       "    }\n",
       "</style>\n",
       "<table border=\"1\" class=\"dataframe\">\n",
       "  <thead>\n",
       "    <tr style=\"text-align: right;\">\n",
       "      <th></th>\n",
       "      <th>Province/State</th>\n",
       "      <th>Country</th>\n",
       "      <th>latitude</th>\n",
       "      <th>longitude</th>\n",
       "      <th>Date</th>\n",
       "      <th>loc_id</th>\n",
       "      <th>Key</th>\n",
       "      <th>Confirmed</th>\n",
       "      <th>Deaths</th>\n",
       "      <th>Recovered</th>\n",
       "    </tr>\n",
       "  </thead>\n",
       "  <tbody>\n",
       "    <tr>\n",
       "      <th>0</th>\n",
       "      <td>Not specified</td>\n",
       "      <td>Afghanistan</td>\n",
       "      <td>33.0</td>\n",
       "      <td>65.0</td>\n",
       "      <td>2020-01-22</td>\n",
       "      <td>0</td>\n",
       "      <td>0</td>\n",
       "      <td>0.0</td>\n",
       "      <td>0.0</td>\n",
       "      <td>0.0</td>\n",
       "    </tr>\n",
       "    <tr>\n",
       "      <th>1</th>\n",
       "      <td>Not specified</td>\n",
       "      <td>Afghanistan</td>\n",
       "      <td>33.0</td>\n",
       "      <td>65.0</td>\n",
       "      <td>2020-01-23</td>\n",
       "      <td>0</td>\n",
       "      <td>1</td>\n",
       "      <td>0.0</td>\n",
       "      <td>0.0</td>\n",
       "      <td>0.0</td>\n",
       "    </tr>\n",
       "    <tr>\n",
       "      <th>2</th>\n",
       "      <td>Not specified</td>\n",
       "      <td>Afghanistan</td>\n",
       "      <td>33.0</td>\n",
       "      <td>65.0</td>\n",
       "      <td>2020-01-24</td>\n",
       "      <td>0</td>\n",
       "      <td>2</td>\n",
       "      <td>0.0</td>\n",
       "      <td>0.0</td>\n",
       "      <td>0.0</td>\n",
       "    </tr>\n",
       "    <tr>\n",
       "      <th>3</th>\n",
       "      <td>Not specified</td>\n",
       "      <td>Afghanistan</td>\n",
       "      <td>33.0</td>\n",
       "      <td>65.0</td>\n",
       "      <td>2020-01-25</td>\n",
       "      <td>0</td>\n",
       "      <td>3</td>\n",
       "      <td>0.0</td>\n",
       "      <td>0.0</td>\n",
       "      <td>0.0</td>\n",
       "    </tr>\n",
       "    <tr>\n",
       "      <th>4</th>\n",
       "      <td>Not specified</td>\n",
       "      <td>Afghanistan</td>\n",
       "      <td>33.0</td>\n",
       "      <td>65.0</td>\n",
       "      <td>2020-01-26</td>\n",
       "      <td>0</td>\n",
       "      <td>4</td>\n",
       "      <td>0.0</td>\n",
       "      <td>0.0</td>\n",
       "      <td>0.0</td>\n",
       "    </tr>\n",
       "  </tbody>\n",
       "</table>\n",
       "</div>"
      ],
      "text/plain": [
       "  Province/State      Country  latitude  ...  Confirmed Deaths  Recovered\n",
       "0  Not specified  Afghanistan      33.0  ...        0.0    0.0        0.0\n",
       "1  Not specified  Afghanistan      33.0  ...        0.0    0.0        0.0\n",
       "2  Not specified  Afghanistan      33.0  ...        0.0    0.0        0.0\n",
       "3  Not specified  Afghanistan      33.0  ...        0.0    0.0        0.0\n",
       "4  Not specified  Afghanistan      33.0  ...        0.0    0.0        0.0\n",
       "\n",
       "[5 rows x 10 columns]"
      ]
     },
     "execution_count": 6,
     "metadata": {
      "tags": []
     },
     "output_type": "execute_result"
    }
   ],
   "source": [
    "df['Recovered'].fillna(0,inplace=True)\n",
    "df.drop(columns=['Unnamed: 0'],inplace=True)\n",
    "df.head()"
   ]
  },
  {
   "cell_type": "code",
   "execution_count": 0,
   "metadata": {
    "colab": {},
    "colab_type": "code",
    "id": "EBte1HXqdXDr"
   },
   "outputs": [],
   "source": [
    "scaler = MinMaxScaler()\n",
    "df[['Confirmed', 'Deaths', 'Recovered']] = scaler.fit_transform((df[['Confirmed', 'Deaths', 'Recovered']]))"
   ]
  },
  {
   "cell_type": "code",
   "execution_count": 0,
   "metadata": {
    "colab": {},
    "colab_type": "code",
    "id": "0WOMzztIdXDw"
   },
   "outputs": [],
   "source": [
    "train_date = []\n",
    "test_date = []\n",
    "t = pd.Timestamp(year=2020,month=3,day=3)\n",
    "\n",
    "for i in range(len(df['Date'])):    \n",
    "#     print((pd.Timestamp(df.iloc[i,4]) - t).days)\n",
    "    if (pd.Timestamp(df.iloc[i,4]) - t).days >=0:\n",
    "#         print(df.iloc[i,4])\n",
    "        train_date.append(df.iloc[i,4])\n",
    "    else:\n",
    "#         print(df.iloc[i,4])\n",
    "        test_date.append(df.iloc[i,4])"
   ]
  },
  {
   "cell_type": "code",
   "execution_count": 9,
   "metadata": {
    "colab": {
     "base_uri": "https://localhost:8080/",
     "height": 204
    },
    "colab_type": "code",
    "id": "KEO5oNYwdXD0",
    "outputId": "57f2b346-b0b4-40ce-cb09-fc7cca14a8fd"
   },
   "outputs": [
    {
     "data": {
      "text/html": [
       "<div>\n",
       "<style scoped>\n",
       "    .dataframe tbody tr th:only-of-type {\n",
       "        vertical-align: middle;\n",
       "    }\n",
       "\n",
       "    .dataframe tbody tr th {\n",
       "        vertical-align: top;\n",
       "    }\n",
       "\n",
       "    .dataframe thead th {\n",
       "        text-align: right;\n",
       "    }\n",
       "</style>\n",
       "<table border=\"1\" class=\"dataframe\">\n",
       "  <thead>\n",
       "    <tr style=\"text-align: right;\">\n",
       "      <th></th>\n",
       "      <th>Province/State</th>\n",
       "      <th>Country</th>\n",
       "      <th>latitude</th>\n",
       "      <th>longitude</th>\n",
       "      <th>Date</th>\n",
       "      <th>loc_id</th>\n",
       "      <th>Key</th>\n",
       "      <th>Confirmed</th>\n",
       "      <th>Deaths</th>\n",
       "      <th>Recovered</th>\n",
       "    </tr>\n",
       "  </thead>\n",
       "  <tbody>\n",
       "    <tr>\n",
       "      <th>0</th>\n",
       "      <td>Not specified</td>\n",
       "      <td>Afghanistan</td>\n",
       "      <td>33.0</td>\n",
       "      <td>65.0</td>\n",
       "      <td>2020-03-03</td>\n",
       "      <td>0</td>\n",
       "      <td>41</td>\n",
       "      <td>0.000498</td>\n",
       "      <td>0.003676</td>\n",
       "      <td>0.009469</td>\n",
       "    </tr>\n",
       "    <tr>\n",
       "      <th>1</th>\n",
       "      <td>Not specified</td>\n",
       "      <td>Afghanistan</td>\n",
       "      <td>33.0</td>\n",
       "      <td>65.0</td>\n",
       "      <td>2020-03-04</td>\n",
       "      <td>0</td>\n",
       "      <td>42</td>\n",
       "      <td>0.000498</td>\n",
       "      <td>0.003676</td>\n",
       "      <td>0.009469</td>\n",
       "    </tr>\n",
       "    <tr>\n",
       "      <th>2</th>\n",
       "      <td>Not specified</td>\n",
       "      <td>Afghanistan</td>\n",
       "      <td>33.0</td>\n",
       "      <td>65.0</td>\n",
       "      <td>2020-03-05</td>\n",
       "      <td>0</td>\n",
       "      <td>43</td>\n",
       "      <td>0.000498</td>\n",
       "      <td>0.003676</td>\n",
       "      <td>0.009469</td>\n",
       "    </tr>\n",
       "    <tr>\n",
       "      <th>3</th>\n",
       "      <td>Not specified</td>\n",
       "      <td>Afghanistan</td>\n",
       "      <td>33.0</td>\n",
       "      <td>65.0</td>\n",
       "      <td>2020-03-06</td>\n",
       "      <td>0</td>\n",
       "      <td>44</td>\n",
       "      <td>0.000498</td>\n",
       "      <td>0.003676</td>\n",
       "      <td>0.009469</td>\n",
       "    </tr>\n",
       "    <tr>\n",
       "      <th>4</th>\n",
       "      <td>Not specified</td>\n",
       "      <td>Afghanistan</td>\n",
       "      <td>33.0</td>\n",
       "      <td>65.0</td>\n",
       "      <td>2020-03-07</td>\n",
       "      <td>0</td>\n",
       "      <td>45</td>\n",
       "      <td>0.000498</td>\n",
       "      <td>0.003676</td>\n",
       "      <td>0.009469</td>\n",
       "    </tr>\n",
       "  </tbody>\n",
       "</table>\n",
       "</div>"
      ],
      "text/plain": [
       "  Province/State      Country  latitude  ...  Confirmed    Deaths  Recovered\n",
       "0  Not specified  Afghanistan      33.0  ...   0.000498  0.003676   0.009469\n",
       "1  Not specified  Afghanistan      33.0  ...   0.000498  0.003676   0.009469\n",
       "2  Not specified  Afghanistan      33.0  ...   0.000498  0.003676   0.009469\n",
       "3  Not specified  Afghanistan      33.0  ...   0.000498  0.003676   0.009469\n",
       "4  Not specified  Afghanistan      33.0  ...   0.000498  0.003676   0.009469\n",
       "\n",
       "[5 rows x 10 columns]"
      ]
     },
     "execution_count": 9,
     "metadata": {
      "tags": []
     },
     "output_type": "execute_result"
    }
   ],
   "source": [
    "test = {'Province/State':[],\n",
    "         'Country':[],\n",
    "         'latitude':[],\n",
    "         'longitude':[],\n",
    "         'Date':[],\n",
    "         'loc_id':[],\n",
    "         'Key':[],\n",
    "         'Confirmed':[],\n",
    "         'Deaths':[],\n",
    "         'Recovered':[]}\n",
    "for i in range(len(df)):\n",
    "    if df.iloc[i,4] in train_date:\n",
    "        test['Province/State'].append(df.iloc[i,0])\n",
    "        test['Country'].append(df.iloc[i,1])\n",
    "        test['latitude'].append(df.iloc[i,2])\n",
    "        test['longitude'].append(df.iloc[i,3])\n",
    "        test['Date'].append(df.iloc[i,4])\n",
    "        test['loc_id'].append(df.iloc[i,5])\n",
    "        test['Key'].append(df.iloc[i,6])\n",
    "        test['Confirmed'].append(df.iloc[i,7])\n",
    "        test['Deaths'].append(df.iloc[i,8])\n",
    "        test['Recovered'].append(df.iloc[i,9])\n",
    "\n",
    "test = pd.DataFrame(test)\n",
    "test.head()"
   ]
  },
  {
   "cell_type": "code",
   "execution_count": 10,
   "metadata": {
    "colab": {
     "base_uri": "https://localhost:8080/",
     "height": 204
    },
    "colab_type": "code",
    "id": "No7B9W2UdXD5",
    "outputId": "50251aa5-02b9-4f53-bdde-ed16e61ba6f4"
   },
   "outputs": [
    {
     "data": {
      "text/html": [
       "<div>\n",
       "<style scoped>\n",
       "    .dataframe tbody tr th:only-of-type {\n",
       "        vertical-align: middle;\n",
       "    }\n",
       "\n",
       "    .dataframe tbody tr th {\n",
       "        vertical-align: top;\n",
       "    }\n",
       "\n",
       "    .dataframe thead th {\n",
       "        text-align: right;\n",
       "    }\n",
       "</style>\n",
       "<table border=\"1\" class=\"dataframe\">\n",
       "  <thead>\n",
       "    <tr style=\"text-align: right;\">\n",
       "      <th></th>\n",
       "      <th>Province/State</th>\n",
       "      <th>Country</th>\n",
       "      <th>latitude</th>\n",
       "      <th>longitude</th>\n",
       "      <th>Date</th>\n",
       "      <th>loc_id</th>\n",
       "      <th>Key</th>\n",
       "      <th>Confirmed</th>\n",
       "      <th>Deaths</th>\n",
       "      <th>Recovered</th>\n",
       "    </tr>\n",
       "  </thead>\n",
       "  <tbody>\n",
       "    <tr>\n",
       "      <th>0</th>\n",
       "      <td>Not specified</td>\n",
       "      <td>Afghanistan</td>\n",
       "      <td>33.0</td>\n",
       "      <td>65.0</td>\n",
       "      <td>2020-01-22</td>\n",
       "      <td>0</td>\n",
       "      <td>0</td>\n",
       "      <td>0.000498</td>\n",
       "      <td>0.003676</td>\n",
       "      <td>0.009469</td>\n",
       "    </tr>\n",
       "    <tr>\n",
       "      <th>1</th>\n",
       "      <td>Not specified</td>\n",
       "      <td>Afghanistan</td>\n",
       "      <td>33.0</td>\n",
       "      <td>65.0</td>\n",
       "      <td>2020-01-23</td>\n",
       "      <td>0</td>\n",
       "      <td>1</td>\n",
       "      <td>0.000498</td>\n",
       "      <td>0.003676</td>\n",
       "      <td>0.009469</td>\n",
       "    </tr>\n",
       "    <tr>\n",
       "      <th>2</th>\n",
       "      <td>Not specified</td>\n",
       "      <td>Afghanistan</td>\n",
       "      <td>33.0</td>\n",
       "      <td>65.0</td>\n",
       "      <td>2020-01-24</td>\n",
       "      <td>0</td>\n",
       "      <td>2</td>\n",
       "      <td>0.000498</td>\n",
       "      <td>0.003676</td>\n",
       "      <td>0.009469</td>\n",
       "    </tr>\n",
       "    <tr>\n",
       "      <th>3</th>\n",
       "      <td>Not specified</td>\n",
       "      <td>Afghanistan</td>\n",
       "      <td>33.0</td>\n",
       "      <td>65.0</td>\n",
       "      <td>2020-01-25</td>\n",
       "      <td>0</td>\n",
       "      <td>3</td>\n",
       "      <td>0.000498</td>\n",
       "      <td>0.003676</td>\n",
       "      <td>0.009469</td>\n",
       "    </tr>\n",
       "    <tr>\n",
       "      <th>4</th>\n",
       "      <td>Not specified</td>\n",
       "      <td>Afghanistan</td>\n",
       "      <td>33.0</td>\n",
       "      <td>65.0</td>\n",
       "      <td>2020-01-26</td>\n",
       "      <td>0</td>\n",
       "      <td>4</td>\n",
       "      <td>0.000498</td>\n",
       "      <td>0.003676</td>\n",
       "      <td>0.009469</td>\n",
       "    </tr>\n",
       "  </tbody>\n",
       "</table>\n",
       "</div>"
      ],
      "text/plain": [
       "  Province/State      Country  latitude  ...  Confirmed    Deaths  Recovered\n",
       "0  Not specified  Afghanistan      33.0  ...   0.000498  0.003676   0.009469\n",
       "1  Not specified  Afghanistan      33.0  ...   0.000498  0.003676   0.009469\n",
       "2  Not specified  Afghanistan      33.0  ...   0.000498  0.003676   0.009469\n",
       "3  Not specified  Afghanistan      33.0  ...   0.000498  0.003676   0.009469\n",
       "4  Not specified  Afghanistan      33.0  ...   0.000498  0.003676   0.009469\n",
       "\n",
       "[5 rows x 10 columns]"
      ]
     },
     "execution_count": 10,
     "metadata": {
      "tags": []
     },
     "output_type": "execute_result"
    }
   ],
   "source": [
    "train = {'Province/State':[],\n",
    "         'Country':[],\n",
    "         'latitude':[],\n",
    "         'longitude':[],\n",
    "         'Date':[],\n",
    "         'loc_id':[],\n",
    "         'Key':[],\n",
    "         'Confirmed':[],\n",
    "         'Deaths':[],\n",
    "         'Recovered':[]}\n",
    "for i in range(len(df)):\n",
    "    if df.iloc[i,4] in test_date:\n",
    "        train['Province/State'].append(df.iloc[i,0])\n",
    "        train['Country'].append(df.iloc[i,1])\n",
    "        train['latitude'].append(df.iloc[i,2])\n",
    "        train['longitude'].append(df.iloc[i,3])\n",
    "        train['Date'].append(df.iloc[i,4])\n",
    "        train['loc_id'].append(df.iloc[i,5])\n",
    "        train['Key'].append(df.iloc[i,6])\n",
    "        train['Confirmed'].append(df.iloc[i,7])\n",
    "        train['Deaths'].append(df.iloc[i,8])\n",
    "        train['Recovered'].append(df.iloc[i,9])\n",
    "\n",
    "train = pd.DataFrame(train)\n",
    "train.head()"
   ]
  },
  {
   "cell_type": "code",
   "execution_count": 11,
   "metadata": {
    "colab": {
     "base_uri": "https://localhost:8080/",
     "height": 34
    },
    "colab_type": "code",
    "id": "OL_toFBRdXD9",
    "outputId": "340be764-d207-4ebe-b939-502ccafaa6a6"
   },
   "outputs": [
    {
     "name": "stdout",
     "output_type": "stream",
     "text": [
      "No. of rows in train and test: 10578 7998\n"
     ]
    }
   ],
   "source": [
    "print('No. of rows in train and test:',train.shape[0], test.shape[0])"
   ]
  },
  {
   "cell_type": "code",
   "execution_count": 12,
   "metadata": {
    "colab": {
     "base_uri": "https://localhost:8080/",
     "height": 51
    },
    "colab_type": "code",
    "id": "aD1xa9mHdXEB",
    "outputId": "67723f12-41fb-4625-820d-f5cf7f128d84"
   },
   "outputs": [
    {
     "name": "stdout",
     "output_type": "stream",
     "text": [
      "Min date from train set: 2020-01-22\n",
      "Max date from train set: 2020-03-02\n"
     ]
    }
   ],
   "source": [
    "print('Min date from train set: %s' % train['Date'].min().date())\n",
    "print('Max date from train set: %s' % train['Date'].max().date())"
   ]
  },
  {
   "cell_type": "code",
   "execution_count": 13,
   "metadata": {
    "colab": {
     "base_uri": "https://localhost:8080/",
     "height": 68
    },
    "colab_type": "code",
    "id": "7h4gwtnvdXEF",
    "outputId": "20bd3ce1-540d-4650-bad9-c4bb41265f9f"
   },
   "outputs": [
    {
     "name": "stdout",
     "output_type": "stream",
     "text": [
      "Max date from train set: 2020-03-02\n",
      "Max date from test set: 2020-04-02\n",
      "Forecast lag size 31\n"
     ]
    }
   ],
   "source": [
    "lag_size = (test['Date'].max().date() - train['Date'].max().date()).days\n",
    "print('Max date from train set: %s' % train['Date'].max().date())\n",
    "print('Max date from test set: %s' % test['Date'].max().date())\n",
    "print('Forecast lag size', lag_size)"
   ]
  },
  {
   "cell_type": "code",
   "execution_count": 0,
   "metadata": {
    "colab": {},
    "colab_type": "code",
    "id": "q2yoVsNWdXEJ"
   },
   "outputs": [],
   "source": [
    "daily_confirmed = train.groupby('Date', as_index=False)['Confirmed'].sum()\n",
    "country_confirmed = train.groupby(['Country', 'Date'], as_index=False)['Confirmed'].sum()\n",
    "\n",
    "daily_death = train.groupby('Date', as_index=False)['Deaths'].sum()\n",
    "country_death = train.groupby(['Country', 'Date'], as_index=False)['Deaths'].sum()\n",
    "\n",
    "daily_recovered = train.groupby('Date', as_index=False)['Recovered'].sum()\n",
    "country_recovered = train.groupby(['Country', 'Date'], as_index=False)['Recovered'].sum()"
   ]
  },
  {
   "cell_type": "code",
   "execution_count": 15,
   "metadata": {
    "colab": {
     "base_uri": "https://localhost:8080/",
     "height": 204
    },
    "colab_type": "code",
    "id": "GBhosjtgdXEN",
    "outputId": "91c72279-f857-493b-f876-9ed39ebb5d60"
   },
   "outputs": [
    {
     "data": {
      "text/html": [
       "<div>\n",
       "<style scoped>\n",
       "    .dataframe tbody tr th:only-of-type {\n",
       "        vertical-align: middle;\n",
       "    }\n",
       "\n",
       "    .dataframe tbody tr th {\n",
       "        vertical-align: top;\n",
       "    }\n",
       "\n",
       "    .dataframe thead th {\n",
       "        text-align: right;\n",
       "    }\n",
       "</style>\n",
       "<table border=\"1\" class=\"dataframe\">\n",
       "  <thead>\n",
       "    <tr style=\"text-align: right;\">\n",
       "      <th></th>\n",
       "      <th>Country</th>\n",
       "      <th>Date</th>\n",
       "      <th>Confirmed</th>\n",
       "      <th>Deaths</th>\n",
       "      <th>Recovered</th>\n",
       "    </tr>\n",
       "  </thead>\n",
       "  <tbody>\n",
       "    <tr>\n",
       "      <th>0</th>\n",
       "      <td>0</td>\n",
       "      <td>2020-01-22</td>\n",
       "      <td>0.000498</td>\n",
       "      <td>0.003676</td>\n",
       "      <td>0.009469</td>\n",
       "    </tr>\n",
       "    <tr>\n",
       "      <th>1</th>\n",
       "      <td>0</td>\n",
       "      <td>2020-01-23</td>\n",
       "      <td>0.000498</td>\n",
       "      <td>0.003676</td>\n",
       "      <td>0.009469</td>\n",
       "    </tr>\n",
       "    <tr>\n",
       "      <th>2</th>\n",
       "      <td>0</td>\n",
       "      <td>2020-01-24</td>\n",
       "      <td>0.000498</td>\n",
       "      <td>0.003676</td>\n",
       "      <td>0.009469</td>\n",
       "    </tr>\n",
       "    <tr>\n",
       "      <th>3</th>\n",
       "      <td>0</td>\n",
       "      <td>2020-01-25</td>\n",
       "      <td>0.000498</td>\n",
       "      <td>0.003676</td>\n",
       "      <td>0.009469</td>\n",
       "    </tr>\n",
       "    <tr>\n",
       "      <th>4</th>\n",
       "      <td>0</td>\n",
       "      <td>2020-01-26</td>\n",
       "      <td>0.000498</td>\n",
       "      <td>0.003676</td>\n",
       "      <td>0.009469</td>\n",
       "    </tr>\n",
       "  </tbody>\n",
       "</table>\n",
       "</div>"
      ],
      "text/plain": [
       "   Country       Date  Confirmed    Deaths  Recovered\n",
       "0        0 2020-01-22   0.000498  0.003676   0.009469\n",
       "1        0 2020-01-23   0.000498  0.003676   0.009469\n",
       "2        0 2020-01-24   0.000498  0.003676   0.009469\n",
       "3        0 2020-01-25   0.000498  0.003676   0.009469\n",
       "4        0 2020-01-26   0.000498  0.003676   0.009469"
      ]
     },
     "execution_count": 15,
     "metadata": {
      "tags": []
     },
     "output_type": "execute_result"
    }
   ],
   "source": [
    "train_gp = train.sort_values('Date').groupby(['Country', 'Date'], as_index=False)\n",
    "train_gp = train_gp.agg({'Confirmed':['sum'],'Deaths':['sum'],'Recovered':['sum']})\n",
    "train_gp.columns = ['Country', 'Date', 'Confirmed','Deaths','Recovered']\n",
    "train_gp.head()\n",
    "le = LabelEncoder()\n",
    "train_gp['Country'] = le.fit_transform(train_gp['Country'])\n",
    "train_gp.head()"
   ]
  },
  {
   "cell_type": "code",
   "execution_count": 0,
   "metadata": {
    "colab": {},
    "colab_type": "code",
    "id": "67oJgBYUdXES"
   },
   "outputs": [],
   "source": [
    "def series_to_supervised(data, window=1, lag=1, dropnan=True):\n",
    "    cols, names = list(), list()\n",
    "\n",
    "    for i in range(window, 0, -1):\n",
    "        cols.append(data.shift(i))\n",
    "        names += [('%s(t-%d)' % (col, i)) for col in data.columns]\n",
    "\n",
    "    cols.append(data)\n",
    "    names += [('%s(t)' % (col)) for col in data.columns]\n",
    "\n",
    "    cols.append(data.shift(-lag))\n",
    "    names += [('%s(t+%d)' % (col, lag)) for col in data.columns]\n",
    "\n",
    "    agg = pd.concat(cols, axis=1)\n",
    "    agg.columns = names\n",
    "\n",
    "    if dropnan:\n",
    "        agg.dropna(inplace=True)\n",
    "    return agg"
   ]
  },
  {
   "cell_type": "code",
   "execution_count": 17,
   "metadata": {
    "colab": {
     "base_uri": "https://localhost:8080/",
     "height": 270
    },
    "colab_type": "code",
    "id": "pR7J6PM2dXEV",
    "outputId": "199cbb46-5148-4534-9248-9b68f0a9b69f"
   },
   "outputs": [
    {
     "data": {
      "text/html": [
       "<div>\n",
       "<style scoped>\n",
       "    .dataframe tbody tr th:only-of-type {\n",
       "        vertical-align: middle;\n",
       "    }\n",
       "\n",
       "    .dataframe tbody tr th {\n",
       "        vertical-align: top;\n",
       "    }\n",
       "\n",
       "    .dataframe thead th {\n",
       "        text-align: right;\n",
       "    }\n",
       "</style>\n",
       "<table border=\"1\" class=\"dataframe\">\n",
       "  <thead>\n",
       "    <tr style=\"text-align: right;\">\n",
       "      <th></th>\n",
       "      <th>Country(t-30)</th>\n",
       "      <th>Confirmed(t-30)</th>\n",
       "      <th>Deaths(t-30)</th>\n",
       "      <th>Recovered(t-30)</th>\n",
       "      <th>Country(t-29)</th>\n",
       "      <th>Confirmed(t-29)</th>\n",
       "      <th>Deaths(t-29)</th>\n",
       "      <th>Recovered(t-29)</th>\n",
       "      <th>Country(t-28)</th>\n",
       "      <th>Confirmed(t-28)</th>\n",
       "      <th>Deaths(t-28)</th>\n",
       "      <th>Recovered(t-28)</th>\n",
       "      <th>Country(t-27)</th>\n",
       "      <th>Confirmed(t-27)</th>\n",
       "      <th>Deaths(t-27)</th>\n",
       "      <th>Recovered(t-27)</th>\n",
       "      <th>Country(t-26)</th>\n",
       "      <th>Confirmed(t-26)</th>\n",
       "      <th>Deaths(t-26)</th>\n",
       "      <th>Recovered(t-26)</th>\n",
       "      <th>Country(t-25)</th>\n",
       "      <th>Confirmed(t-25)</th>\n",
       "      <th>Deaths(t-25)</th>\n",
       "      <th>Recovered(t-25)</th>\n",
       "      <th>Country(t-24)</th>\n",
       "      <th>Confirmed(t-24)</th>\n",
       "      <th>Deaths(t-24)</th>\n",
       "      <th>Recovered(t-24)</th>\n",
       "      <th>Country(t-23)</th>\n",
       "      <th>Confirmed(t-23)</th>\n",
       "      <th>Deaths(t-23)</th>\n",
       "      <th>Recovered(t-23)</th>\n",
       "      <th>Country(t-22)</th>\n",
       "      <th>Confirmed(t-22)</th>\n",
       "      <th>Deaths(t-22)</th>\n",
       "      <th>Recovered(t-22)</th>\n",
       "      <th>Country(t-21)</th>\n",
       "      <th>Confirmed(t-21)</th>\n",
       "      <th>Deaths(t-21)</th>\n",
       "      <th>Recovered(t-21)</th>\n",
       "      <th>...</th>\n",
       "      <th>Country(t-8)</th>\n",
       "      <th>Confirmed(t-8)</th>\n",
       "      <th>Deaths(t-8)</th>\n",
       "      <th>Recovered(t-8)</th>\n",
       "      <th>Country(t-7)</th>\n",
       "      <th>Confirmed(t-7)</th>\n",
       "      <th>Deaths(t-7)</th>\n",
       "      <th>Recovered(t-7)</th>\n",
       "      <th>Country(t-6)</th>\n",
       "      <th>Confirmed(t-6)</th>\n",
       "      <th>Deaths(t-6)</th>\n",
       "      <th>Recovered(t-6)</th>\n",
       "      <th>Country(t-5)</th>\n",
       "      <th>Confirmed(t-5)</th>\n",
       "      <th>Deaths(t-5)</th>\n",
       "      <th>Recovered(t-5)</th>\n",
       "      <th>Country(t-4)</th>\n",
       "      <th>Confirmed(t-4)</th>\n",
       "      <th>Deaths(t-4)</th>\n",
       "      <th>Recovered(t-4)</th>\n",
       "      <th>Country(t-3)</th>\n",
       "      <th>Confirmed(t-3)</th>\n",
       "      <th>Deaths(t-3)</th>\n",
       "      <th>Recovered(t-3)</th>\n",
       "      <th>Country(t-2)</th>\n",
       "      <th>Confirmed(t-2)</th>\n",
       "      <th>Deaths(t-2)</th>\n",
       "      <th>Recovered(t-2)</th>\n",
       "      <th>Country(t-1)</th>\n",
       "      <th>Confirmed(t-1)</th>\n",
       "      <th>Deaths(t-1)</th>\n",
       "      <th>Recovered(t-1)</th>\n",
       "      <th>Country(t)</th>\n",
       "      <th>Confirmed(t)</th>\n",
       "      <th>Deaths(t)</th>\n",
       "      <th>Recovered(t)</th>\n",
       "      <th>Country(t+31)</th>\n",
       "      <th>Confirmed(t+31)</th>\n",
       "      <th>Deaths(t+31)</th>\n",
       "      <th>Recovered(t+31)</th>\n",
       "    </tr>\n",
       "  </thead>\n",
       "  <tbody>\n",
       "    <tr>\n",
       "      <th>30</th>\n",
       "      <td>0.0</td>\n",
       "      <td>0.000498</td>\n",
       "      <td>0.003676</td>\n",
       "      <td>0.009469</td>\n",
       "      <td>0.0</td>\n",
       "      <td>0.000498</td>\n",
       "      <td>0.003676</td>\n",
       "      <td>0.009469</td>\n",
       "      <td>0.0</td>\n",
       "      <td>0.000498</td>\n",
       "      <td>0.003676</td>\n",
       "      <td>0.009469</td>\n",
       "      <td>0.0</td>\n",
       "      <td>0.000498</td>\n",
       "      <td>0.003676</td>\n",
       "      <td>0.009469</td>\n",
       "      <td>0.0</td>\n",
       "      <td>0.000498</td>\n",
       "      <td>0.003676</td>\n",
       "      <td>0.009469</td>\n",
       "      <td>0.0</td>\n",
       "      <td>0.000498</td>\n",
       "      <td>0.003676</td>\n",
       "      <td>0.009469</td>\n",
       "      <td>0.0</td>\n",
       "      <td>0.000498</td>\n",
       "      <td>0.003676</td>\n",
       "      <td>0.009469</td>\n",
       "      <td>0.0</td>\n",
       "      <td>0.000498</td>\n",
       "      <td>0.003676</td>\n",
       "      <td>0.009469</td>\n",
       "      <td>0.0</td>\n",
       "      <td>0.000498</td>\n",
       "      <td>0.003676</td>\n",
       "      <td>0.009469</td>\n",
       "      <td>0.0</td>\n",
       "      <td>0.000498</td>\n",
       "      <td>0.003676</td>\n",
       "      <td>0.009469</td>\n",
       "      <td>...</td>\n",
       "      <td>0.0</td>\n",
       "      <td>0.000498</td>\n",
       "      <td>0.003676</td>\n",
       "      <td>0.009469</td>\n",
       "      <td>0.0</td>\n",
       "      <td>0.000498</td>\n",
       "      <td>0.003676</td>\n",
       "      <td>0.009469</td>\n",
       "      <td>0.0</td>\n",
       "      <td>0.000498</td>\n",
       "      <td>0.003676</td>\n",
       "      <td>0.009469</td>\n",
       "      <td>0.0</td>\n",
       "      <td>0.000498</td>\n",
       "      <td>0.003676</td>\n",
       "      <td>0.009469</td>\n",
       "      <td>0.0</td>\n",
       "      <td>0.000498</td>\n",
       "      <td>0.003676</td>\n",
       "      <td>0.009469</td>\n",
       "      <td>0.0</td>\n",
       "      <td>0.000498</td>\n",
       "      <td>0.003676</td>\n",
       "      <td>0.009469</td>\n",
       "      <td>0.0</td>\n",
       "      <td>0.000498</td>\n",
       "      <td>0.003676</td>\n",
       "      <td>0.009469</td>\n",
       "      <td>0.0</td>\n",
       "      <td>0.000498</td>\n",
       "      <td>0.003676</td>\n",
       "      <td>0.009469</td>\n",
       "      <td>0</td>\n",
       "      <td>0.000498</td>\n",
       "      <td>0.003676</td>\n",
       "      <td>0.009469</td>\n",
       "      <td>1.0</td>\n",
       "      <td>0.000498</td>\n",
       "      <td>0.003676</td>\n",
       "      <td>0.009469</td>\n",
       "    </tr>\n",
       "    <tr>\n",
       "      <th>31</th>\n",
       "      <td>0.0</td>\n",
       "      <td>0.000498</td>\n",
       "      <td>0.003676</td>\n",
       "      <td>0.009469</td>\n",
       "      <td>0.0</td>\n",
       "      <td>0.000498</td>\n",
       "      <td>0.003676</td>\n",
       "      <td>0.009469</td>\n",
       "      <td>0.0</td>\n",
       "      <td>0.000498</td>\n",
       "      <td>0.003676</td>\n",
       "      <td>0.009469</td>\n",
       "      <td>0.0</td>\n",
       "      <td>0.000498</td>\n",
       "      <td>0.003676</td>\n",
       "      <td>0.009469</td>\n",
       "      <td>0.0</td>\n",
       "      <td>0.000498</td>\n",
       "      <td>0.003676</td>\n",
       "      <td>0.009469</td>\n",
       "      <td>0.0</td>\n",
       "      <td>0.000498</td>\n",
       "      <td>0.003676</td>\n",
       "      <td>0.009469</td>\n",
       "      <td>0.0</td>\n",
       "      <td>0.000498</td>\n",
       "      <td>0.003676</td>\n",
       "      <td>0.009469</td>\n",
       "      <td>0.0</td>\n",
       "      <td>0.000498</td>\n",
       "      <td>0.003676</td>\n",
       "      <td>0.009469</td>\n",
       "      <td>0.0</td>\n",
       "      <td>0.000498</td>\n",
       "      <td>0.003676</td>\n",
       "      <td>0.009469</td>\n",
       "      <td>0.0</td>\n",
       "      <td>0.000498</td>\n",
       "      <td>0.003676</td>\n",
       "      <td>0.009469</td>\n",
       "      <td>...</td>\n",
       "      <td>0.0</td>\n",
       "      <td>0.000498</td>\n",
       "      <td>0.003676</td>\n",
       "      <td>0.009469</td>\n",
       "      <td>0.0</td>\n",
       "      <td>0.000498</td>\n",
       "      <td>0.003676</td>\n",
       "      <td>0.009469</td>\n",
       "      <td>0.0</td>\n",
       "      <td>0.000498</td>\n",
       "      <td>0.003676</td>\n",
       "      <td>0.009469</td>\n",
       "      <td>0.0</td>\n",
       "      <td>0.000498</td>\n",
       "      <td>0.003676</td>\n",
       "      <td>0.009469</td>\n",
       "      <td>0.0</td>\n",
       "      <td>0.000498</td>\n",
       "      <td>0.003676</td>\n",
       "      <td>0.009469</td>\n",
       "      <td>0.0</td>\n",
       "      <td>0.000498</td>\n",
       "      <td>0.003676</td>\n",
       "      <td>0.009469</td>\n",
       "      <td>0.0</td>\n",
       "      <td>0.000498</td>\n",
       "      <td>0.003676</td>\n",
       "      <td>0.009469</td>\n",
       "      <td>0.0</td>\n",
       "      <td>0.000498</td>\n",
       "      <td>0.003676</td>\n",
       "      <td>0.009469</td>\n",
       "      <td>0</td>\n",
       "      <td>0.000498</td>\n",
       "      <td>0.003676</td>\n",
       "      <td>0.009469</td>\n",
       "      <td>1.0</td>\n",
       "      <td>0.000498</td>\n",
       "      <td>0.003676</td>\n",
       "      <td>0.009469</td>\n",
       "    </tr>\n",
       "    <tr>\n",
       "      <th>32</th>\n",
       "      <td>0.0</td>\n",
       "      <td>0.000498</td>\n",
       "      <td>0.003676</td>\n",
       "      <td>0.009469</td>\n",
       "      <td>0.0</td>\n",
       "      <td>0.000498</td>\n",
       "      <td>0.003676</td>\n",
       "      <td>0.009469</td>\n",
       "      <td>0.0</td>\n",
       "      <td>0.000498</td>\n",
       "      <td>0.003676</td>\n",
       "      <td>0.009469</td>\n",
       "      <td>0.0</td>\n",
       "      <td>0.000498</td>\n",
       "      <td>0.003676</td>\n",
       "      <td>0.009469</td>\n",
       "      <td>0.0</td>\n",
       "      <td>0.000498</td>\n",
       "      <td>0.003676</td>\n",
       "      <td>0.009469</td>\n",
       "      <td>0.0</td>\n",
       "      <td>0.000498</td>\n",
       "      <td>0.003676</td>\n",
       "      <td>0.009469</td>\n",
       "      <td>0.0</td>\n",
       "      <td>0.000498</td>\n",
       "      <td>0.003676</td>\n",
       "      <td>0.009469</td>\n",
       "      <td>0.0</td>\n",
       "      <td>0.000498</td>\n",
       "      <td>0.003676</td>\n",
       "      <td>0.009469</td>\n",
       "      <td>0.0</td>\n",
       "      <td>0.000498</td>\n",
       "      <td>0.003676</td>\n",
       "      <td>0.009469</td>\n",
       "      <td>0.0</td>\n",
       "      <td>0.000498</td>\n",
       "      <td>0.003676</td>\n",
       "      <td>0.009469</td>\n",
       "      <td>...</td>\n",
       "      <td>0.0</td>\n",
       "      <td>0.000498</td>\n",
       "      <td>0.003676</td>\n",
       "      <td>0.009469</td>\n",
       "      <td>0.0</td>\n",
       "      <td>0.000498</td>\n",
       "      <td>0.003676</td>\n",
       "      <td>0.009469</td>\n",
       "      <td>0.0</td>\n",
       "      <td>0.000498</td>\n",
       "      <td>0.003676</td>\n",
       "      <td>0.009469</td>\n",
       "      <td>0.0</td>\n",
       "      <td>0.000498</td>\n",
       "      <td>0.003676</td>\n",
       "      <td>0.009469</td>\n",
       "      <td>0.0</td>\n",
       "      <td>0.000498</td>\n",
       "      <td>0.003676</td>\n",
       "      <td>0.009469</td>\n",
       "      <td>0.0</td>\n",
       "      <td>0.000498</td>\n",
       "      <td>0.003676</td>\n",
       "      <td>0.009469</td>\n",
       "      <td>0.0</td>\n",
       "      <td>0.000498</td>\n",
       "      <td>0.003676</td>\n",
       "      <td>0.009469</td>\n",
       "      <td>0.0</td>\n",
       "      <td>0.000498</td>\n",
       "      <td>0.003676</td>\n",
       "      <td>0.009469</td>\n",
       "      <td>0</td>\n",
       "      <td>0.000498</td>\n",
       "      <td>0.003676</td>\n",
       "      <td>0.009469</td>\n",
       "      <td>1.0</td>\n",
       "      <td>0.000498</td>\n",
       "      <td>0.003676</td>\n",
       "      <td>0.009469</td>\n",
       "    </tr>\n",
       "    <tr>\n",
       "      <th>33</th>\n",
       "      <td>0.0</td>\n",
       "      <td>0.000498</td>\n",
       "      <td>0.003676</td>\n",
       "      <td>0.009469</td>\n",
       "      <td>0.0</td>\n",
       "      <td>0.000498</td>\n",
       "      <td>0.003676</td>\n",
       "      <td>0.009469</td>\n",
       "      <td>0.0</td>\n",
       "      <td>0.000498</td>\n",
       "      <td>0.003676</td>\n",
       "      <td>0.009469</td>\n",
       "      <td>0.0</td>\n",
       "      <td>0.000498</td>\n",
       "      <td>0.003676</td>\n",
       "      <td>0.009469</td>\n",
       "      <td>0.0</td>\n",
       "      <td>0.000498</td>\n",
       "      <td>0.003676</td>\n",
       "      <td>0.009469</td>\n",
       "      <td>0.0</td>\n",
       "      <td>0.000498</td>\n",
       "      <td>0.003676</td>\n",
       "      <td>0.009469</td>\n",
       "      <td>0.0</td>\n",
       "      <td>0.000498</td>\n",
       "      <td>0.003676</td>\n",
       "      <td>0.009469</td>\n",
       "      <td>0.0</td>\n",
       "      <td>0.000498</td>\n",
       "      <td>0.003676</td>\n",
       "      <td>0.009469</td>\n",
       "      <td>0.0</td>\n",
       "      <td>0.000498</td>\n",
       "      <td>0.003676</td>\n",
       "      <td>0.009469</td>\n",
       "      <td>0.0</td>\n",
       "      <td>0.000498</td>\n",
       "      <td>0.003676</td>\n",
       "      <td>0.009469</td>\n",
       "      <td>...</td>\n",
       "      <td>0.0</td>\n",
       "      <td>0.000498</td>\n",
       "      <td>0.003676</td>\n",
       "      <td>0.009469</td>\n",
       "      <td>0.0</td>\n",
       "      <td>0.000498</td>\n",
       "      <td>0.003676</td>\n",
       "      <td>0.009469</td>\n",
       "      <td>0.0</td>\n",
       "      <td>0.000498</td>\n",
       "      <td>0.003676</td>\n",
       "      <td>0.009469</td>\n",
       "      <td>0.0</td>\n",
       "      <td>0.000498</td>\n",
       "      <td>0.003676</td>\n",
       "      <td>0.009469</td>\n",
       "      <td>0.0</td>\n",
       "      <td>0.000498</td>\n",
       "      <td>0.003676</td>\n",
       "      <td>0.009469</td>\n",
       "      <td>0.0</td>\n",
       "      <td>0.000498</td>\n",
       "      <td>0.003676</td>\n",
       "      <td>0.009469</td>\n",
       "      <td>0.0</td>\n",
       "      <td>0.000498</td>\n",
       "      <td>0.003676</td>\n",
       "      <td>0.009469</td>\n",
       "      <td>0.0</td>\n",
       "      <td>0.000498</td>\n",
       "      <td>0.003676</td>\n",
       "      <td>0.009469</td>\n",
       "      <td>0</td>\n",
       "      <td>0.000532</td>\n",
       "      <td>0.003676</td>\n",
       "      <td>0.009469</td>\n",
       "      <td>1.0</td>\n",
       "      <td>0.000498</td>\n",
       "      <td>0.003676</td>\n",
       "      <td>0.009469</td>\n",
       "    </tr>\n",
       "    <tr>\n",
       "      <th>34</th>\n",
       "      <td>0.0</td>\n",
       "      <td>0.000498</td>\n",
       "      <td>0.003676</td>\n",
       "      <td>0.009469</td>\n",
       "      <td>0.0</td>\n",
       "      <td>0.000498</td>\n",
       "      <td>0.003676</td>\n",
       "      <td>0.009469</td>\n",
       "      <td>0.0</td>\n",
       "      <td>0.000498</td>\n",
       "      <td>0.003676</td>\n",
       "      <td>0.009469</td>\n",
       "      <td>0.0</td>\n",
       "      <td>0.000498</td>\n",
       "      <td>0.003676</td>\n",
       "      <td>0.009469</td>\n",
       "      <td>0.0</td>\n",
       "      <td>0.000498</td>\n",
       "      <td>0.003676</td>\n",
       "      <td>0.009469</td>\n",
       "      <td>0.0</td>\n",
       "      <td>0.000498</td>\n",
       "      <td>0.003676</td>\n",
       "      <td>0.009469</td>\n",
       "      <td>0.0</td>\n",
       "      <td>0.000498</td>\n",
       "      <td>0.003676</td>\n",
       "      <td>0.009469</td>\n",
       "      <td>0.0</td>\n",
       "      <td>0.000498</td>\n",
       "      <td>0.003676</td>\n",
       "      <td>0.009469</td>\n",
       "      <td>0.0</td>\n",
       "      <td>0.000498</td>\n",
       "      <td>0.003676</td>\n",
       "      <td>0.009469</td>\n",
       "      <td>0.0</td>\n",
       "      <td>0.000498</td>\n",
       "      <td>0.003676</td>\n",
       "      <td>0.009469</td>\n",
       "      <td>...</td>\n",
       "      <td>0.0</td>\n",
       "      <td>0.000498</td>\n",
       "      <td>0.003676</td>\n",
       "      <td>0.009469</td>\n",
       "      <td>0.0</td>\n",
       "      <td>0.000498</td>\n",
       "      <td>0.003676</td>\n",
       "      <td>0.009469</td>\n",
       "      <td>0.0</td>\n",
       "      <td>0.000498</td>\n",
       "      <td>0.003676</td>\n",
       "      <td>0.009469</td>\n",
       "      <td>0.0</td>\n",
       "      <td>0.000498</td>\n",
       "      <td>0.003676</td>\n",
       "      <td>0.009469</td>\n",
       "      <td>0.0</td>\n",
       "      <td>0.000498</td>\n",
       "      <td>0.003676</td>\n",
       "      <td>0.009469</td>\n",
       "      <td>0.0</td>\n",
       "      <td>0.000498</td>\n",
       "      <td>0.003676</td>\n",
       "      <td>0.009469</td>\n",
       "      <td>0.0</td>\n",
       "      <td>0.000498</td>\n",
       "      <td>0.003676</td>\n",
       "      <td>0.009469</td>\n",
       "      <td>0.0</td>\n",
       "      <td>0.000532</td>\n",
       "      <td>0.003676</td>\n",
       "      <td>0.009469</td>\n",
       "      <td>0</td>\n",
       "      <td>0.000498</td>\n",
       "      <td>0.003676</td>\n",
       "      <td>0.009469</td>\n",
       "      <td>1.0</td>\n",
       "      <td>0.000498</td>\n",
       "      <td>0.003676</td>\n",
       "      <td>0.009469</td>\n",
       "    </tr>\n",
       "  </tbody>\n",
       "</table>\n",
       "<p>5 rows × 128 columns</p>\n",
       "</div>"
      ],
      "text/plain": [
       "    Country(t-30)  Confirmed(t-30)  ...  Deaths(t+31)  Recovered(t+31)\n",
       "30            0.0         0.000498  ...      0.003676         0.009469\n",
       "31            0.0         0.000498  ...      0.003676         0.009469\n",
       "32            0.0         0.000498  ...      0.003676         0.009469\n",
       "33            0.0         0.000498  ...      0.003676         0.009469\n",
       "34            0.0         0.000498  ...      0.003676         0.009469\n",
       "\n",
       "[5 rows x 128 columns]"
      ]
     },
     "execution_count": 17,
     "metadata": {
      "tags": []
     },
     "output_type": "execute_result"
    }
   ],
   "source": [
    "window = 30\n",
    "lag = lag_size\n",
    "series = series_to_supervised(train_gp.drop('Date', axis=1), window=window, lag=lag)\n",
    "series.head()"
   ]
  },
  {
   "cell_type": "code",
   "execution_count": 0,
   "metadata": {
    "colab": {},
    "colab_type": "code",
    "id": "cVR8fLOSdXEY"
   },
   "outputs": [],
   "source": [
    "last_country = 'Country(t-%d)' % window\n",
    "series = series[(series['Country(t)'] == series[last_country])]"
   ]
  },
  {
   "cell_type": "code",
   "execution_count": 0,
   "metadata": {
    "colab": {},
    "colab_type": "code",
    "id": "PuUbOlDxdXEc"
   },
   "outputs": [],
   "source": [
    "columns_to_drop = [('%s(t+%d)' % (col, lag)) for col in ['Recovered','Deaths']]\n",
    "for i in range(window, 0, -1):\n",
    "    columns_to_drop += [('%s(t-%d)' % (col, i)) for col in ['Deaths','Recovered']]\n",
    "series.drop(columns_to_drop, axis=1, inplace=True)\n",
    "series.drop(['Recovered(t)'], axis=1, inplace=True)\n",
    "series.drop(['Deaths(t)'],axis = 1, inplace=True)"
   ]
  },
  {
   "cell_type": "code",
   "execution_count": 20,
   "metadata": {
    "colab": {
     "base_uri": "https://localhost:8080/",
     "height": 241
    },
    "colab_type": "code",
    "id": "ldk6K1RudXEh",
    "outputId": "a10c9f1f-d679-4093-ec93-a3c21513156d",
    "scrolled": true
   },
   "outputs": [
    {
     "data": {
      "text/html": [
       "<div>\n",
       "<style scoped>\n",
       "    .dataframe tbody tr th:only-of-type {\n",
       "        vertical-align: middle;\n",
       "    }\n",
       "\n",
       "    .dataframe tbody tr th {\n",
       "        vertical-align: top;\n",
       "    }\n",
       "\n",
       "    .dataframe thead th {\n",
       "        text-align: right;\n",
       "    }\n",
       "</style>\n",
       "<table border=\"1\" class=\"dataframe\">\n",
       "  <thead>\n",
       "    <tr style=\"text-align: right;\">\n",
       "      <th></th>\n",
       "      <th>Country(t-30)</th>\n",
       "      <th>Confirmed(t-30)</th>\n",
       "      <th>Country(t-29)</th>\n",
       "      <th>Confirmed(t-29)</th>\n",
       "      <th>Country(t-28)</th>\n",
       "      <th>Confirmed(t-28)</th>\n",
       "      <th>Country(t-27)</th>\n",
       "      <th>Confirmed(t-27)</th>\n",
       "      <th>Country(t-26)</th>\n",
       "      <th>Confirmed(t-26)</th>\n",
       "      <th>Country(t-25)</th>\n",
       "      <th>Confirmed(t-25)</th>\n",
       "      <th>Country(t-24)</th>\n",
       "      <th>Confirmed(t-24)</th>\n",
       "      <th>Country(t-23)</th>\n",
       "      <th>Confirmed(t-23)</th>\n",
       "      <th>Country(t-22)</th>\n",
       "      <th>Confirmed(t-22)</th>\n",
       "      <th>Country(t-21)</th>\n",
       "      <th>Confirmed(t-21)</th>\n",
       "      <th>Country(t-20)</th>\n",
       "      <th>Confirmed(t-20)</th>\n",
       "      <th>Country(t-19)</th>\n",
       "      <th>Confirmed(t-19)</th>\n",
       "      <th>Country(t-18)</th>\n",
       "      <th>Confirmed(t-18)</th>\n",
       "      <th>Country(t-17)</th>\n",
       "      <th>Confirmed(t-17)</th>\n",
       "      <th>Country(t-16)</th>\n",
       "      <th>Confirmed(t-16)</th>\n",
       "      <th>Country(t-15)</th>\n",
       "      <th>Confirmed(t-15)</th>\n",
       "      <th>Country(t-14)</th>\n",
       "      <th>Confirmed(t-14)</th>\n",
       "      <th>Country(t-13)</th>\n",
       "      <th>Confirmed(t-13)</th>\n",
       "      <th>Country(t-12)</th>\n",
       "      <th>Confirmed(t-12)</th>\n",
       "      <th>Country(t-11)</th>\n",
       "      <th>Confirmed(t-11)</th>\n",
       "      <th>Country(t-10)</th>\n",
       "      <th>Confirmed(t-10)</th>\n",
       "      <th>Country(t-9)</th>\n",
       "      <th>Confirmed(t-9)</th>\n",
       "      <th>Country(t-8)</th>\n",
       "      <th>Confirmed(t-8)</th>\n",
       "      <th>Country(t-7)</th>\n",
       "      <th>Confirmed(t-7)</th>\n",
       "      <th>Country(t-6)</th>\n",
       "      <th>Confirmed(t-6)</th>\n",
       "      <th>Country(t-5)</th>\n",
       "      <th>Confirmed(t-5)</th>\n",
       "      <th>Country(t-4)</th>\n",
       "      <th>Confirmed(t-4)</th>\n",
       "      <th>Country(t-3)</th>\n",
       "      <th>Confirmed(t-3)</th>\n",
       "      <th>Country(t-2)</th>\n",
       "      <th>Confirmed(t-2)</th>\n",
       "      <th>Country(t-1)</th>\n",
       "      <th>Confirmed(t-1)</th>\n",
       "      <th>Country(t)</th>\n",
       "      <th>Confirmed(t)</th>\n",
       "      <th>Country(t+31)</th>\n",
       "      <th>Confirmed(t+31)</th>\n",
       "    </tr>\n",
       "  </thead>\n",
       "  <tbody>\n",
       "    <tr>\n",
       "      <th>30</th>\n",
       "      <td>0.0</td>\n",
       "      <td>0.000498</td>\n",
       "      <td>0.0</td>\n",
       "      <td>0.000498</td>\n",
       "      <td>0.0</td>\n",
       "      <td>0.000498</td>\n",
       "      <td>0.0</td>\n",
       "      <td>0.000498</td>\n",
       "      <td>0.0</td>\n",
       "      <td>0.000498</td>\n",
       "      <td>0.0</td>\n",
       "      <td>0.000498</td>\n",
       "      <td>0.0</td>\n",
       "      <td>0.000498</td>\n",
       "      <td>0.0</td>\n",
       "      <td>0.000498</td>\n",
       "      <td>0.0</td>\n",
       "      <td>0.000498</td>\n",
       "      <td>0.0</td>\n",
       "      <td>0.000498</td>\n",
       "      <td>0.0</td>\n",
       "      <td>0.000498</td>\n",
       "      <td>0.0</td>\n",
       "      <td>0.000498</td>\n",
       "      <td>0.0</td>\n",
       "      <td>0.000498</td>\n",
       "      <td>0.0</td>\n",
       "      <td>0.000498</td>\n",
       "      <td>0.0</td>\n",
       "      <td>0.000498</td>\n",
       "      <td>0.0</td>\n",
       "      <td>0.000498</td>\n",
       "      <td>0.0</td>\n",
       "      <td>0.000498</td>\n",
       "      <td>0.0</td>\n",
       "      <td>0.000498</td>\n",
       "      <td>0.0</td>\n",
       "      <td>0.000498</td>\n",
       "      <td>0.0</td>\n",
       "      <td>0.000498</td>\n",
       "      <td>0.0</td>\n",
       "      <td>0.000498</td>\n",
       "      <td>0.0</td>\n",
       "      <td>0.000498</td>\n",
       "      <td>0.0</td>\n",
       "      <td>0.000498</td>\n",
       "      <td>0.0</td>\n",
       "      <td>0.000498</td>\n",
       "      <td>0.0</td>\n",
       "      <td>0.000498</td>\n",
       "      <td>0.0</td>\n",
       "      <td>0.000498</td>\n",
       "      <td>0.0</td>\n",
       "      <td>0.000498</td>\n",
       "      <td>0.0</td>\n",
       "      <td>0.000498</td>\n",
       "      <td>0.0</td>\n",
       "      <td>0.000498</td>\n",
       "      <td>0.0</td>\n",
       "      <td>0.000498</td>\n",
       "      <td>0</td>\n",
       "      <td>0.000498</td>\n",
       "      <td>1.0</td>\n",
       "      <td>0.000498</td>\n",
       "    </tr>\n",
       "    <tr>\n",
       "      <th>31</th>\n",
       "      <td>0.0</td>\n",
       "      <td>0.000498</td>\n",
       "      <td>0.0</td>\n",
       "      <td>0.000498</td>\n",
       "      <td>0.0</td>\n",
       "      <td>0.000498</td>\n",
       "      <td>0.0</td>\n",
       "      <td>0.000498</td>\n",
       "      <td>0.0</td>\n",
       "      <td>0.000498</td>\n",
       "      <td>0.0</td>\n",
       "      <td>0.000498</td>\n",
       "      <td>0.0</td>\n",
       "      <td>0.000498</td>\n",
       "      <td>0.0</td>\n",
       "      <td>0.000498</td>\n",
       "      <td>0.0</td>\n",
       "      <td>0.000498</td>\n",
       "      <td>0.0</td>\n",
       "      <td>0.000498</td>\n",
       "      <td>0.0</td>\n",
       "      <td>0.000498</td>\n",
       "      <td>0.0</td>\n",
       "      <td>0.000498</td>\n",
       "      <td>0.0</td>\n",
       "      <td>0.000498</td>\n",
       "      <td>0.0</td>\n",
       "      <td>0.000498</td>\n",
       "      <td>0.0</td>\n",
       "      <td>0.000498</td>\n",
       "      <td>0.0</td>\n",
       "      <td>0.000498</td>\n",
       "      <td>0.0</td>\n",
       "      <td>0.000498</td>\n",
       "      <td>0.0</td>\n",
       "      <td>0.000498</td>\n",
       "      <td>0.0</td>\n",
       "      <td>0.000498</td>\n",
       "      <td>0.0</td>\n",
       "      <td>0.000498</td>\n",
       "      <td>0.0</td>\n",
       "      <td>0.000498</td>\n",
       "      <td>0.0</td>\n",
       "      <td>0.000498</td>\n",
       "      <td>0.0</td>\n",
       "      <td>0.000498</td>\n",
       "      <td>0.0</td>\n",
       "      <td>0.000498</td>\n",
       "      <td>0.0</td>\n",
       "      <td>0.000498</td>\n",
       "      <td>0.0</td>\n",
       "      <td>0.000498</td>\n",
       "      <td>0.0</td>\n",
       "      <td>0.000498</td>\n",
       "      <td>0.0</td>\n",
       "      <td>0.000498</td>\n",
       "      <td>0.0</td>\n",
       "      <td>0.000498</td>\n",
       "      <td>0.0</td>\n",
       "      <td>0.000498</td>\n",
       "      <td>0</td>\n",
       "      <td>0.000498</td>\n",
       "      <td>1.0</td>\n",
       "      <td>0.000498</td>\n",
       "    </tr>\n",
       "    <tr>\n",
       "      <th>32</th>\n",
       "      <td>0.0</td>\n",
       "      <td>0.000498</td>\n",
       "      <td>0.0</td>\n",
       "      <td>0.000498</td>\n",
       "      <td>0.0</td>\n",
       "      <td>0.000498</td>\n",
       "      <td>0.0</td>\n",
       "      <td>0.000498</td>\n",
       "      <td>0.0</td>\n",
       "      <td>0.000498</td>\n",
       "      <td>0.0</td>\n",
       "      <td>0.000498</td>\n",
       "      <td>0.0</td>\n",
       "      <td>0.000498</td>\n",
       "      <td>0.0</td>\n",
       "      <td>0.000498</td>\n",
       "      <td>0.0</td>\n",
       "      <td>0.000498</td>\n",
       "      <td>0.0</td>\n",
       "      <td>0.000498</td>\n",
       "      <td>0.0</td>\n",
       "      <td>0.000498</td>\n",
       "      <td>0.0</td>\n",
       "      <td>0.000498</td>\n",
       "      <td>0.0</td>\n",
       "      <td>0.000498</td>\n",
       "      <td>0.0</td>\n",
       "      <td>0.000498</td>\n",
       "      <td>0.0</td>\n",
       "      <td>0.000498</td>\n",
       "      <td>0.0</td>\n",
       "      <td>0.000498</td>\n",
       "      <td>0.0</td>\n",
       "      <td>0.000498</td>\n",
       "      <td>0.0</td>\n",
       "      <td>0.000498</td>\n",
       "      <td>0.0</td>\n",
       "      <td>0.000498</td>\n",
       "      <td>0.0</td>\n",
       "      <td>0.000498</td>\n",
       "      <td>0.0</td>\n",
       "      <td>0.000498</td>\n",
       "      <td>0.0</td>\n",
       "      <td>0.000498</td>\n",
       "      <td>0.0</td>\n",
       "      <td>0.000498</td>\n",
       "      <td>0.0</td>\n",
       "      <td>0.000498</td>\n",
       "      <td>0.0</td>\n",
       "      <td>0.000498</td>\n",
       "      <td>0.0</td>\n",
       "      <td>0.000498</td>\n",
       "      <td>0.0</td>\n",
       "      <td>0.000498</td>\n",
       "      <td>0.0</td>\n",
       "      <td>0.000498</td>\n",
       "      <td>0.0</td>\n",
       "      <td>0.000498</td>\n",
       "      <td>0.0</td>\n",
       "      <td>0.000498</td>\n",
       "      <td>0</td>\n",
       "      <td>0.000498</td>\n",
       "      <td>1.0</td>\n",
       "      <td>0.000498</td>\n",
       "    </tr>\n",
       "    <tr>\n",
       "      <th>33</th>\n",
       "      <td>0.0</td>\n",
       "      <td>0.000498</td>\n",
       "      <td>0.0</td>\n",
       "      <td>0.000498</td>\n",
       "      <td>0.0</td>\n",
       "      <td>0.000498</td>\n",
       "      <td>0.0</td>\n",
       "      <td>0.000498</td>\n",
       "      <td>0.0</td>\n",
       "      <td>0.000498</td>\n",
       "      <td>0.0</td>\n",
       "      <td>0.000498</td>\n",
       "      <td>0.0</td>\n",
       "      <td>0.000498</td>\n",
       "      <td>0.0</td>\n",
       "      <td>0.000498</td>\n",
       "      <td>0.0</td>\n",
       "      <td>0.000498</td>\n",
       "      <td>0.0</td>\n",
       "      <td>0.000498</td>\n",
       "      <td>0.0</td>\n",
       "      <td>0.000498</td>\n",
       "      <td>0.0</td>\n",
       "      <td>0.000498</td>\n",
       "      <td>0.0</td>\n",
       "      <td>0.000498</td>\n",
       "      <td>0.0</td>\n",
       "      <td>0.000498</td>\n",
       "      <td>0.0</td>\n",
       "      <td>0.000498</td>\n",
       "      <td>0.0</td>\n",
       "      <td>0.000498</td>\n",
       "      <td>0.0</td>\n",
       "      <td>0.000498</td>\n",
       "      <td>0.0</td>\n",
       "      <td>0.000498</td>\n",
       "      <td>0.0</td>\n",
       "      <td>0.000498</td>\n",
       "      <td>0.0</td>\n",
       "      <td>0.000498</td>\n",
       "      <td>0.0</td>\n",
       "      <td>0.000498</td>\n",
       "      <td>0.0</td>\n",
       "      <td>0.000498</td>\n",
       "      <td>0.0</td>\n",
       "      <td>0.000498</td>\n",
       "      <td>0.0</td>\n",
       "      <td>0.000498</td>\n",
       "      <td>0.0</td>\n",
       "      <td>0.000498</td>\n",
       "      <td>0.0</td>\n",
       "      <td>0.000498</td>\n",
       "      <td>0.0</td>\n",
       "      <td>0.000498</td>\n",
       "      <td>0.0</td>\n",
       "      <td>0.000498</td>\n",
       "      <td>0.0</td>\n",
       "      <td>0.000498</td>\n",
       "      <td>0.0</td>\n",
       "      <td>0.000498</td>\n",
       "      <td>0</td>\n",
       "      <td>0.000532</td>\n",
       "      <td>1.0</td>\n",
       "      <td>0.000498</td>\n",
       "    </tr>\n",
       "    <tr>\n",
       "      <th>34</th>\n",
       "      <td>0.0</td>\n",
       "      <td>0.000498</td>\n",
       "      <td>0.0</td>\n",
       "      <td>0.000498</td>\n",
       "      <td>0.0</td>\n",
       "      <td>0.000498</td>\n",
       "      <td>0.0</td>\n",
       "      <td>0.000498</td>\n",
       "      <td>0.0</td>\n",
       "      <td>0.000498</td>\n",
       "      <td>0.0</td>\n",
       "      <td>0.000498</td>\n",
       "      <td>0.0</td>\n",
       "      <td>0.000498</td>\n",
       "      <td>0.0</td>\n",
       "      <td>0.000498</td>\n",
       "      <td>0.0</td>\n",
       "      <td>0.000498</td>\n",
       "      <td>0.0</td>\n",
       "      <td>0.000498</td>\n",
       "      <td>0.0</td>\n",
       "      <td>0.000498</td>\n",
       "      <td>0.0</td>\n",
       "      <td>0.000498</td>\n",
       "      <td>0.0</td>\n",
       "      <td>0.000498</td>\n",
       "      <td>0.0</td>\n",
       "      <td>0.000498</td>\n",
       "      <td>0.0</td>\n",
       "      <td>0.000498</td>\n",
       "      <td>0.0</td>\n",
       "      <td>0.000498</td>\n",
       "      <td>0.0</td>\n",
       "      <td>0.000498</td>\n",
       "      <td>0.0</td>\n",
       "      <td>0.000498</td>\n",
       "      <td>0.0</td>\n",
       "      <td>0.000498</td>\n",
       "      <td>0.0</td>\n",
       "      <td>0.000498</td>\n",
       "      <td>0.0</td>\n",
       "      <td>0.000498</td>\n",
       "      <td>0.0</td>\n",
       "      <td>0.000498</td>\n",
       "      <td>0.0</td>\n",
       "      <td>0.000498</td>\n",
       "      <td>0.0</td>\n",
       "      <td>0.000498</td>\n",
       "      <td>0.0</td>\n",
       "      <td>0.000498</td>\n",
       "      <td>0.0</td>\n",
       "      <td>0.000498</td>\n",
       "      <td>0.0</td>\n",
       "      <td>0.000498</td>\n",
       "      <td>0.0</td>\n",
       "      <td>0.000498</td>\n",
       "      <td>0.0</td>\n",
       "      <td>0.000498</td>\n",
       "      <td>0.0</td>\n",
       "      <td>0.000532</td>\n",
       "      <td>0</td>\n",
       "      <td>0.000498</td>\n",
       "      <td>1.0</td>\n",
       "      <td>0.000498</td>\n",
       "    </tr>\n",
       "  </tbody>\n",
       "</table>\n",
       "</div>"
      ],
      "text/plain": [
       "    Country(t-30)  Confirmed(t-30)  ...  Country(t+31)  Confirmed(t+31)\n",
       "30            0.0         0.000498  ...            1.0         0.000498\n",
       "31            0.0         0.000498  ...            1.0         0.000498\n",
       "32            0.0         0.000498  ...            1.0         0.000498\n",
       "33            0.0         0.000498  ...            1.0         0.000498\n",
       "34            0.0         0.000498  ...            1.0         0.000498\n",
       "\n",
       "[5 rows x 64 columns]"
      ]
     },
     "execution_count": 20,
     "metadata": {
      "tags": []
     },
     "output_type": "execute_result"
    }
   ],
   "source": [
    "series.head()"
   ]
  },
  {
   "cell_type": "code",
   "execution_count": 0,
   "metadata": {
    "colab": {},
    "colab_type": "code",
    "id": "PVRYdMOqdXEn"
   },
   "outputs": [],
   "source": [
    "labels_col = 'Confirmed(t+%d)' % lag_size\n",
    "labels = series[labels_col]\n",
    "series = series.drop(labels_col, axis=1)\n",
    "# series = series.drop(columns = ['Recovered(t+%d)' % lag_size,'Deaths(t+%d)' % lag_size])"
   ]
  },
  {
   "cell_type": "code",
   "execution_count": 22,
   "metadata": {
    "colab": {
     "base_uri": "https://localhost:8080/",
     "height": 51
    },
    "colab_type": "code",
    "id": "F4aQ5h0AdXEq",
    "outputId": "fb3090bb-f699-486f-ddd7-3bcc41e6e85b"
   },
   "outputs": [
    {
     "name": "stdout",
     "output_type": "stream",
     "text": [
      "Train set shape (1584, 63)\n",
      "Validation set shape (396, 63)\n"
     ]
    }
   ],
   "source": [
    "X_train, X_valid, Y_train, Y_valid = train_test_split(series, labels.values, test_size=0.2, random_state=0)\n",
    "print('Train set shape', X_train.shape)\n",
    "print('Validation set shape', X_valid.shape)"
   ]
  },
  {
   "cell_type": "code",
   "execution_count": 0,
   "metadata": {
    "colab": {},
    "colab_type": "code",
    "id": "YshBXa3NdXEt"
   },
   "outputs": [],
   "source": [
    "# columns_to_drop = [('%s(t+%d)' % (col, lag)) for col in ['Reco']]\n",
    "# for i in range(window, 0, -1):\n",
    "#     columns_to_drop += [('%s(t-%d)' % (col, i)) for col in ['Country']]\n",
    "# series.drop(columns_to_drop, axis=1, inplace=True)\n",
    "# series.drop(['Country(t)'], axis=1, inplace=True)"
   ]
  },
  {
   "cell_type": "code",
   "execution_count": 0,
   "metadata": {
    "colab": {},
    "colab_type": "code",
    "id": "H41reRTEdXEz"
   },
   "outputs": [],
   "source": [
    "train = train.groupby('Date').sum()\n",
    "train = train.drop(columns=['latitude','longitude','loc_id','Key'],axis=1)"
   ]
  },
  {
   "cell_type": "code",
   "execution_count": 0,
   "metadata": {
    "colab": {},
    "colab_type": "code",
    "id": "S_kN4yn5dXE2"
   },
   "outputs": [],
   "source": [
    "test = test.groupby('Date').sum()\n",
    "test = test.drop(columns=['latitude','longitude','loc_id','Key'])"
   ]
  },
  {
   "cell_type": "code",
   "execution_count": 0,
   "metadata": {
    "colab": {},
    "colab_type": "code",
    "id": "oFHVoNbNdXE5"
   },
   "outputs": [],
   "source": [
    "def create_sequences(data, seq_length):\n",
    "    xs = []\n",
    "    ys = []\n",
    "\n",
    "    for i in range(len(data)-seq_length-1):\n",
    "        x = data.iloc[i:(i+seq_length)]\n",
    "        y = data.iloc[i+seq_length]\n",
    "        xs.append(np.array(x))\n",
    "        ys.append(np.array(y))\n",
    "#     print('X',xs)\n",
    "#     print('Y',ys)\n",
    "    return np.array(xs), np.array(ys)"
   ]
  },
  {
   "cell_type": "markdown",
   "metadata": {
    "colab_type": "text",
    "id": "OGS8G015XVLB"
   },
   "source": [
    "## Model Building"
   ]
  },
  {
   "cell_type": "markdown",
   "metadata": {
    "colab_type": "text",
    "id": "5juGf0cWdXE8"
   },
   "source": [
    "### Multilayer Perceptron Model"
   ]
  },
  {
   "cell_type": "code",
   "execution_count": 0,
   "metadata": {
    "colab": {},
    "colab_type": "code",
    "id": "Nox-iXHzdXE-"
   },
   "outputs": [],
   "source": [
    "epochs = 20\n",
    "batch = 4\n",
    "lr = 0.0003\n",
    "adam = optimizers.Adam(lr)"
   ]
  },
  {
   "cell_type": "code",
   "execution_count": 28,
   "metadata": {
    "colab": {
     "base_uri": "https://localhost:8080/",
     "height": 564
    },
    "colab_type": "code",
    "id": "2Wm5f9etdXFC",
    "outputId": "aaedcf92-6d35-4e37-c25a-68a176111086"
   },
   "outputs": [
    {
     "name": "stdout",
     "output_type": "stream",
     "text": [
      "WARNING:tensorflow:From /usr/local/lib/python3.6/dist-packages/keras/backend/tensorflow_backend.py:66: The name tf.get_default_graph is deprecated. Please use tf.compat.v1.get_default_graph instead.\n",
      "\n",
      "WARNING:tensorflow:From /usr/local/lib/python3.6/dist-packages/keras/backend/tensorflow_backend.py:541: The name tf.placeholder is deprecated. Please use tf.compat.v1.placeholder instead.\n",
      "\n",
      "WARNING:tensorflow:From /usr/local/lib/python3.6/dist-packages/keras/backend/tensorflow_backend.py:4432: The name tf.random_uniform is deprecated. Please use tf.random.uniform instead.\n",
      "\n",
      "WARNING:tensorflow:From /usr/local/lib/python3.6/dist-packages/keras/backend/tensorflow_backend.py:148: The name tf.placeholder_with_default is deprecated. Please use tf.compat.v1.placeholder_with_default instead.\n",
      "\n",
      "WARNING:tensorflow:From /usr/local/lib/python3.6/dist-packages/keras/backend/tensorflow_backend.py:3733: calling dropout (from tensorflow.python.ops.nn_ops) with keep_prob is deprecated and will be removed in a future version.\n",
      "Instructions for updating:\n",
      "Please use `rate` instead of `keep_prob`. Rate should be set to `rate = 1 - keep_prob`.\n",
      "WARNING:tensorflow:From /usr/local/lib/python3.6/dist-packages/keras/optimizers.py:793: The name tf.train.Optimizer is deprecated. Please use tf.compat.v1.train.Optimizer instead.\n",
      "\n",
      "Model: \"sequential_1\"\n",
      "_________________________________________________________________\n",
      "Layer (type)                 Output Shape              Param #   \n",
      "=================================================================\n",
      "dense_1 (Dense)              (None, 64)                4096      \n",
      "_________________________________________________________________\n",
      "dense_2 (Dense)              (None, 128)               8320      \n",
      "_________________________________________________________________\n",
      "dense_3 (Dense)              (None, 64)                8256      \n",
      "_________________________________________________________________\n",
      "dropout_1 (Dropout)          (None, 64)                0         \n",
      "_________________________________________________________________\n",
      "dense_4 (Dense)              (None, 1)                 65        \n",
      "=================================================================\n",
      "Total params: 20,737\n",
      "Trainable params: 20,737\n",
      "Non-trainable params: 0\n",
      "_________________________________________________________________\n"
     ]
    }
   ],
   "source": [
    "model_mlp = Sequential()\n",
    "model_mlp.add(Dense(64, activation='relu', input_dim=X_train.shape[1]))\n",
    "model_mlp.add(Dense(128,activation = 'relu'))\n",
    "model_mlp.add(Dense(64,activation = 'relu'))\n",
    "model_mlp.add(Dropout(lr*10))\n",
    "model_mlp.add(Dense(1))\n",
    "model_mlp.compile(loss='mse', optimizer=adam)\n",
    "model_mlp.summary()"
   ]
  },
  {
   "cell_type": "code",
   "execution_count": 46,
   "metadata": {
    "colab": {
     "base_uri": "https://localhost:8080/",
     "height": 714
    },
    "colab_type": "code",
    "id": "OBF-37gmdXFF",
    "outputId": "07cc9d01-534e-410e-9189-b50c82dcf659"
   },
   "outputs": [
    {
     "name": "stdout",
     "output_type": "stream",
     "text": [
      "Train on 1584 samples, validate on 396 samples\n",
      "Epoch 1/20\n",
      "1584/1584 [==============================] - 1s 771us/step - loss: 14.6851 - val_loss: 1.8658\n",
      "Epoch 2/20\n",
      "1584/1584 [==============================] - 0s 105us/step - loss: 1.4954 - val_loss: 0.0081\n",
      "Epoch 3/20\n",
      "1584/1584 [==============================] - 0s 99us/step - loss: 1.3061 - val_loss: 0.0037\n",
      "Epoch 4/20\n",
      "1584/1584 [==============================] - 0s 104us/step - loss: 0.9077 - val_loss: 0.0066\n",
      "Epoch 5/20\n",
      "1584/1584 [==============================] - 0s 103us/step - loss: 0.4716 - val_loss: 0.0184\n",
      "Epoch 6/20\n",
      "1584/1584 [==============================] - 0s 101us/step - loss: 0.5229 - val_loss: 0.0433\n",
      "Epoch 7/20\n",
      "1584/1584 [==============================] - 0s 103us/step - loss: 0.3891 - val_loss: 0.0530\n",
      "Epoch 8/20\n",
      "1584/1584 [==============================] - 0s 98us/step - loss: 0.2763 - val_loss: 0.0110\n",
      "Epoch 9/20\n",
      "1584/1584 [==============================] - 0s 98us/step - loss: 0.2859 - val_loss: 0.0388\n",
      "Epoch 10/20\n",
      "1584/1584 [==============================] - 0s 99us/step - loss: 0.1753 - val_loss: 9.1278e-04\n",
      "Epoch 11/20\n",
      "1584/1584 [==============================] - 0s 104us/step - loss: 0.2335 - val_loss: 0.0904\n",
      "Epoch 12/20\n",
      "1584/1584 [==============================] - 0s 102us/step - loss: 0.1618 - val_loss: 0.0179\n",
      "Epoch 13/20\n",
      "1584/1584 [==============================] - 0s 101us/step - loss: 0.1072 - val_loss: 0.0018\n",
      "Epoch 14/20\n",
      "1584/1584 [==============================] - 0s 99us/step - loss: 0.1365 - val_loss: 0.1286\n",
      "Epoch 15/20\n",
      "1584/1584 [==============================] - 0s 100us/step - loss: 0.1025 - val_loss: 0.0352\n",
      "Epoch 16/20\n",
      "1584/1584 [==============================] - 0s 100us/step - loss: 0.1155 - val_loss: 1.7469e-04\n",
      "Epoch 17/20\n",
      "1584/1584 [==============================] - 0s 105us/step - loss: 0.0767 - val_loss: 0.0013\n",
      "Epoch 18/20\n",
      "1584/1584 [==============================] - 0s 102us/step - loss: 0.0673 - val_loss: 1.6962e-04\n",
      "Epoch 19/20\n",
      "1584/1584 [==============================] - 0s 100us/step - loss: 0.0623 - val_loss: 0.1096\n",
      "Epoch 20/20\n",
      "1584/1584 [==============================] - 0s 96us/step - loss: 0.0981 - val_loss: 0.0035\n"
     ]
    }
   ],
   "source": [
    "mlp_history = model_mlp.fit(X_train.values, Y_train, validation_data=(X_valid.values, Y_valid), epochs=epochs, verbose=1)"
   ]
  },
  {
   "cell_type": "markdown",
   "metadata": {
    "colab_type": "text",
    "id": "ZZdC-8EQdXFI"
   },
   "source": [
    "### Convolutional Neural Network"
   ]
  },
  {
   "cell_type": "code",
   "execution_count": 29,
   "metadata": {
    "colab": {
     "base_uri": "https://localhost:8080/",
     "height": 51
    },
    "colab_type": "code",
    "id": "ZjlhB9lZdXFJ",
    "outputId": "4d9d91f2-66bf-447b-f5ea-ddf55f360ddf"
   },
   "outputs": [
    {
     "name": "stdout",
     "output_type": "stream",
     "text": [
      "Train set shape (1584, 63, 1)\n",
      "Validation set shape (396, 63, 1)\n"
     ]
    }
   ],
   "source": [
    "X_train_series = X_train.values.reshape((X_train.shape[0], X_train.shape[1], 1))\n",
    "X_valid_series = X_valid.values.reshape((X_valid.shape[0], X_valid.shape[1], 1))\n",
    "print('Train set shape', X_train_series.shape)\n",
    "print('Validation set shape', X_valid_series.shape)"
   ]
  },
  {
   "cell_type": "code",
   "execution_count": 34,
   "metadata": {
    "colab": {
     "base_uri": "https://localhost:8080/",
     "height": 615
    },
    "colab_type": "code",
    "id": "LIepnn_RdXFM",
    "outputId": "00a479d1-b7ad-450b-afcd-c6d2c1261d84"
   },
   "outputs": [
    {
     "name": "stdout",
     "output_type": "stream",
     "text": [
      "WARNING:tensorflow:From /usr/local/lib/python3.6/dist-packages/keras/backend/tensorflow_backend.py:4267: The name tf.nn.max_pool is deprecated. Please use tf.nn.max_pool2d instead.\n",
      "\n",
      "Model: \"sequential_2\"\n",
      "_________________________________________________________________\n",
      "Layer (type)                 Output Shape              Param #   \n",
      "=================================================================\n",
      "conv1d_1 (Conv1D)            (None, 62, 64)            192       \n",
      "_________________________________________________________________\n",
      "max_pooling1d_1 (MaxPooling1 (None, 31, 64)            0         \n",
      "_________________________________________________________________\n",
      "conv1d_2 (Conv1D)            (None, 30, 128)           16512     \n",
      "_________________________________________________________________\n",
      "max_pooling1d_2 (MaxPooling1 (None, 15, 128)           0         \n",
      "_________________________________________________________________\n",
      "conv1d_3 (Conv1D)            (None, 14, 128)           32896     \n",
      "_________________________________________________________________\n",
      "max_pooling1d_3 (MaxPooling1 (None, 7, 128)            0         \n",
      "_________________________________________________________________\n",
      "conv1d_4 (Conv1D)            (None, 6, 64)             16448     \n",
      "_________________________________________________________________\n",
      "max_pooling1d_4 (MaxPooling1 (None, 3, 64)             0         \n",
      "_________________________________________________________________\n",
      "flatten_1 (Flatten)          (None, 192)               0         \n",
      "_________________________________________________________________\n",
      "dense_5 (Dense)              (None, 50)                9650      \n",
      "_________________________________________________________________\n",
      "dropout_2 (Dropout)          (None, 50)                0         \n",
      "_________________________________________________________________\n",
      "dense_6 (Dense)              (None, 1)                 51        \n",
      "=================================================================\n",
      "Total params: 75,749\n",
      "Trainable params: 75,749\n",
      "Non-trainable params: 0\n",
      "_________________________________________________________________\n"
     ]
    }
   ],
   "source": [
    "model_cnn = Sequential()\n",
    "model_cnn.add(Conv1D(filters=64, kernel_size=2, activation='relu', input_shape=(X_train_series.shape[1], X_train_series.shape[2])))\n",
    "model_cnn.add(MaxPooling1D(pool_size=2))\n",
    "model_cnn.add(Conv1D(128, kernel_size = 2, activation = 'relu'))\n",
    "model_cnn.add(MaxPooling1D(pool_size=2))\n",
    "model_cnn.add(Conv1D(128, kernel_size = 2, activation = 'relu'))\n",
    "model_cnn.add(MaxPooling1D(pool_size=2))\n",
    "model_cnn.add(Conv1D(64, kernel_size = 2, activation = 'relu'))\n",
    "model_cnn.add(MaxPooling1D(pool_size=2))\n",
    "model_cnn.add(Flatten())\n",
    "model_cnn.add(Dense(50, activation='relu'))\n",
    "model_cnn.add(Dropout(lr * 10))\n",
    "model_cnn.add(Dense(1))\n",
    "model_cnn.compile(loss='mse', optimizer=adam)\n",
    "model_cnn.summary()"
   ]
  },
  {
   "cell_type": "code",
   "execution_count": 35,
   "metadata": {
    "colab": {
     "base_uri": "https://localhost:8080/",
     "height": 1000
    },
    "colab_type": "code",
    "id": "LtJUQzy8dXFP",
    "outputId": "458fc80f-ab73-42b9-d0e1-e2eeb9e06cfe"
   },
   "outputs": [
    {
     "name": "stdout",
     "output_type": "stream",
     "text": [
      "WARNING:tensorflow:From /usr/local/lib/python3.6/dist-packages/keras/backend/tensorflow_backend.py:1033: The name tf.assign_add is deprecated. Please use tf.compat.v1.assign_add instead.\n",
      "\n",
      "WARNING:tensorflow:From /usr/local/lib/python3.6/dist-packages/keras/backend/tensorflow_backend.py:1020: The name tf.assign is deprecated. Please use tf.compat.v1.assign instead.\n",
      "\n",
      "WARNING:tensorflow:From /usr/local/lib/python3.6/dist-packages/keras/backend/tensorflow_backend.py:3005: The name tf.Session is deprecated. Please use tf.compat.v1.Session instead.\n",
      "\n",
      "Train on 1584 samples, validate on 396 samples\n",
      "Epoch 1/20\n",
      "WARNING:tensorflow:From /usr/local/lib/python3.6/dist-packages/keras/backend/tensorflow_backend.py:190: The name tf.get_default_session is deprecated. Please use tf.compat.v1.get_default_session instead.\n",
      "\n",
      "WARNING:tensorflow:From /usr/local/lib/python3.6/dist-packages/keras/backend/tensorflow_backend.py:197: The name tf.ConfigProto is deprecated. Please use tf.compat.v1.ConfigProto instead.\n",
      "\n",
      "WARNING:tensorflow:From /usr/local/lib/python3.6/dist-packages/keras/backend/tensorflow_backend.py:207: The name tf.global_variables is deprecated. Please use tf.compat.v1.global_variables instead.\n",
      "\n",
      "WARNING:tensorflow:From /usr/local/lib/python3.6/dist-packages/keras/backend/tensorflow_backend.py:216: The name tf.is_variable_initialized is deprecated. Please use tf.compat.v1.is_variable_initialized instead.\n",
      "\n",
      "WARNING:tensorflow:From /usr/local/lib/python3.6/dist-packages/keras/backend/tensorflow_backend.py:223: The name tf.variables_initializer is deprecated. Please use tf.compat.v1.variables_initializer instead.\n",
      "\n",
      "1584/1584 [==============================] - 4s 3ms/step - loss: 1.5098 - val_loss: 0.1372\n",
      "Epoch 2/20\n",
      "1584/1584 [==============================] - 0s 161us/step - loss: 0.0984 - val_loss: 6.2008e-04\n",
      "Epoch 3/20\n",
      "1584/1584 [==============================] - 0s 159us/step - loss: 0.0510 - val_loss: 0.0071\n",
      "Epoch 4/20\n",
      "1584/1584 [==============================] - 0s 154us/step - loss: 0.0449 - val_loss: 9.7205e-05\n",
      "Epoch 5/20\n",
      "1584/1584 [==============================] - 0s 152us/step - loss: 0.0274 - val_loss: 0.0092\n",
      "Epoch 6/20\n",
      "1584/1584 [==============================] - 0s 153us/step - loss: 0.0294 - val_loss: 5.5820e-05\n",
      "Epoch 7/20\n",
      "1584/1584 [==============================] - 0s 168us/step - loss: 0.0170 - val_loss: 1.2868e-04\n",
      "Epoch 8/20\n",
      "1584/1584 [==============================] - 0s 163us/step - loss: 0.0124 - val_loss: 0.0061\n",
      "Epoch 9/20\n",
      "1584/1584 [==============================] - 0s 155us/step - loss: 0.0102 - val_loss: 7.2152e-04\n",
      "Epoch 10/20\n",
      "1584/1584 [==============================] - 0s 157us/step - loss: 0.0075 - val_loss: 0.0014\n",
      "Epoch 11/20\n",
      "1584/1584 [==============================] - 0s 162us/step - loss: 0.0095 - val_loss: 7.9389e-04\n",
      "Epoch 12/20\n",
      "1584/1584 [==============================] - 0s 160us/step - loss: 0.0048 - val_loss: 0.0052\n",
      "Epoch 13/20\n",
      "1584/1584 [==============================] - 0s 158us/step - loss: 0.0067 - val_loss: 1.4237e-04\n",
      "Epoch 14/20\n",
      "1584/1584 [==============================] - 0s 153us/step - loss: 0.0070 - val_loss: 3.4474e-04\n",
      "Epoch 15/20\n",
      "1584/1584 [==============================] - 0s 159us/step - loss: 0.0053 - val_loss: 0.0060\n",
      "Epoch 16/20\n",
      "1584/1584 [==============================] - 0s 165us/step - loss: 0.0053 - val_loss: 7.4880e-05\n",
      "Epoch 17/20\n",
      "1584/1584 [==============================] - 0s 158us/step - loss: 0.0024 - val_loss: 1.1015e-04\n",
      "Epoch 18/20\n",
      "1584/1584 [==============================] - 0s 154us/step - loss: 0.0028 - val_loss: 6.3425e-04\n",
      "Epoch 19/20\n",
      "1584/1584 [==============================] - 0s 156us/step - loss: 0.0025 - val_loss: 2.5890e-04\n",
      "Epoch 20/20\n",
      "1584/1584 [==============================] - 0s 168us/step - loss: 0.0032 - val_loss: 6.4141e-04\n"
     ]
    }
   ],
   "source": [
    "cnn_history = model_cnn.fit(X_train_series, Y_train, validation_data=(X_valid_series, Y_valid), epochs=epochs, verbose=1)"
   ]
  },
  {
   "cell_type": "markdown",
   "metadata": {
    "colab_type": "text",
    "id": "erifv2w_dXFT"
   },
   "source": [
    "### Long Short-Term Memory"
   ]
  },
  {
   "cell_type": "code",
   "execution_count": 36,
   "metadata": {
    "colab": {
     "base_uri": "https://localhost:8080/",
     "height": 323
    },
    "colab_type": "code",
    "id": "WX6WuI6SdXFU",
    "outputId": "38a2a994-7617-4fb9-8a03-1320a6d00297"
   },
   "outputs": [
    {
     "name": "stdout",
     "output_type": "stream",
     "text": [
      "Model: \"sequential_3\"\n",
      "_________________________________________________________________\n",
      "Layer (type)                 Output Shape              Param #   \n",
      "=================================================================\n",
      "lstm_1 (LSTM)                (None, 63, 64)            16896     \n",
      "_________________________________________________________________\n",
      "lstm_2 (LSTM)                (None, 63, 128)           98816     \n",
      "_________________________________________________________________\n",
      "lstm_3 (LSTM)                (None, 64)                49408     \n",
      "_________________________________________________________________\n",
      "dropout_3 (Dropout)          (None, 64)                0         \n",
      "_________________________________________________________________\n",
      "dense_7 (Dense)              (None, 1)                 65        \n",
      "=================================================================\n",
      "Total params: 165,185\n",
      "Trainable params: 165,185\n",
      "Non-trainable params: 0\n",
      "_________________________________________________________________\n"
     ]
    }
   ],
   "source": [
    "model_lstm = Sequential()\n",
    "model_lstm.add(LSTM(64, return_sequences=True,activation='relu', input_shape=(X_train_series.shape[1], X_train_series.shape[2])))\n",
    "model_lstm.add(LSTM(128, return_sequences=True))\n",
    "model_lstm.add(LSTM(64, return_sequences=False))\n",
    "model_lstm.add(Dropout(lr*10))\n",
    "model_lstm.add(Dense(1))\n",
    "model_lstm.compile(loss='mse', optimizer='adam')\n",
    "model_lstm.summary()"
   ]
  },
  {
   "cell_type": "code",
   "execution_count": 37,
   "metadata": {
    "colab": {
     "base_uri": "https://localhost:8080/",
     "height": 785
    },
    "colab_type": "code",
    "id": "lU20LR00dXFX",
    "outputId": "2ea21fcd-214a-4b5e-b7c6-aa33047b2e3f"
   },
   "outputs": [
    {
     "name": "stdout",
     "output_type": "stream",
     "text": [
      "WARNING:tensorflow:From /tensorflow-1.15.2/python3.6/tensorflow_core/python/ops/math_grad.py:1424: where (from tensorflow.python.ops.array_ops) is deprecated and will be removed in a future version.\n",
      "Instructions for updating:\n",
      "Use tf.where in 2.0, which has the same broadcast rule as np.where\n",
      "Train on 1584 samples, validate on 396 samples\n",
      "Epoch 1/20\n",
      "1584/1584 [==============================] - 15s 9ms/step - loss: 0.0067 - val_loss: 0.0012\n",
      "Epoch 2/20\n",
      "1584/1584 [==============================] - 13s 8ms/step - loss: 0.0025 - val_loss: 0.0013\n",
      "Epoch 3/20\n",
      "1584/1584 [==============================] - 13s 8ms/step - loss: 0.0014 - val_loss: 8.7351e-04\n",
      "Epoch 4/20\n",
      "1584/1584 [==============================] - 13s 8ms/step - loss: 7.6070e-04 - val_loss: 4.6784e-04\n",
      "Epoch 5/20\n",
      "1584/1584 [==============================] - 13s 8ms/step - loss: 5.9210e-04 - val_loss: 2.5283e-04\n",
      "Epoch 6/20\n",
      "1584/1584 [==============================] - 13s 8ms/step - loss: 4.6219e-04 - val_loss: 3.3560e-04\n",
      "Epoch 7/20\n",
      "1584/1584 [==============================] - 13s 8ms/step - loss: 4.8952e-04 - val_loss: 8.4917e-04\n",
      "Epoch 8/20\n",
      "1584/1584 [==============================] - 13s 8ms/step - loss: 6.7359e-04 - val_loss: 0.0012\n",
      "Epoch 9/20\n",
      "1584/1584 [==============================] - 13s 8ms/step - loss: 5.5982e-04 - val_loss: 3.9271e-04\n",
      "Epoch 10/20\n",
      "1584/1584 [==============================] - 14s 9ms/step - loss: 4.8019e-04 - val_loss: 1.1845e-04\n",
      "Epoch 11/20\n",
      "1584/1584 [==============================] - 13s 8ms/step - loss: 3.0675e-04 - val_loss: 2.0582e-04\n",
      "Epoch 12/20\n",
      "1584/1584 [==============================] - 13s 8ms/step - loss: 2.8478e-04 - val_loss: 9.9096e-05\n",
      "Epoch 13/20\n",
      "1584/1584 [==============================] - 13s 8ms/step - loss: 2.9473e-04 - val_loss: 2.8350e-05\n",
      "Epoch 14/20\n",
      "1584/1584 [==============================] - 13s 8ms/step - loss: 2.9023e-04 - val_loss: 1.9068e-04\n",
      "Epoch 15/20\n",
      "1584/1584 [==============================] - 13s 8ms/step - loss: 3.3826e-04 - val_loss: 4.2576e-04\n",
      "Epoch 16/20\n",
      "1584/1584 [==============================] - 13s 8ms/step - loss: 3.1694e-04 - val_loss: 1.1642e-04\n",
      "Epoch 17/20\n",
      "1584/1584 [==============================] - 13s 8ms/step - loss: 3.4376e-04 - val_loss: 5.0107e-05\n",
      "Epoch 18/20\n",
      "1584/1584 [==============================] - 13s 8ms/step - loss: 3.1592e-04 - val_loss: 3.3119e-05\n",
      "Epoch 19/20\n",
      "1584/1584 [==============================] - 13s 8ms/step - loss: 2.7649e-04 - val_loss: 2.6315e-05\n",
      "Epoch 20/20\n",
      "1584/1584 [==============================] - 13s 8ms/step - loss: 2.4449e-04 - val_loss: 6.0987e-05\n"
     ]
    }
   ],
   "source": [
    "lstm_history = model_lstm.fit(X_train_series, Y_train, validation_data=(X_valid_series, Y_valid), epochs=epochs, verbose=1)"
   ]
  },
  {
   "cell_type": "markdown",
   "metadata": {
    "colab_type": "text",
    "id": "rLpRzEgtdXFa"
   },
   "source": [
    "### CNN-LSTM Hybrid Model"
   ]
  },
  {
   "cell_type": "code",
   "execution_count": 38,
   "metadata": {
    "colab": {
     "base_uri": "https://localhost:8080/",
     "height": 51
    },
    "colab_type": "code",
    "id": "hMF8GBNodXFb",
    "outputId": "b0f05d01-20dd-4329-da4e-3f93cc1b237e"
   },
   "outputs": [
    {
     "name": "stdout",
     "output_type": "stream",
     "text": [
      "Train set shape (1584, 3, 21, 1)\n",
      "Validation set shape (396, 3, 21, 1)\n"
     ]
    }
   ],
   "source": [
    "subsequences = 3\n",
    "timesteps = X_train_series.shape[1]//subsequences\n",
    "X_train_series_sub = X_train_series.reshape((X_train_series.shape[0], subsequences, timesteps, 1))\n",
    "X_valid_series_sub = X_valid_series.reshape((X_valid_series.shape[0], subsequences, timesteps, 1))\n",
    "print('Train set shape', X_train_series_sub.shape)\n",
    "print('Validation set shape', X_valid_series_sub.shape)"
   ]
  },
  {
   "cell_type": "code",
   "execution_count": 39,
   "metadata": {
    "colab": {
     "base_uri": "https://localhost:8080/",
     "height": 527
    },
    "colab_type": "code",
    "id": "JLgTG6HWdXFe",
    "outputId": "726d686e-8135-402e-e593-7878d755db87"
   },
   "outputs": [
    {
     "name": "stdout",
     "output_type": "stream",
     "text": [
      "Model: \"sequential_4\"\n",
      "_________________________________________________________________\n",
      "Layer (type)                 Output Shape              Param #   \n",
      "=================================================================\n",
      "time_distributed_1 (TimeDist (None, None, 21, 64)      128       \n",
      "_________________________________________________________________\n",
      "time_distributed_2 (TimeDist (None, None, 10, 64)      0         \n",
      "_________________________________________________________________\n",
      "time_distributed_3 (TimeDist (None, None, 10, 128)     8320      \n",
      "_________________________________________________________________\n",
      "time_distributed_4 (TimeDist (None, None, 5, 128)      0         \n",
      "_________________________________________________________________\n",
      "time_distributed_5 (TimeDist (None, None, 5, 64)       8256      \n",
      "_________________________________________________________________\n",
      "time_distributed_6 (TimeDist (None, None, 2, 64)       0         \n",
      "_________________________________________________________________\n",
      "time_distributed_7 (TimeDist (None, None, 128)         0         \n",
      "_________________________________________________________________\n",
      "lstm_4 (LSTM)                (None, None, 64)          49408     \n",
      "_________________________________________________________________\n",
      "lstm_5 (LSTM)                (None, None, 128)         98816     \n",
      "_________________________________________________________________\n",
      "lstm_6 (LSTM)                (None, 64)                49408     \n",
      "_________________________________________________________________\n",
      "dense_8 (Dense)              (None, 1)                 65        \n",
      "=================================================================\n",
      "Total params: 214,401\n",
      "Trainable params: 214,401\n",
      "Non-trainable params: 0\n",
      "_________________________________________________________________\n"
     ]
    }
   ],
   "source": [
    "model_cnn_lstm = Sequential()\n",
    "model_cnn_lstm.add(TimeDistributed(Conv1D(filters=64, kernel_size=1, activation='relu'), input_shape=(None, X_train_series_sub.shape[2], X_train_series_sub.shape[3])))\n",
    "model_cnn_lstm.add(TimeDistributed(MaxPooling1D(pool_size=2)))\n",
    "model_cnn_lstm.add(TimeDistributed(Conv1D(filters=128, kernel_size=1, activation='relu')))\n",
    "model_cnn_lstm.add(TimeDistributed(MaxPooling1D(pool_size=2)))\n",
    "model_cnn_lstm.add(TimeDistributed(Conv1D(filters=64, kernel_size=1, activation='relu')))\n",
    "model_cnn_lstm.add(TimeDistributed(MaxPooling1D(pool_size=2)))\n",
    "model_cnn_lstm.add(TimeDistributed(Flatten()))\n",
    "model_cnn_lstm.add(LSTM(64, activation='relu', return_sequences=True))\n",
    "model_cnn_lstm.add(LSTM(128, activation='relu',return_sequences=True))\n",
    "model_cnn_lstm.add(LSTM(64,activation='relu'))\n",
    "model_cnn_lstm.add(Dense(1))\n",
    "model_cnn_lstm.compile(loss='mse', optimizer=adam)\n",
    "model_cnn_lstm.summary()"
   ]
  },
  {
   "cell_type": "code",
   "execution_count": 0,
   "metadata": {
    "colab": {},
    "colab_type": "code",
    "id": "h-I7BlVHdXFj",
    "scrolled": true
   },
   "outputs": [],
   "source": [
    "cnn_lstm_history = model_cnn_lstm.fit(X_train_series_sub, Y_train, validation_data=(X_valid_series_sub, Y_valid), epochs=epochs, verbose=1)"
   ]
  },
  {
   "cell_type": "markdown",
   "metadata": {
    "colab_type": "text",
    "id": "HubZFCaBdXFn"
   },
   "source": [
    "### PyTorch"
   ]
  },
  {
   "cell_type": "code",
   "execution_count": 41,
   "metadata": {
    "colab": {
     "base_uri": "https://localhost:8080/",
     "height": 51
    },
    "colab_type": "code",
    "id": "4jtyQXVjdXFo",
    "outputId": "25f6768b-0545-42dc-d5d6-e0e611170128"
   },
   "outputs": [
    {
     "name": "stdout",
     "output_type": "stream",
     "text": [
      "Train set shape torch.Size([35, 5, 1])\n",
      "Validation set shape torch.Size([25, 5, 1])\n"
     ]
    }
   ],
   "source": [
    "seq_length = 5\n",
    "X_train_torch, y_train_torch = create_sequences(train.drop(columns=['Recovered','Deaths']), seq_length)\n",
    "X_valid_torch, y_valid_torch = create_sequences(test.drop(columns=['Recovered','Deaths']), seq_length)\n",
    "\n",
    "X_train_torch = torch.from_numpy(X_train_torch).float()\n",
    "y_train_torch = torch.from_numpy(y_train_torch).float()\n",
    "\n",
    "X_valid_torch = torch.from_numpy(X_valid_torch).float()\n",
    "y_valid_torch = torch.from_numpy(y_valid_torch).float()\n",
    "\n",
    "print('Train set shape', X_train_torch.shape)\n",
    "print('Validation set shape', X_valid_torch.shape)"
   ]
  },
  {
   "cell_type": "code",
   "execution_count": 0,
   "metadata": {
    "colab": {},
    "colab_type": "code",
    "id": "ON4uzvRBdXFt"
   },
   "outputs": [],
   "source": [
    "class CoronaVirusPredictor(nn.Module):\n",
    "    def __init__(self, n_features, n_hidden, seq_len, n_layers=2):\n",
    "        super(CoronaVirusPredictor, self).__init__()\n",
    "\n",
    "        self.n_hidden = n_hidden\n",
    "        self.seq_len = seq_len\n",
    "        self.n_layers = n_layers\n",
    "\n",
    "        self.lstm = nn.LSTM(\n",
    "          input_size=n_features,\n",
    "          hidden_size=n_hidden,\n",
    "          num_layers=n_layers,\n",
    "          dropout= lr * 10\n",
    "        )\n",
    "\n",
    "        self.linear = nn.Linear(in_features=n_hidden, out_features=1)\n",
    "        \n",
    "    def reset_hidden_state(self):\n",
    "        self.hidden = (\n",
    "            torch.zeros(self.n_layers, self.seq_len, self.n_hidden),\n",
    "            torch.zeros(self.n_layers, self.seq_len, self.n_hidden)\n",
    "        )\n",
    "        \n",
    "    def forward(self, sequences):\n",
    "        lstm_out, self.hidden = self.lstm(\n",
    "          sequences.view(len(sequences), self.seq_len, -1),\n",
    "          self.hidden\n",
    "        )\n",
    "        last_time_step = \\\n",
    "          lstm_out.view(self.seq_len, len(sequences), self.n_hidden)[-1]\n",
    "        y_pred = self.linear(last_time_step)\n",
    "        return y_pred"
   ]
  },
  {
   "cell_type": "code",
   "execution_count": 0,
   "metadata": {
    "colab": {},
    "colab_type": "code",
    "id": "a8ZAq93ndXFw"
   },
   "outputs": [],
   "source": [
    "def train_model(model,train_data,train_labels,test_data=None,test_labels=None):\n",
    "    loss_fn = torch.nn.MSELoss(reduction='sum')\n",
    "    optimiser = torch.optim.Adam(model.parameters(), lr=1e-3)\n",
    "    num_epochs = epochs\n",
    "    train_hist = np.zeros(num_epochs)\n",
    "    test_hist = np.zeros(num_epochs)\n",
    "    \n",
    "    for t in range(1,num_epochs+1):\n",
    "        model.reset_hidden_state()\n",
    "        y_pred = model(X_train_torch)\n",
    "        loss = loss_fn(y_pred.float(), y_train_torch)\n",
    "        if test_data is not None:\n",
    "            with torch.no_grad():\n",
    "                y_test_pred = model(X_valid_torch)\n",
    "                test_loss = loss_fn(y_test_pred.float(), y_valid_torch)\n",
    "                test_hist[t-1] = test_loss.item()\n",
    "\n",
    "            if t % 10 == 0:\n",
    "                print(f'Epoch {t} train loss: {loss.item()} test loss: {test_loss.item()}')\n",
    "        elif t % 10 == 0:\n",
    "            print(f'Epoch {t} train loss: {loss.item()}')\n",
    "\n",
    "        train_hist[t-1] = loss.item()\n",
    "        optimiser.zero_grad()\n",
    "        loss.backward()\n",
    "        optimiser.step()\n",
    "    return model.eval(), train_hist, test_hist, y_pred, y_test_pred"
   ]
  },
  {
   "cell_type": "code",
   "execution_count": 44,
   "metadata": {
    "colab": {
     "base_uri": "https://localhost:8080/",
     "height": 119
    },
    "colab_type": "code",
    "id": "oE24kc85dXF3",
    "outputId": "f98ef527-5ba7-42ce-ea24-ade2877f9258"
   },
   "outputs": [
    {
     "name": "stdout",
     "output_type": "stream",
     "text": [
      "CoronaVirusPredictor(\n",
      "  (lstm): LSTM(1, 128, num_layers=4, dropout=0.0029999999999999996)\n",
      "  (linear): Linear(in_features=128, out_features=1, bias=True)\n",
      ")\n",
      "Epoch 10 train loss: 0.25659266114234924 test loss: 42.7035026550293\n",
      "Epoch 20 train loss: 0.25160136818885803 test loss: 41.91297149658203\n"
     ]
    }
   ],
   "source": [
    "torch_model = CoronaVirusPredictor( n_features=1,n_hidden=128,seq_len=seq_length,n_layers=4)\n",
    "print(torch_model)\n",
    "torch_model, train_hist, test_hist, y_pred, y_test_pred = train_model( torch_model, X_train_torch, y_train_torch, X_valid_torch, y_valid_torch)"
   ]
  },
  {
   "cell_type": "markdown",
   "metadata": {
    "colab_type": "text",
    "id": "yDUBDvcPdXF7"
   },
   "source": [
    "## Comparing Models"
   ]
  },
  {
   "cell_type": "code",
   "execution_count": 47,
   "metadata": {
    "colab": {
     "base_uri": "https://localhost:8080/",
     "height": 1000
    },
    "colab_type": "code",
    "id": "e8Kje8PDdXF7",
    "outputId": "48627b7a-2ecd-447d-cf94-0f04a8b412a6"
   },
   "outputs": [
    {
     "data": {
      "image/png": "[encoded data removed]",
      "text/plain": [
       "<Figure size 1584x864 with 4 Axes>"
      ]
     },
     "metadata": {
      "image/png": {
       "height": 724,
       "width": 1286
      },
      "tags": []
     },
     "output_type": "display_data"
    },
    {
     "data": {
      "image/png": "[encoded data removed]",
      "text/plain": [
       "<Figure size 1584x864 with 1 Axes>"
      ]
     },
     "metadata": {
      "image/png": {
       "height": 724,
       "width": 1286
      },
      "tags": []
     },
     "output_type": "display_data"
    }
   ],
   "source": [
    "fig, axes = plt.subplots(2, 2, sharex=True, sharey=True,figsize=(22,12))\n",
    "ax1, ax2 = axes[0]\n",
    "ax3, ax4 = axes[1]\n",
    "\n",
    "ax1.plot(mlp_history.history['loss'], label='Train loss')\n",
    "ax1.plot(mlp_history.history['val_loss'], label='Validation loss')\n",
    "ax1.legend(loc='best')\n",
    "ax1.set_title('MLP')\n",
    "ax1.set_xlabel('Epochs')\n",
    "ax1.set_ylabel('MSE')\n",
    "\n",
    "ax2.plot(cnn_history.history['loss'], label='Train loss')\n",
    "ax2.plot(cnn_history.history['val_loss'], label='Validation loss')\n",
    "ax2.legend(loc='best')\n",
    "ax2.set_title('CNN')\n",
    "ax2.set_xlabel('Epochs')\n",
    "ax2.set_ylabel('MSE')\n",
    "\n",
    "ax3.plot(lstm_history.history['loss'], label='Train loss')\n",
    "ax3.plot(lstm_history.history['val_loss'], label='Validation loss')\n",
    "ax3.legend(loc='best')\n",
    "ax3.set_title('LSTM')\n",
    "ax3.set_xlabel('Epochs')\n",
    "ax3.set_ylabel('MSE')\n",
    "\n",
    "ax4.plot(cnn_lstm_history.history['loss'], label='Train loss')\n",
    "ax4.plot(cnn_lstm_history.history['val_loss'], label='Validation loss')\n",
    "ax4.legend(loc='best')\n",
    "ax4.set_title('CNN-LSTM')\n",
    "ax4.set_xlabel('Epochs')\n",
    "ax4.set_ylabel('MSE')\n",
    "\n",
    "plt.show()\n",
    "\n",
    "plt.figure(figsize = (22,12))\n",
    "plt.plot(train_hist, label='Train loss')\n",
    "plt.plot(test_hist, label='Validation loss')\n",
    "plt.legend(loc='best')\n",
    "plt.title('PyTorch')\n",
    "plt.xlabel('Epochs')\n",
    "plt.ylabel('MSE')\n",
    "\n",
    "plt.show()"
   ]
  },
  {
   "cell_type": "markdown",
   "metadata": {
    "colab_type": "text",
    "id": "tEhhqMFuNYog"
   },
   "source": [
    "### RMSE"
   ]
  },
  {
   "cell_type": "markdown",
   "metadata": {
    "colab_type": "text",
    "id": "Ap0_SN4wdXF-"
   },
   "source": [
    "#### MLP"
   ]
  },
  {
   "cell_type": "code",
   "execution_count": 48,
   "metadata": {
    "colab": {
     "base_uri": "https://localhost:8080/",
     "height": 51
    },
    "colab_type": "code",
    "id": "pgOrgRFFdXF_",
    "outputId": "f5357581-e297-4f47-cc4c-13bf84e80e07"
   },
   "outputs": [
    {
     "name": "stdout",
     "output_type": "stream",
     "text": [
      "Train rmse: 0.05982185263800272\n",
      "Validation rmse: 0.05882575687127716\n"
     ]
    }
   ],
   "source": [
    "mlp_train_pred = model_mlp.predict(X_train.values)\n",
    "mlp_valid_pred = model_mlp.predict(X_valid.values)\n",
    "print('Train rmse:', np.sqrt(mean_squared_error(Y_train, mlp_train_pred)))\n",
    "print('Validation rmse:', np.sqrt(mean_squared_error(Y_valid, mlp_valid_pred)))"
   ]
  },
  {
   "cell_type": "markdown",
   "metadata": {
    "colab_type": "text",
    "id": "1sNOaP2odXGD"
   },
   "source": [
    "#### CNN"
   ]
  },
  {
   "cell_type": "code",
   "execution_count": 49,
   "metadata": {
    "colab": {
     "base_uri": "https://localhost:8080/",
     "height": 51
    },
    "colab_type": "code",
    "id": "U-og8TmHdXGE",
    "outputId": "9d656b08-c8d4-4999-c5c9-630aaadaac27"
   },
   "outputs": [
    {
     "name": "stdout",
     "output_type": "stream",
     "text": [
      "Train rmse: 0.028295466249556228\n",
      "Validation rmse: 0.02532611079646128\n"
     ]
    }
   ],
   "source": [
    "cnn_train_pred = model_cnn.predict(X_train_series)\n",
    "cnn_valid_pred = model_cnn.predict(X_valid_series)\n",
    "print('Train rmse:', np.sqrt(mean_squared_error(Y_train, cnn_train_pred)))\n",
    "print('Validation rmse:', np.sqrt(mean_squared_error(Y_valid, cnn_valid_pred)))"
   ]
  },
  {
   "cell_type": "markdown",
   "metadata": {
    "colab_type": "text",
    "id": "iG1weg3sdXGJ"
   },
   "source": [
    "#### LSTM"
   ]
  },
  {
   "cell_type": "code",
   "execution_count": 50,
   "metadata": {
    "colab": {
     "base_uri": "https://localhost:8080/",
     "height": 51
    },
    "colab_type": "code",
    "id": "LkjzJci8dXGK",
    "outputId": "c389821a-eb42-4cd4-e7a8-d6acad7f4079"
   },
   "outputs": [
    {
     "name": "stdout",
     "output_type": "stream",
     "text": [
      "Train rmse: 0.014583168707014538\n",
      "Validation rmse: 0.02532611079646128\n"
     ]
    }
   ],
   "source": [
    "lstm_train_pred = model_lstm.predict(X_train_series)\n",
    "lstm_valid_pred = model_cnn.predict(X_valid_series)\n",
    "print('Train rmse:', np.sqrt(mean_squared_error(Y_train, lstm_train_pred)))\n",
    "print('Validation rmse:', np.sqrt(mean_squared_error(Y_valid, lstm_valid_pred)))"
   ]
  },
  {
   "cell_type": "markdown",
   "metadata": {
    "colab_type": "text",
    "id": "H0PprbPFdXGS"
   },
   "source": [
    "#### CNN - LSTM"
   ]
  },
  {
   "cell_type": "code",
   "execution_count": 51,
   "metadata": {
    "colab": {
     "base_uri": "https://localhost:8080/",
     "height": 51
    },
    "colab_type": "code",
    "id": "Vd2UUvfBdXGS",
    "outputId": "23887517-53ae-49e8-e4b6-751ab887a7d9"
   },
   "outputs": [
    {
     "name": "stdout",
     "output_type": "stream",
     "text": [
      "Train rmse: 0.01448616171818048\n",
      "Validation rmse: 0.005838083017825615\n"
     ]
    }
   ],
   "source": [
    "cnn_lstm_train_pred = model_cnn_lstm.predict(X_train_series_sub)\n",
    "cnn_lstm_valid_pred = model_cnn_lstm.predict(X_valid_series_sub)\n",
    "print('Train rmse:', np.sqrt(mean_squared_error(Y_train, cnn_lstm_train_pred)))\n",
    "print('Validation rmse:', np.sqrt(mean_squared_error(Y_valid, cnn_lstm_valid_pred)))"
   ]
  },
  {
   "cell_type": "markdown",
   "metadata": {
    "colab_type": "text",
    "id": "KAFHKBWYdXGV"
   },
   "source": [
    "#### PyTorch"
   ]
  },
  {
   "cell_type": "code",
   "execution_count": 52,
   "metadata": {
    "colab": {
     "base_uri": "https://localhost:8080/",
     "height": 51
    },
    "colab_type": "code",
    "id": "BvdIj973dXGW",
    "outputId": "72ccb99c-c37a-4aa3-c68c-bc35b784a9aa"
   },
   "outputs": [
    {
     "name": "stdout",
     "output_type": "stream",
     "text": [
      "Train rmse: 0.08478568\n",
      "Validation rmse: 1.2948046\n"
     ]
    }
   ],
   "source": [
    "print('Train rmse:', np.sqrt(mean_squared_error(np.array(y_train_torch.detach()).reshape(y_train_torch.shape[0]), np.array(y_pred.detach()).reshape(y_pred.shape[0]))))\n",
    "print('Validation rmse:', np.sqrt(mean_squared_error(np.array(y_valid_torch.detach()).reshape(y_valid_torch.shape[0]), np.array(y_test_pred.detach()).reshape(y_test_pred.shape[0]))))"
   ]
  },
  {
   "cell_type": "markdown",
   "metadata": {
    "colab_type": "text",
    "id": "0hQ2J8-ANgut"
   },
   "source": [
    "### Mean Absolute Error"
   ]
  },
  {
   "cell_type": "markdown",
   "metadata": {
    "colab_type": "text",
    "id": "AmY5d6uaNpQ7"
   },
   "source": [
    "#### MLP"
   ]
  },
  {
   "cell_type": "code",
   "execution_count": 53,
   "metadata": {
    "colab": {
     "base_uri": "https://localhost:8080/",
     "height": 51
    },
    "colab_type": "code",
    "id": "rnImup0hdXGZ",
    "outputId": "f8f92c02-e2d4-4435-b22f-67924963c908"
   },
   "outputs": [
    {
     "name": "stdout",
     "output_type": "stream",
     "text": [
      "Train mae: 0.05328507931172184\n",
      "Validation mae: 0.052626081208752146\n"
     ]
    }
   ],
   "source": [
    "print('Train mae:', mean_absolute_error(Y_train, mlp_train_pred))\n",
    "print('Validation mae:', mean_absolute_error(Y_valid, mlp_valid_pred))"
   ]
  },
  {
   "cell_type": "markdown",
   "metadata": {
    "colab_type": "text",
    "id": "9j6W0EvwPRMB"
   },
   "source": [
    "#### CNN"
   ]
  },
  {
   "cell_type": "code",
   "execution_count": 54,
   "metadata": {
    "colab": {
     "base_uri": "https://localhost:8080/",
     "height": 51
    },
    "colab_type": "code",
    "id": "whs_JHzePNey",
    "outputId": "9e5570ed-875d-426b-bb0a-1f2be698bd04"
   },
   "outputs": [
    {
     "name": "stdout",
     "output_type": "stream",
     "text": [
      "Train mae: 0.02147201022079228\n",
      "Validation mae: 0.021486591396778436\n"
     ]
    }
   ],
   "source": [
    "print('Train mae:', mean_absolute_error(Y_train, cnn_train_pred))\n",
    "print('Validation mae:', mean_absolute_error(Y_valid, cnn_valid_pred))"
   ]
  },
  {
   "cell_type": "markdown",
   "metadata": {
    "colab_type": "text",
    "id": "hl9leU6bPkPX"
   },
   "source": [
    "#### LSTM"
   ]
  },
  {
   "cell_type": "code",
   "execution_count": 55,
   "metadata": {
    "colab": {
     "base_uri": "https://localhost:8080/",
     "height": 51
    },
    "colab_type": "code",
    "id": "FAVRbgA2PglI",
    "outputId": "b290f96c-efbb-4752-f588-e0e636c4564c"
   },
   "outputs": [
    {
     "name": "stdout",
     "output_type": "stream",
     "text": [
      "Train mae: 0.006229735830799478\n",
      "Validation mae: 0.021486591396778436\n"
     ]
    }
   ],
   "source": [
    "print('Train mae:', mean_absolute_error(Y_train, lstm_train_pred))\n",
    "print('Validation mae:', mean_absolute_error(Y_valid, lstm_valid_pred))"
   ]
  },
  {
   "cell_type": "markdown",
   "metadata": {
    "colab_type": "text",
    "id": "7E0fkvY1P7tc"
   },
   "source": [
    "#### CNN-LSTM"
   ]
  },
  {
   "cell_type": "code",
   "execution_count": 56,
   "metadata": {
    "colab": {
     "base_uri": "https://localhost:8080/",
     "height": 51
    },
    "colab_type": "code",
    "id": "zVN7ijRZP3GW",
    "outputId": "4201325a-128b-4d01-e156-22ed57d94bf6"
   },
   "outputs": [
    {
     "name": "stdout",
     "output_type": "stream",
     "text": [
      "Train mae: 0.0018639910132868596\n",
      "Validation mae: 0.0016017509633224312\n"
     ]
    }
   ],
   "source": [
    "print('Train mae:', mean_absolute_error(Y_train, cnn_lstm_train_pred))\n",
    "print('Validation mae:', mean_absolute_error(Y_valid, cnn_lstm_valid_pred))"
   ]
  },
  {
   "cell_type": "markdown",
   "metadata": {
    "colab_type": "text",
    "id": "1_8ss149QMfB"
   },
   "source": [
    "#### PyTorch"
   ]
  },
  {
   "cell_type": "code",
   "execution_count": 57,
   "metadata": {
    "colab": {
     "base_uri": "https://localhost:8080/",
     "height": 51
    },
    "colab_type": "code",
    "id": "Hi1pcbWHQHzm",
    "outputId": "420d96b3-f36c-4873-f426-35a02a5469d1"
   },
   "outputs": [
    {
     "name": "stdout",
     "output_type": "stream",
     "text": [
      "Train mae: 0.049153265\n",
      "Validation mae: 1.0141432\n"
     ]
    }
   ],
   "source": [
    "print('Train mae:', mean_absolute_error(np.array(y_train_torch.detach()).reshape(y_train_torch.shape[0]), np.array(y_pred.detach()).reshape(y_pred.shape[0])))\n",
    "print('Validation mae:', mean_absolute_error(np.array(y_valid_torch.detach()).reshape(y_valid_torch.shape[0]), np.array(y_test_pred.detach()).reshape(y_test_pred.shape[0])))"
   ]
  },
  {
   "cell_type": "markdown",
   "metadata": {
    "colab_type": "text",
    "id": "8g8k3bMEQmFH"
   },
   "source": [
    "### Mean Absolute Percentage Error"
   ]
  },
  {
   "cell_type": "code",
   "execution_count": 0,
   "metadata": {
    "colab": {},
    "colab_type": "code",
    "id": "1o5LsZ1PQXm5"
   },
   "outputs": [],
   "source": [
    "def mean_absolute_percentage_error(y_true, y_pred):\n",
    "  return np.mean(np.abs(y_true - y_pred/y_true)) * 100"
   ]
  },
  {
   "cell_type": "markdown",
   "metadata": {
    "colab_type": "text",
    "id": "j9bqcYiORJVC"
   },
   "source": [
    "#### MLP"
   ]
  },
  {
   "cell_type": "code",
   "execution_count": 59,
   "metadata": {
    "colab": {
     "base_uri": "https://localhost:8080/",
     "height": 51
    },
    "colab_type": "code",
    "id": "2MnIQe9HRH9w",
    "outputId": "3371331e-ee83-48e8-9d8d-e92e9e9bcd8d"
   },
   "outputs": [
    {
     "name": "stdout",
     "output_type": "stream",
     "text": [
      "Train mape: 10327.779773234295\n",
      "Validation mape: 10080.068497611537\n"
     ]
    }
   ],
   "source": [
    "print('Train mape:', mean_absolute_percentage_error(Y_train, mlp_train_pred))\n",
    "print('Validation mape:', mean_absolute_percentage_error(Y_valid, mlp_valid_pred))"
   ]
  },
  {
   "cell_type": "markdown",
   "metadata": {
    "colab_type": "text",
    "id": "2K14wTeTSoss"
   },
   "source": [
    "#### CNN"
   ]
  },
  {
   "cell_type": "code",
   "execution_count": 60,
   "metadata": {
    "colab": {
     "base_uri": "https://localhost:8080/",
     "height": 51
    },
    "colab_type": "code",
    "id": "_hgxBcLjRVcm",
    "outputId": "0b9fd9ba-f771-4bd7-ea6e-d514fde93b4a"
   },
   "outputs": [
    {
     "name": "stdout",
     "output_type": "stream",
     "text": [
      "Train mae: 3895.932331524485\n",
      "Validation mae: 3834.53836921299\n"
     ]
    }
   ],
   "source": [
    "print('Train mae:', mean_absolute_percentage_error(Y_train, cnn_train_pred))\n",
    "print('Validation mae:', mean_absolute_percentage_error(Y_valid, cnn_valid_pred))"
   ]
  },
  {
   "cell_type": "markdown",
   "metadata": {
    "colab_type": "text",
    "id": "u2_-_D7aSv3R"
   },
   "source": [
    "#### LSTM"
   ]
  },
  {
   "cell_type": "code",
   "execution_count": 61,
   "metadata": {
    "colab": {
     "base_uri": "https://localhost:8080/",
     "height": 51
    },
    "colab_type": "code",
    "id": "0Jttz2MFSuj9",
    "outputId": "8d6e00f1-95b4-48c8-9f86-e9b09c842acd"
   },
   "outputs": [
    {
     "name": "stdout",
     "output_type": "stream",
     "text": [
      "Train mae: 1244.223980448206\n",
      "Validation mae: 3834.53836921299\n"
     ]
    }
   ],
   "source": [
    "print('Train mae:', mean_absolute_percentage_error(Y_train, lstm_train_pred))\n",
    "print('Validation mae:', mean_absolute_percentage_error(Y_valid, lstm_valid_pred))"
   ]
  },
  {
   "cell_type": "markdown",
   "metadata": {
    "colab_type": "text",
    "id": "vx3fO4ZmS3TZ"
   },
   "source": [
    "#### CNN-LSTM"
   ]
  },
  {
   "cell_type": "code",
   "execution_count": 62,
   "metadata": {
    "colab": {
     "base_uri": "https://localhost:8080/",
     "height": 51
    },
    "colab_type": "code",
    "id": "PzLK204yS2Ce",
    "outputId": "8ebbf608-6e58-4c7a-d9ee-ad51481fafbb"
   },
   "outputs": [
    {
     "name": "stdout",
     "output_type": "stream",
     "text": [
      "Train mae: 268.3197162323687\n",
      "Validation mae: 252.06868966656333\n"
     ]
    }
   ],
   "source": [
    "print('Train mae:', mean_absolute_percentage_error(Y_train, cnn_lstm_train_pred))\n",
    "print('Validation mae:', mean_absolute_percentage_error(Y_valid, cnn_lstm_valid_pred))"
   ]
  },
  {
   "cell_type": "markdown",
   "metadata": {
    "colab_type": "text",
    "id": "fow7PcjNTAHY"
   },
   "source": [
    "#### PyTorch"
   ]
  },
  {
   "cell_type": "code",
   "execution_count": 63,
   "metadata": {
    "colab": {
     "base_uri": "https://localhost:8080/",
     "height": 51
    },
    "colab_type": "code",
    "id": "QUyrX7P3S_CQ",
    "outputId": "a833892a-0a64-4573-8728-22a6a9892601"
   },
   "outputs": [
    {
     "name": "stdout",
     "output_type": "stream",
     "text": [
      "Train mae: 91.2947952747345\n",
      "Validation mae: 111.68197393417358\n"
     ]
    }
   ],
   "source": [
    "print('Train mae:', mean_absolute_percentage_error(np.array(y_train_torch.detach()).reshape(y_train_torch.shape[0]), np.array(y_pred.detach()).reshape(y_pred.shape[0])))\n",
    "print('Validation mae:', mean_absolute_percentage_error(np.array(y_valid_torch.detach()).reshape(y_valid_torch.shape[0]), np.array(y_test_pred.detach()).reshape(y_test_pred.shape[0])))"
   ]
  },
  {
   "cell_type": "code",
   "execution_count": 0,
   "metadata": {
    "colab": {},
    "colab_type": "code",
    "id": "xpwsmJADTG_I"
   },
   "outputs": [],
   "source": []
  }
 ],
 "metadata": {
  "accelerator": "GPU",
  "colab": {
   "name": "Covid-TimeSeries.ipynb",
   "provenance": [],
   "toc_visible": true
  },
  "kernelspec": {
   "display_name": "Python 3",
   "language": "python",
   "name": "python3"
  },
  "language_info": {
   "codemirror_mode": {
    "name": "ipython",
    "version": 3
   },
   "file_extension": ".py",
   "mimetype": "text/x-python",
   "name": "python",
   "nbconvert_exporter": "python",
   "pygments_lexer": "ipython3",
   "version": "3.7.4"
  }
 },
 "nbformat": 4,
 "nbformat_minor": 1
}
