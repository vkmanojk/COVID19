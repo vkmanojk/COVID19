{
  "nbformat": 4,
  "nbformat_minor": 0,
  "metadata": {
    "kernelspec": {
      "name": "python3",
      "display_name": "Python 3"
    },
    "language_info": {
      "codemirror_mode": {
        "name": "ipython",
        "version": 3
      },
      "file_extension": ".py",
      "mimetype": "text/x-python",
      "name": "python",
      "nbconvert_exporter": "python",
      "pygments_lexer": "ipython3",
      "version": "3.7.4"
    },
    "colab": {
      "name": "Covid-TimeSeries.ipynb",
      "provenance": [],
      "collapsed_sections": [
        "tEhhqMFuNYog",
        "Ap0_SN4wdXF-",
        "1sNOaP2odXGD",
        "iG1weg3sdXGJ",
        "AmY5d6uaNpQ7",
        "9j6W0EvwPRMB",
        "hl9leU6bPkPX",
        "7E0fkvY1P7tc",
        "j9bqcYiORJVC",
        "2K14wTeTSoss",
        "u2_-_D7aSv3R",
        "vx3fO4ZmS3TZ"
      ],
      "toc_visible": true,
      "include_colab_link": true
    }
  },
  "cells": [
    {
      "cell_type": "markdown",
      "metadata": {
        "id": "view-in-github",
        "colab_type": "text"
      },
      "source": [
        "<a href=\"https://colab.research.google.com/github/vkmanojk/COVID19/blob/master/Covid_TimeSeries.ipynb\" target=\"_parent\"><img src=\"https://colab.research.google.com/assets/colab-badge.svg\" alt=\"Open In Colab\"/></a>"
      ]
    },
    {
      "cell_type": "markdown",
      "metadata": {
        "id": "PEVyw6dEW4qe",
        "colab_type": "text"
      },
      "source": [
        "# COVID-19: Time Series Forecasting"
      ]
    },
    {
      "cell_type": "code",
      "metadata": {
        "id": "PTc129iLe68p",
        "colab_type": "code",
        "outputId": "5f3b005a-513a-4310-ffef-ea212d7db284",
        "colab": {
          "base_uri": "https://localhost:8080/",
          "height": 122
        }
      },
      "source": [
        "from google.colab import drive\n",
        "drive.mount('/content/drive/')"
      ],
      "execution_count": 1,
      "outputs": [
        {
          "output_type": "stream",
          "text": [
            "Go to this URL in a browser: https://accounts.google.com/o/oauth2/auth?client_id=947318989803-6bn6qk8qdgf4n4g3pfee6491hc0brc4i.apps.googleusercontent.com&redirect_uri=urn%3aietf%3awg%3aoauth%3a2.0%3aoob&response_type=code&scope=email%20https%3a%2f%2fwww.googleapis.com%2fauth%2fdocs.test%20https%3a%2f%2fwww.googleapis.com%2fauth%2fdrive%20https%3a%2f%2fwww.googleapis.com%2fauth%2fdrive.photos.readonly%20https%3a%2f%2fwww.googleapis.com%2fauth%2fpeopleapi.readonly\n",
            "\n",
            "Enter your authorization code:\n",
            "··········\n",
            "Mounted at /content/drive/\n"
          ],
          "name": "stdout"
        }
      ]
    },
    {
      "cell_type": "markdown",
      "metadata": {
        "id": "dGTKKb1LXCph",
        "colab_type": "text"
      },
      "source": [
        "## Import Statements"
      ]
    },
    {
      "cell_type": "code",
      "metadata": {
        "id": "nLIIqmh8dXDW",
        "colab_type": "code",
        "outputId": "ab4367c5-8867-4eaf-b594-40a632e037ef",
        "colab": {
          "base_uri": "https://localhost:8080/",
          "height": 105
        }
      },
      "source": [
        "import warnings\n",
        "import numpy as np\n",
        "import pandas as pd\n",
        "from math import sqrt\n",
        "import os\n",
        "import datetime\n",
        "import seaborn as sns\n",
        "import matplotlib.pyplot as plt\n",
        "from tqdm import tqdm\n",
        "from pylab import rcParams\n",
        "from matplotlib import rc\n",
        "from pandas.plotting import register_matplotlib_converters\n",
        "\n",
        "from sklearn.preprocessing import MinMaxScaler\n",
        "from sklearn.preprocessing import LabelEncoder\n",
        "from sklearn.metrics import mean_squared_error, mean_absolute_error\n",
        "from sklearn.metrics import accuracy_score\n",
        "from sklearn.model_selection import train_test_split\n",
        "\n",
        "from statsmodels.tsa.arima_model import ARIMA\n",
        "from statsmodels.tsa.stattools import adfuller\n",
        "\n",
        "%tensorflow_version 1.x\n",
        "import torch\n",
        "from torch import nn, optim\n",
        "from keras import optimizers\n",
        "from keras.utils import plot_model\n",
        "from keras.models import Sequential, Model\n",
        "from keras import losses\n",
        "from keras.layers.convolutional import Conv1D, MaxPooling1D\n",
        "from keras.layers import Dense, LSTM, RepeatVector, TimeDistributed, Flatten, Dropout\n",
        "import tensorflow as tf\n",
        "from tensorflow import set_random_seed\n",
        "from numpy.random import seed"
      ],
      "execution_count": 2,
      "outputs": [
        {
          "output_type": "stream",
          "text": [
            "/usr/local/lib/python3.6/dist-packages/statsmodels/tools/_testing.py:19: FutureWarning: pandas.util.testing is deprecated. Use the functions in the public API at pandas.testing instead.\n",
            "  import pandas.util.testing as tm\n"
          ],
          "name": "stderr"
        },
        {
          "output_type": "stream",
          "text": [
            "TensorFlow 1.x selected.\n"
          ],
          "name": "stdout"
        },
        {
          "output_type": "stream",
          "text": [
            "Using TensorFlow backend.\n"
          ],
          "name": "stderr"
        }
      ]
    },
    {
      "cell_type": "code",
      "metadata": {
        "id": "iM6GzWl8g_Vp",
        "colab_type": "code",
        "outputId": "50b710e9-cd3f-436b-ef1c-3689d3efad19",
        "colab": {
          "base_uri": "https://localhost:8080/",
          "height": 34
        }
      },
      "source": [
        "print(tf.__version__)"
      ],
      "execution_count": 3,
      "outputs": [
        {
          "output_type": "stream",
          "text": [
            "1.15.2\n"
          ],
          "name": "stdout"
        }
      ]
    },
    {
      "cell_type": "code",
      "metadata": {
        "id": "Nin1RlrgdXDd",
        "colab_type": "code",
        "outputId": "1fe6f940-eca7-4775-aa34-af49bb83e4d0",
        "colab": {
          "base_uri": "https://localhost:8080/",
          "height": 34
        }
      },
      "source": [
        "%config InlineBackend.figure_format='retina'\n",
        "%matplotlib inline\n",
        "warnings.filterwarnings(\"ignore\")\n",
        "sns.set(style='whitegrid', palette='muted', font_scale=1.2)\n",
        "HAPPY_COLORS_PALETTE = [\"#01BEFE\", \"#FFDD00\", \"#FF7D00\", \"#FF006D\", \"#93D30C\", \"#8F00FF\"]\n",
        "sns.set_palette(sns.color_palette(HAPPY_COLORS_PALETTE))\n",
        "rcParams['figure.figsize'] = 14, 10\n",
        "register_matplotlib_converters()\n",
        "set_random_seed(1)\n",
        "seed(1)\n",
        "torch.manual_seed(1)"
      ],
      "execution_count": 4,
      "outputs": [
        {
          "output_type": "execute_result",
          "data": {
            "text/plain": [
              "<torch._C.Generator at 0x7fa4fafdd990>"
            ]
          },
          "metadata": {
            "tags": []
          },
          "execution_count": 4
        }
      ]
    },
    {
      "cell_type": "markdown",
      "metadata": {
        "id": "mtQ9-xLYXKBV",
        "colab_type": "text"
      },
      "source": [
        "## Loading the data"
      ]
    },
    {
      "cell_type": "code",
      "metadata": {
        "id": "jkUGmKBkdXDi",
        "colab_type": "code",
        "outputId": "6ab0749d-bf74-4ee3-d6e8-0f9c2ac7bc8f",
        "colab": {
          "base_uri": "https://localhost:8080/",
          "height": 326
        }
      },
      "source": [
        "df = pd.read_csv('drive/My Drive/Colab Notebooks/Dataset/newdata.csv', parse_dates=['Date'])\n",
        "df.head()"
      ],
      "execution_count": 5,
      "outputs": [
        {
          "output_type": "execute_result",
          "data": {
            "text/html": [
              "<div>\n",
              "<style scoped>\n",
              "    .dataframe tbody tr th:only-of-type {\n",
              "        vertical-align: middle;\n",
              "    }\n",
              "\n",
              "    .dataframe tbody tr th {\n",
              "        vertical-align: top;\n",
              "    }\n",
              "\n",
              "    .dataframe thead th {\n",
              "        text-align: right;\n",
              "    }\n",
              "</style>\n",
              "<table border=\"1\" class=\"dataframe\">\n",
              "  <thead>\n",
              "    <tr style=\"text-align: right;\">\n",
              "      <th></th>\n",
              "      <th>Unnamed: 0</th>\n",
              "      <th>Province/State</th>\n",
              "      <th>Country</th>\n",
              "      <th>latitude</th>\n",
              "      <th>longitude</th>\n",
              "      <th>Date</th>\n",
              "      <th>loc_id</th>\n",
              "      <th>Key</th>\n",
              "      <th>Confirmed</th>\n",
              "      <th>Deaths</th>\n",
              "      <th>Recovered</th>\n",
              "    </tr>\n",
              "  </thead>\n",
              "  <tbody>\n",
              "    <tr>\n",
              "      <th>0</th>\n",
              "      <td>0</td>\n",
              "      <td>Not specified</td>\n",
              "      <td>Afghanistan</td>\n",
              "      <td>33.0</td>\n",
              "      <td>65.0</td>\n",
              "      <td>2020-01-22</td>\n",
              "      <td>0</td>\n",
              "      <td>0</td>\n",
              "      <td>0.0</td>\n",
              "      <td>0.0</td>\n",
              "      <td>0.0</td>\n",
              "    </tr>\n",
              "    <tr>\n",
              "      <th>1</th>\n",
              "      <td>1</td>\n",
              "      <td>Not specified</td>\n",
              "      <td>Afghanistan</td>\n",
              "      <td>33.0</td>\n",
              "      <td>65.0</td>\n",
              "      <td>2020-01-23</td>\n",
              "      <td>0</td>\n",
              "      <td>1</td>\n",
              "      <td>0.0</td>\n",
              "      <td>0.0</td>\n",
              "      <td>0.0</td>\n",
              "    </tr>\n",
              "    <tr>\n",
              "      <th>2</th>\n",
              "      <td>2</td>\n",
              "      <td>Not specified</td>\n",
              "      <td>Afghanistan</td>\n",
              "      <td>33.0</td>\n",
              "      <td>65.0</td>\n",
              "      <td>2020-01-24</td>\n",
              "      <td>0</td>\n",
              "      <td>2</td>\n",
              "      <td>0.0</td>\n",
              "      <td>0.0</td>\n",
              "      <td>0.0</td>\n",
              "    </tr>\n",
              "    <tr>\n",
              "      <th>3</th>\n",
              "      <td>3</td>\n",
              "      <td>Not specified</td>\n",
              "      <td>Afghanistan</td>\n",
              "      <td>33.0</td>\n",
              "      <td>65.0</td>\n",
              "      <td>2020-01-25</td>\n",
              "      <td>0</td>\n",
              "      <td>3</td>\n",
              "      <td>0.0</td>\n",
              "      <td>0.0</td>\n",
              "      <td>0.0</td>\n",
              "    </tr>\n",
              "    <tr>\n",
              "      <th>4</th>\n",
              "      <td>4</td>\n",
              "      <td>Not specified</td>\n",
              "      <td>Afghanistan</td>\n",
              "      <td>33.0</td>\n",
              "      <td>65.0</td>\n",
              "      <td>2020-01-26</td>\n",
              "      <td>0</td>\n",
              "      <td>4</td>\n",
              "      <td>0.0</td>\n",
              "      <td>0.0</td>\n",
              "      <td>0.0</td>\n",
              "    </tr>\n",
              "  </tbody>\n",
              "</table>\n",
              "</div>"
            ],
            "text/plain": [
              "   Unnamed: 0 Province/State      Country  ...  Confirmed  Deaths Recovered\n",
              "0           0  Not specified  Afghanistan  ...        0.0     0.0       0.0\n",
              "1           1  Not specified  Afghanistan  ...        0.0     0.0       0.0\n",
              "2           2  Not specified  Afghanistan  ...        0.0     0.0       0.0\n",
              "3           3  Not specified  Afghanistan  ...        0.0     0.0       0.0\n",
              "4           4  Not specified  Afghanistan  ...        0.0     0.0       0.0\n",
              "\n",
              "[5 rows x 11 columns]"
            ]
          },
          "metadata": {
            "tags": []
          },
          "execution_count": 5
        }
      ]
    },
    {
      "cell_type": "markdown",
      "metadata": {
        "id": "4icHlVQHXNtQ",
        "colab_type": "text"
      },
      "source": [
        "## Data Preprocessing"
      ]
    },
    {
      "cell_type": "code",
      "metadata": {
        "id": "UPMI5KP9dXDm",
        "colab_type": "code",
        "outputId": "a7d5ef2a-4af4-49fd-e9a6-2006d92d6981",
        "colab": {
          "base_uri": "https://localhost:8080/",
          "height": 204
        }
      },
      "source": [
        "df['Recovered'].fillna(0,inplace=True)\n",
        "df.drop(columns=['Unnamed: 0'],inplace=True)\n",
        "df.head()"
      ],
      "execution_count": 6,
      "outputs": [
        {
          "output_type": "execute_result",
          "data": {
            "text/html": [
              "<div>\n",
              "<style scoped>\n",
              "    .dataframe tbody tr th:only-of-type {\n",
              "        vertical-align: middle;\n",
              "    }\n",
              "\n",
              "    .dataframe tbody tr th {\n",
              "        vertical-align: top;\n",
              "    }\n",
              "\n",
              "    .dataframe thead th {\n",
              "        text-align: right;\n",
              "    }\n",
              "</style>\n",
              "<table border=\"1\" class=\"dataframe\">\n",
              "  <thead>\n",
              "    <tr style=\"text-align: right;\">\n",
              "      <th></th>\n",
              "      <th>Province/State</th>\n",
              "      <th>Country</th>\n",
              "      <th>latitude</th>\n",
              "      <th>longitude</th>\n",
              "      <th>Date</th>\n",
              "      <th>loc_id</th>\n",
              "      <th>Key</th>\n",
              "      <th>Confirmed</th>\n",
              "      <th>Deaths</th>\n",
              "      <th>Recovered</th>\n",
              "    </tr>\n",
              "  </thead>\n",
              "  <tbody>\n",
              "    <tr>\n",
              "      <th>0</th>\n",
              "      <td>Not specified</td>\n",
              "      <td>Afghanistan</td>\n",
              "      <td>33.0</td>\n",
              "      <td>65.0</td>\n",
              "      <td>2020-01-22</td>\n",
              "      <td>0</td>\n",
              "      <td>0</td>\n",
              "      <td>0.0</td>\n",
              "      <td>0.0</td>\n",
              "      <td>0.0</td>\n",
              "    </tr>\n",
              "    <tr>\n",
              "      <th>1</th>\n",
              "      <td>Not specified</td>\n",
              "      <td>Afghanistan</td>\n",
              "      <td>33.0</td>\n",
              "      <td>65.0</td>\n",
              "      <td>2020-01-23</td>\n",
              "      <td>0</td>\n",
              "      <td>1</td>\n",
              "      <td>0.0</td>\n",
              "      <td>0.0</td>\n",
              "      <td>0.0</td>\n",
              "    </tr>\n",
              "    <tr>\n",
              "      <th>2</th>\n",
              "      <td>Not specified</td>\n",
              "      <td>Afghanistan</td>\n",
              "      <td>33.0</td>\n",
              "      <td>65.0</td>\n",
              "      <td>2020-01-24</td>\n",
              "      <td>0</td>\n",
              "      <td>2</td>\n",
              "      <td>0.0</td>\n",
              "      <td>0.0</td>\n",
              "      <td>0.0</td>\n",
              "    </tr>\n",
              "    <tr>\n",
              "      <th>3</th>\n",
              "      <td>Not specified</td>\n",
              "      <td>Afghanistan</td>\n",
              "      <td>33.0</td>\n",
              "      <td>65.0</td>\n",
              "      <td>2020-01-25</td>\n",
              "      <td>0</td>\n",
              "      <td>3</td>\n",
              "      <td>0.0</td>\n",
              "      <td>0.0</td>\n",
              "      <td>0.0</td>\n",
              "    </tr>\n",
              "    <tr>\n",
              "      <th>4</th>\n",
              "      <td>Not specified</td>\n",
              "      <td>Afghanistan</td>\n",
              "      <td>33.0</td>\n",
              "      <td>65.0</td>\n",
              "      <td>2020-01-26</td>\n",
              "      <td>0</td>\n",
              "      <td>4</td>\n",
              "      <td>0.0</td>\n",
              "      <td>0.0</td>\n",
              "      <td>0.0</td>\n",
              "    </tr>\n",
              "  </tbody>\n",
              "</table>\n",
              "</div>"
            ],
            "text/plain": [
              "  Province/State      Country  latitude  ...  Confirmed Deaths  Recovered\n",
              "0  Not specified  Afghanistan      33.0  ...        0.0    0.0        0.0\n",
              "1  Not specified  Afghanistan      33.0  ...        0.0    0.0        0.0\n",
              "2  Not specified  Afghanistan      33.0  ...        0.0    0.0        0.0\n",
              "3  Not specified  Afghanistan      33.0  ...        0.0    0.0        0.0\n",
              "4  Not specified  Afghanistan      33.0  ...        0.0    0.0        0.0\n",
              "\n",
              "[5 rows x 10 columns]"
            ]
          },
          "metadata": {
            "tags": []
          },
          "execution_count": 6
        }
      ]
    },
    {
      "cell_type": "code",
      "metadata": {
        "id": "EBte1HXqdXDr",
        "colab_type": "code",
        "colab": {}
      },
      "source": [
        "scaler = MinMaxScaler()\n",
        "df[['Confirmed', 'Deaths', 'Recovered']] = scaler.fit_transform((df[['Confirmed', 'Deaths', 'Recovered']]))"
      ],
      "execution_count": 0,
      "outputs": []
    },
    {
      "cell_type": "code",
      "metadata": {
        "id": "0WOMzztIdXDw",
        "colab_type": "code",
        "colab": {}
      },
      "source": [
        "train_date = []\n",
        "test_date = []\n",
        "t = pd.Timestamp(year=2020,month=3,day=3)\n",
        "\n",
        "for i in range(len(df['Date'])):    \n",
        "#     print((pd.Timestamp(df.iloc[i,4]) - t).days)\n",
        "    if (pd.Timestamp(df.iloc[i,4]) - t).days >=0:\n",
        "#         print(df.iloc[i,4])\n",
        "        train_date.append(df.iloc[i,4])\n",
        "    else:\n",
        "#         print(df.iloc[i,4])\n",
        "        test_date.append(df.iloc[i,4])"
      ],
      "execution_count": 0,
      "outputs": []
    },
    {
      "cell_type": "code",
      "metadata": {
        "id": "KEO5oNYwdXD0",
        "colab_type": "code",
        "outputId": "e3c44e06-be69-4be4-ab49-c34a7535e8f8",
        "colab": {
          "base_uri": "https://localhost:8080/",
          "height": 204
        }
      },
      "source": [
        "test = {'Province/State':[],\n",
        "         'Country':[],\n",
        "         'latitude':[],\n",
        "         'longitude':[],\n",
        "         'Date':[],\n",
        "         'loc_id':[],\n",
        "         'Key':[],\n",
        "         'Confirmed':[],\n",
        "         'Deaths':[],\n",
        "         'Recovered':[]}\n",
        "for i in range(len(df)):\n",
        "    if df.iloc[i,4] in train_date:\n",
        "        test['Province/State'].append(df.iloc[i,0])\n",
        "        test['Country'].append(df.iloc[i,1])\n",
        "        test['latitude'].append(df.iloc[i,2])\n",
        "        test['longitude'].append(df.iloc[i,3])\n",
        "        test['Date'].append(df.iloc[i,4])\n",
        "        test['loc_id'].append(df.iloc[i,5])\n",
        "        test['Key'].append(df.iloc[i,6])\n",
        "        test['Confirmed'].append(df.iloc[i,7])\n",
        "        test['Deaths'].append(df.iloc[i,8])\n",
        "        test['Recovered'].append(df.iloc[i,9])\n",
        "\n",
        "test = pd.DataFrame(test)\n",
        "test.head()"
      ],
      "execution_count": 9,
      "outputs": [
        {
          "output_type": "execute_result",
          "data": {
            "text/html": [
              "<div>\n",
              "<style scoped>\n",
              "    .dataframe tbody tr th:only-of-type {\n",
              "        vertical-align: middle;\n",
              "    }\n",
              "\n",
              "    .dataframe tbody tr th {\n",
              "        vertical-align: top;\n",
              "    }\n",
              "\n",
              "    .dataframe thead th {\n",
              "        text-align: right;\n",
              "    }\n",
              "</style>\n",
              "<table border=\"1\" class=\"dataframe\">\n",
              "  <thead>\n",
              "    <tr style=\"text-align: right;\">\n",
              "      <th></th>\n",
              "      <th>Province/State</th>\n",
              "      <th>Country</th>\n",
              "      <th>latitude</th>\n",
              "      <th>longitude</th>\n",
              "      <th>Date</th>\n",
              "      <th>loc_id</th>\n",
              "      <th>Key</th>\n",
              "      <th>Confirmed</th>\n",
              "      <th>Deaths</th>\n",
              "      <th>Recovered</th>\n",
              "    </tr>\n",
              "  </thead>\n",
              "  <tbody>\n",
              "    <tr>\n",
              "      <th>0</th>\n",
              "      <td>Not specified</td>\n",
              "      <td>Afghanistan</td>\n",
              "      <td>33.0</td>\n",
              "      <td>65.0</td>\n",
              "      <td>2020-03-03</td>\n",
              "      <td>0</td>\n",
              "      <td>41</td>\n",
              "      <td>0.000498</td>\n",
              "      <td>0.003676</td>\n",
              "      <td>0.009469</td>\n",
              "    </tr>\n",
              "    <tr>\n",
              "      <th>1</th>\n",
              "      <td>Not specified</td>\n",
              "      <td>Afghanistan</td>\n",
              "      <td>33.0</td>\n",
              "      <td>65.0</td>\n",
              "      <td>2020-03-04</td>\n",
              "      <td>0</td>\n",
              "      <td>42</td>\n",
              "      <td>0.000498</td>\n",
              "      <td>0.003676</td>\n",
              "      <td>0.009469</td>\n",
              "    </tr>\n",
              "    <tr>\n",
              "      <th>2</th>\n",
              "      <td>Not specified</td>\n",
              "      <td>Afghanistan</td>\n",
              "      <td>33.0</td>\n",
              "      <td>65.0</td>\n",
              "      <td>2020-03-05</td>\n",
              "      <td>0</td>\n",
              "      <td>43</td>\n",
              "      <td>0.000498</td>\n",
              "      <td>0.003676</td>\n",
              "      <td>0.009469</td>\n",
              "    </tr>\n",
              "    <tr>\n",
              "      <th>3</th>\n",
              "      <td>Not specified</td>\n",
              "      <td>Afghanistan</td>\n",
              "      <td>33.0</td>\n",
              "      <td>65.0</td>\n",
              "      <td>2020-03-06</td>\n",
              "      <td>0</td>\n",
              "      <td>44</td>\n",
              "      <td>0.000498</td>\n",
              "      <td>0.003676</td>\n",
              "      <td>0.009469</td>\n",
              "    </tr>\n",
              "    <tr>\n",
              "      <th>4</th>\n",
              "      <td>Not specified</td>\n",
              "      <td>Afghanistan</td>\n",
              "      <td>33.0</td>\n",
              "      <td>65.0</td>\n",
              "      <td>2020-03-07</td>\n",
              "      <td>0</td>\n",
              "      <td>45</td>\n",
              "      <td>0.000498</td>\n",
              "      <td>0.003676</td>\n",
              "      <td>0.009469</td>\n",
              "    </tr>\n",
              "  </tbody>\n",
              "</table>\n",
              "</div>"
            ],
            "text/plain": [
              "  Province/State      Country  latitude  ...  Confirmed    Deaths  Recovered\n",
              "0  Not specified  Afghanistan      33.0  ...   0.000498  0.003676   0.009469\n",
              "1  Not specified  Afghanistan      33.0  ...   0.000498  0.003676   0.009469\n",
              "2  Not specified  Afghanistan      33.0  ...   0.000498  0.003676   0.009469\n",
              "3  Not specified  Afghanistan      33.0  ...   0.000498  0.003676   0.009469\n",
              "4  Not specified  Afghanistan      33.0  ...   0.000498  0.003676   0.009469\n",
              "\n",
              "[5 rows x 10 columns]"
            ]
          },
          "metadata": {
            "tags": []
          },
          "execution_count": 9
        }
      ]
    },
    {
      "cell_type": "code",
      "metadata": {
        "id": "No7B9W2UdXD5",
        "colab_type": "code",
        "outputId": "0345f5a1-bf82-4b55-adc2-aef05ead99eb",
        "colab": {
          "base_uri": "https://localhost:8080/",
          "height": 204
        }
      },
      "source": [
        "train = {'Province/State':[],\n",
        "         'Country':[],\n",
        "         'latitude':[],\n",
        "         'longitude':[],\n",
        "         'Date':[],\n",
        "         'loc_id':[],\n",
        "         'Key':[],\n",
        "         'Confirmed':[],\n",
        "         'Deaths':[],\n",
        "         'Recovered':[]}\n",
        "for i in range(len(df)):\n",
        "    if df.iloc[i,4] in test_date:\n",
        "        train['Province/State'].append(df.iloc[i,0])\n",
        "        train['Country'].append(df.iloc[i,1])\n",
        "        train['latitude'].append(df.iloc[i,2])\n",
        "        train['longitude'].append(df.iloc[i,3])\n",
        "        train['Date'].append(df.iloc[i,4])\n",
        "        train['loc_id'].append(df.iloc[i,5])\n",
        "        train['Key'].append(df.iloc[i,6])\n",
        "        train['Confirmed'].append(df.iloc[i,7])\n",
        "        train['Deaths'].append(df.iloc[i,8])\n",
        "        train['Recovered'].append(df.iloc[i,9])\n",
        "\n",
        "train = pd.DataFrame(train)\n",
        "train.head()"
      ],
      "execution_count": 10,
      "outputs": [
        {
          "output_type": "execute_result",
          "data": {
            "text/html": [
              "<div>\n",
              "<style scoped>\n",
              "    .dataframe tbody tr th:only-of-type {\n",
              "        vertical-align: middle;\n",
              "    }\n",
              "\n",
              "    .dataframe tbody tr th {\n",
              "        vertical-align: top;\n",
              "    }\n",
              "\n",
              "    .dataframe thead th {\n",
              "        text-align: right;\n",
              "    }\n",
              "</style>\n",
              "<table border=\"1\" class=\"dataframe\">\n",
              "  <thead>\n",
              "    <tr style=\"text-align: right;\">\n",
              "      <th></th>\n",
              "      <th>Province/State</th>\n",
              "      <th>Country</th>\n",
              "      <th>latitude</th>\n",
              "      <th>longitude</th>\n",
              "      <th>Date</th>\n",
              "      <th>loc_id</th>\n",
              "      <th>Key</th>\n",
              "      <th>Confirmed</th>\n",
              "      <th>Deaths</th>\n",
              "      <th>Recovered</th>\n",
              "    </tr>\n",
              "  </thead>\n",
              "  <tbody>\n",
              "    <tr>\n",
              "      <th>0</th>\n",
              "      <td>Not specified</td>\n",
              "      <td>Afghanistan</td>\n",
              "      <td>33.0</td>\n",
              "      <td>65.0</td>\n",
              "      <td>2020-01-22</td>\n",
              "      <td>0</td>\n",
              "      <td>0</td>\n",
              "      <td>0.000498</td>\n",
              "      <td>0.003676</td>\n",
              "      <td>0.009469</td>\n",
              "    </tr>\n",
              "    <tr>\n",
              "      <th>1</th>\n",
              "      <td>Not specified</td>\n",
              "      <td>Afghanistan</td>\n",
              "      <td>33.0</td>\n",
              "      <td>65.0</td>\n",
              "      <td>2020-01-23</td>\n",
              "      <td>0</td>\n",
              "      <td>1</td>\n",
              "      <td>0.000498</td>\n",
              "      <td>0.003676</td>\n",
              "      <td>0.009469</td>\n",
              "    </tr>\n",
              "    <tr>\n",
              "      <th>2</th>\n",
              "      <td>Not specified</td>\n",
              "      <td>Afghanistan</td>\n",
              "      <td>33.0</td>\n",
              "      <td>65.0</td>\n",
              "      <td>2020-01-24</td>\n",
              "      <td>0</td>\n",
              "      <td>2</td>\n",
              "      <td>0.000498</td>\n",
              "      <td>0.003676</td>\n",
              "      <td>0.009469</td>\n",
              "    </tr>\n",
              "    <tr>\n",
              "      <th>3</th>\n",
              "      <td>Not specified</td>\n",
              "      <td>Afghanistan</td>\n",
              "      <td>33.0</td>\n",
              "      <td>65.0</td>\n",
              "      <td>2020-01-25</td>\n",
              "      <td>0</td>\n",
              "      <td>3</td>\n",
              "      <td>0.000498</td>\n",
              "      <td>0.003676</td>\n",
              "      <td>0.009469</td>\n",
              "    </tr>\n",
              "    <tr>\n",
              "      <th>4</th>\n",
              "      <td>Not specified</td>\n",
              "      <td>Afghanistan</td>\n",
              "      <td>33.0</td>\n",
              "      <td>65.0</td>\n",
              "      <td>2020-01-26</td>\n",
              "      <td>0</td>\n",
              "      <td>4</td>\n",
              "      <td>0.000498</td>\n",
              "      <td>0.003676</td>\n",
              "      <td>0.009469</td>\n",
              "    </tr>\n",
              "  </tbody>\n",
              "</table>\n",
              "</div>"
            ],
            "text/plain": [
              "  Province/State      Country  latitude  ...  Confirmed    Deaths  Recovered\n",
              "0  Not specified  Afghanistan      33.0  ...   0.000498  0.003676   0.009469\n",
              "1  Not specified  Afghanistan      33.0  ...   0.000498  0.003676   0.009469\n",
              "2  Not specified  Afghanistan      33.0  ...   0.000498  0.003676   0.009469\n",
              "3  Not specified  Afghanistan      33.0  ...   0.000498  0.003676   0.009469\n",
              "4  Not specified  Afghanistan      33.0  ...   0.000498  0.003676   0.009469\n",
              "\n",
              "[5 rows x 10 columns]"
            ]
          },
          "metadata": {
            "tags": []
          },
          "execution_count": 10
        }
      ]
    },
    {
      "cell_type": "code",
      "metadata": {
        "id": "OL_toFBRdXD9",
        "colab_type": "code",
        "outputId": "2e9aa08d-d59b-494f-ed2a-f97a68a81f88",
        "colab": {
          "base_uri": "https://localhost:8080/",
          "height": 34
        }
      },
      "source": [
        "print('No. of rows in train and test:',train.shape[0], test.shape[0])"
      ],
      "execution_count": 11,
      "outputs": [
        {
          "output_type": "stream",
          "text": [
            "No. of rows in train and test: 10578 7998\n"
          ],
          "name": "stdout"
        }
      ]
    },
    {
      "cell_type": "code",
      "metadata": {
        "id": "aD1xa9mHdXEB",
        "colab_type": "code",
        "outputId": "ad78c6f3-9899-4c86-ac74-79961daeccb9",
        "colab": {
          "base_uri": "https://localhost:8080/",
          "height": 51
        }
      },
      "source": [
        "print('Min date from train set: %s' % train['Date'].min().date())\n",
        "print('Max date from train set: %s' % train['Date'].max().date())"
      ],
      "execution_count": 12,
      "outputs": [
        {
          "output_type": "stream",
          "text": [
            "Min date from train set: 2020-01-22\n",
            "Max date from train set: 2020-03-02\n"
          ],
          "name": "stdout"
        }
      ]
    },
    {
      "cell_type": "code",
      "metadata": {
        "id": "7h4gwtnvdXEF",
        "colab_type": "code",
        "outputId": "e1b19274-822e-4b23-e5b4-1206d3f06f41",
        "colab": {
          "base_uri": "https://localhost:8080/",
          "height": 68
        }
      },
      "source": [
        "lag_size = (test['Date'].max().date() - train['Date'].max().date()).days\n",
        "print('Max date from train set: %s' % train['Date'].max().date())\n",
        "print('Max date from test set: %s' % test['Date'].max().date())\n",
        "print('Forecast lag size', lag_size)"
      ],
      "execution_count": 13,
      "outputs": [
        {
          "output_type": "stream",
          "text": [
            "Max date from train set: 2020-03-02\n",
            "Max date from test set: 2020-04-02\n",
            "Forecast lag size 31\n"
          ],
          "name": "stdout"
        }
      ]
    },
    {
      "cell_type": "code",
      "metadata": {
        "id": "q2yoVsNWdXEJ",
        "colab_type": "code",
        "colab": {}
      },
      "source": [
        "daily_confirmed = train.groupby('Date', as_index=False)['Confirmed'].sum()\n",
        "country_confirmed = train.groupby(['Country', 'Date'], as_index=False)['Confirmed'].sum()\n",
        "\n",
        "daily_death = train.groupby('Date', as_index=False)['Deaths'].sum()\n",
        "country_death = train.groupby(['Country', 'Date'], as_index=False)['Deaths'].sum()\n",
        "\n",
        "daily_recovered = train.groupby('Date', as_index=False)['Recovered'].sum()\n",
        "country_recovered = train.groupby(['Country', 'Date'], as_index=False)['Recovered'].sum()"
      ],
      "execution_count": 0,
      "outputs": []
    },
    {
      "cell_type": "code",
      "metadata": {
        "id": "GBhosjtgdXEN",
        "colab_type": "code",
        "outputId": "61b87ba6-d26b-4783-c639-85717407f470",
        "colab": {
          "base_uri": "https://localhost:8080/",
          "height": 204
        }
      },
      "source": [
        "train_gp = train.sort_values('Date').groupby(['Country', 'Date'], as_index=False)\n",
        "train_gp = train_gp.agg({'Confirmed':['sum'],'Deaths':['sum'],'Recovered':['sum']})\n",
        "train_gp.columns = ['Country', 'Date', 'Confirmed','Deaths','Recovered']\n",
        "train_gp.head()\n",
        "le = LabelEncoder()\n",
        "train_gp['Country'] = le.fit_transform(train_gp['Country'])\n",
        "train_gp.head()"
      ],
      "execution_count": 18,
      "outputs": [
        {
          "output_type": "execute_result",
          "data": {
            "text/html": [
              "<div>\n",
              "<style scoped>\n",
              "    .dataframe tbody tr th:only-of-type {\n",
              "        vertical-align: middle;\n",
              "    }\n",
              "\n",
              "    .dataframe tbody tr th {\n",
              "        vertical-align: top;\n",
              "    }\n",
              "\n",
              "    .dataframe thead th {\n",
              "        text-align: right;\n",
              "    }\n",
              "</style>\n",
              "<table border=\"1\" class=\"dataframe\">\n",
              "  <thead>\n",
              "    <tr style=\"text-align: right;\">\n",
              "      <th></th>\n",
              "      <th>Country</th>\n",
              "      <th>Date</th>\n",
              "      <th>Confirmed</th>\n",
              "      <th>Deaths</th>\n",
              "      <th>Recovered</th>\n",
              "    </tr>\n",
              "  </thead>\n",
              "  <tbody>\n",
              "    <tr>\n",
              "      <th>0</th>\n",
              "      <td>0</td>\n",
              "      <td>2020-01-22</td>\n",
              "      <td>0.000498</td>\n",
              "      <td>0.003676</td>\n",
              "      <td>0.009469</td>\n",
              "    </tr>\n",
              "    <tr>\n",
              "      <th>1</th>\n",
              "      <td>0</td>\n",
              "      <td>2020-01-23</td>\n",
              "      <td>0.000498</td>\n",
              "      <td>0.003676</td>\n",
              "      <td>0.009469</td>\n",
              "    </tr>\n",
              "    <tr>\n",
              "      <th>2</th>\n",
              "      <td>0</td>\n",
              "      <td>2020-01-24</td>\n",
              "      <td>0.000498</td>\n",
              "      <td>0.003676</td>\n",
              "      <td>0.009469</td>\n",
              "    </tr>\n",
              "    <tr>\n",
              "      <th>3</th>\n",
              "      <td>0</td>\n",
              "      <td>2020-01-25</td>\n",
              "      <td>0.000498</td>\n",
              "      <td>0.003676</td>\n",
              "      <td>0.009469</td>\n",
              "    </tr>\n",
              "    <tr>\n",
              "      <th>4</th>\n",
              "      <td>0</td>\n",
              "      <td>2020-01-26</td>\n",
              "      <td>0.000498</td>\n",
              "      <td>0.003676</td>\n",
              "      <td>0.009469</td>\n",
              "    </tr>\n",
              "  </tbody>\n",
              "</table>\n",
              "</div>"
            ],
            "text/plain": [
              "   Country       Date  Confirmed    Deaths  Recovered\n",
              "0        0 2020-01-22   0.000498  0.003676   0.009469\n",
              "1        0 2020-01-23   0.000498  0.003676   0.009469\n",
              "2        0 2020-01-24   0.000498  0.003676   0.009469\n",
              "3        0 2020-01-25   0.000498  0.003676   0.009469\n",
              "4        0 2020-01-26   0.000498  0.003676   0.009469"
            ]
          },
          "metadata": {
            "tags": []
          },
          "execution_count": 18
        }
      ]
    },
    {
      "cell_type": "code",
      "metadata": {
        "id": "67oJgBYUdXES",
        "colab_type": "code",
        "colab": {}
      },
      "source": [
        "def series_to_supervised(data, window=1, lag=1, dropnan=True):\n",
        "    cols, names = list(), list()\n",
        "\n",
        "    for i in range(window, 0, -1):\n",
        "        cols.append(data.shift(i))\n",
        "        names += [('%s(t-%d)' % (col, i)) for col in data.columns]\n",
        "\n",
        "    cols.append(data)\n",
        "    names += [('%s(t)' % (col)) for col in data.columns]\n",
        "\n",
        "    cols.append(data.shift(-lag))\n",
        "    names += [('%s(t+%d)' % (col, lag)) for col in data.columns]\n",
        "\n",
        "    agg = pd.concat(cols, axis=1)\n",
        "    agg.columns = names\n",
        "\n",
        "    if dropnan:\n",
        "        agg.dropna(inplace=True)\n",
        "    return agg"
      ],
      "execution_count": 0,
      "outputs": []
    },
    {
      "cell_type": "code",
      "metadata": {
        "id": "pR7J6PM2dXEV",
        "colab_type": "code",
        "outputId": "e6ae5e87-afca-4715-9ba7-cab144c34269",
        "colab": {
          "base_uri": "https://localhost:8080/",
          "height": 270
        }
      },
      "source": [
        "window = 30\n",
        "lag = lag_size\n",
        "series = series_to_supervised(train_gp.drop('Date', axis=1), window=window, lag=lag)\n",
        "series.head()"
      ],
      "execution_count": 20,
      "outputs": [
        {
          "output_type": "execute_result",
          "data": {
            "text/html": [
              "<div>\n",
              "<style scoped>\n",
              "    .dataframe tbody tr th:only-of-type {\n",
              "        vertical-align: middle;\n",
              "    }\n",
              "\n",
              "    .dataframe tbody tr th {\n",
              "        vertical-align: top;\n",
              "    }\n",
              "\n",
              "    .dataframe thead th {\n",
              "        text-align: right;\n",
              "    }\n",
              "</style>\n",
              "<table border=\"1\" class=\"dataframe\">\n",
              "  <thead>\n",
              "    <tr style=\"text-align: right;\">\n",
              "      <th></th>\n",
              "      <th>Country(t-30)</th>\n",
              "      <th>Confirmed(t-30)</th>\n",
              "      <th>Deaths(t-30)</th>\n",
              "      <th>Recovered(t-30)</th>\n",
              "      <th>Country(t-29)</th>\n",
              "      <th>Confirmed(t-29)</th>\n",
              "      <th>Deaths(t-29)</th>\n",
              "      <th>Recovered(t-29)</th>\n",
              "      <th>Country(t-28)</th>\n",
              "      <th>Confirmed(t-28)</th>\n",
              "      <th>Deaths(t-28)</th>\n",
              "      <th>Recovered(t-28)</th>\n",
              "      <th>Country(t-27)</th>\n",
              "      <th>Confirmed(t-27)</th>\n",
              "      <th>Deaths(t-27)</th>\n",
              "      <th>Recovered(t-27)</th>\n",
              "      <th>Country(t-26)</th>\n",
              "      <th>Confirmed(t-26)</th>\n",
              "      <th>Deaths(t-26)</th>\n",
              "      <th>Recovered(t-26)</th>\n",
              "      <th>Country(t-25)</th>\n",
              "      <th>Confirmed(t-25)</th>\n",
              "      <th>Deaths(t-25)</th>\n",
              "      <th>Recovered(t-25)</th>\n",
              "      <th>Country(t-24)</th>\n",
              "      <th>Confirmed(t-24)</th>\n",
              "      <th>Deaths(t-24)</th>\n",
              "      <th>Recovered(t-24)</th>\n",
              "      <th>Country(t-23)</th>\n",
              "      <th>Confirmed(t-23)</th>\n",
              "      <th>Deaths(t-23)</th>\n",
              "      <th>Recovered(t-23)</th>\n",
              "      <th>Country(t-22)</th>\n",
              "      <th>Confirmed(t-22)</th>\n",
              "      <th>Deaths(t-22)</th>\n",
              "      <th>Recovered(t-22)</th>\n",
              "      <th>Country(t-21)</th>\n",
              "      <th>Confirmed(t-21)</th>\n",
              "      <th>Deaths(t-21)</th>\n",
              "      <th>Recovered(t-21)</th>\n",
              "      <th>...</th>\n",
              "      <th>Country(t-8)</th>\n",
              "      <th>Confirmed(t-8)</th>\n",
              "      <th>Deaths(t-8)</th>\n",
              "      <th>Recovered(t-8)</th>\n",
              "      <th>Country(t-7)</th>\n",
              "      <th>Confirmed(t-7)</th>\n",
              "      <th>Deaths(t-7)</th>\n",
              "      <th>Recovered(t-7)</th>\n",
              "      <th>Country(t-6)</th>\n",
              "      <th>Confirmed(t-6)</th>\n",
              "      <th>Deaths(t-6)</th>\n",
              "      <th>Recovered(t-6)</th>\n",
              "      <th>Country(t-5)</th>\n",
              "      <th>Confirmed(t-5)</th>\n",
              "      <th>Deaths(t-5)</th>\n",
              "      <th>Recovered(t-5)</th>\n",
              "      <th>Country(t-4)</th>\n",
              "      <th>Confirmed(t-4)</th>\n",
              "      <th>Deaths(t-4)</th>\n",
              "      <th>Recovered(t-4)</th>\n",
              "      <th>Country(t-3)</th>\n",
              "      <th>Confirmed(t-3)</th>\n",
              "      <th>Deaths(t-3)</th>\n",
              "      <th>Recovered(t-3)</th>\n",
              "      <th>Country(t-2)</th>\n",
              "      <th>Confirmed(t-2)</th>\n",
              "      <th>Deaths(t-2)</th>\n",
              "      <th>Recovered(t-2)</th>\n",
              "      <th>Country(t-1)</th>\n",
              "      <th>Confirmed(t-1)</th>\n",
              "      <th>Deaths(t-1)</th>\n",
              "      <th>Recovered(t-1)</th>\n",
              "      <th>Country(t)</th>\n",
              "      <th>Confirmed(t)</th>\n",
              "      <th>Deaths(t)</th>\n",
              "      <th>Recovered(t)</th>\n",
              "      <th>Country(t+31)</th>\n",
              "      <th>Confirmed(t+31)</th>\n",
              "      <th>Deaths(t+31)</th>\n",
              "      <th>Recovered(t+31)</th>\n",
              "    </tr>\n",
              "  </thead>\n",
              "  <tbody>\n",
              "    <tr>\n",
              "      <th>30</th>\n",
              "      <td>0.0</td>\n",
              "      <td>0.000498</td>\n",
              "      <td>0.003676</td>\n",
              "      <td>0.009469</td>\n",
              "      <td>0.0</td>\n",
              "      <td>0.000498</td>\n",
              "      <td>0.003676</td>\n",
              "      <td>0.009469</td>\n",
              "      <td>0.0</td>\n",
              "      <td>0.000498</td>\n",
              "      <td>0.003676</td>\n",
              "      <td>0.009469</td>\n",
              "      <td>0.0</td>\n",
              "      <td>0.000498</td>\n",
              "      <td>0.003676</td>\n",
              "      <td>0.009469</td>\n",
              "      <td>0.0</td>\n",
              "      <td>0.000498</td>\n",
              "      <td>0.003676</td>\n",
              "      <td>0.009469</td>\n",
              "      <td>0.0</td>\n",
              "      <td>0.000498</td>\n",
              "      <td>0.003676</td>\n",
              "      <td>0.009469</td>\n",
              "      <td>0.0</td>\n",
              "      <td>0.000498</td>\n",
              "      <td>0.003676</td>\n",
              "      <td>0.009469</td>\n",
              "      <td>0.0</td>\n",
              "      <td>0.000498</td>\n",
              "      <td>0.003676</td>\n",
              "      <td>0.009469</td>\n",
              "      <td>0.0</td>\n",
              "      <td>0.000498</td>\n",
              "      <td>0.003676</td>\n",
              "      <td>0.009469</td>\n",
              "      <td>0.0</td>\n",
              "      <td>0.000498</td>\n",
              "      <td>0.003676</td>\n",
              "      <td>0.009469</td>\n",
              "      <td>...</td>\n",
              "      <td>0.0</td>\n",
              "      <td>0.000498</td>\n",
              "      <td>0.003676</td>\n",
              "      <td>0.009469</td>\n",
              "      <td>0.0</td>\n",
              "      <td>0.000498</td>\n",
              "      <td>0.003676</td>\n",
              "      <td>0.009469</td>\n",
              "      <td>0.0</td>\n",
              "      <td>0.000498</td>\n",
              "      <td>0.003676</td>\n",
              "      <td>0.009469</td>\n",
              "      <td>0.0</td>\n",
              "      <td>0.000498</td>\n",
              "      <td>0.003676</td>\n",
              "      <td>0.009469</td>\n",
              "      <td>0.0</td>\n",
              "      <td>0.000498</td>\n",
              "      <td>0.003676</td>\n",
              "      <td>0.009469</td>\n",
              "      <td>0.0</td>\n",
              "      <td>0.000498</td>\n",
              "      <td>0.003676</td>\n",
              "      <td>0.009469</td>\n",
              "      <td>0.0</td>\n",
              "      <td>0.000498</td>\n",
              "      <td>0.003676</td>\n",
              "      <td>0.009469</td>\n",
              "      <td>0.0</td>\n",
              "      <td>0.000498</td>\n",
              "      <td>0.003676</td>\n",
              "      <td>0.009469</td>\n",
              "      <td>0</td>\n",
              "      <td>0.000498</td>\n",
              "      <td>0.003676</td>\n",
              "      <td>0.009469</td>\n",
              "      <td>1.0</td>\n",
              "      <td>0.000498</td>\n",
              "      <td>0.003676</td>\n",
              "      <td>0.009469</td>\n",
              "    </tr>\n",
              "    <tr>\n",
              "      <th>31</th>\n",
              "      <td>0.0</td>\n",
              "      <td>0.000498</td>\n",
              "      <td>0.003676</td>\n",
              "      <td>0.009469</td>\n",
              "      <td>0.0</td>\n",
              "      <td>0.000498</td>\n",
              "      <td>0.003676</td>\n",
              "      <td>0.009469</td>\n",
              "      <td>0.0</td>\n",
              "      <td>0.000498</td>\n",
              "      <td>0.003676</td>\n",
              "      <td>0.009469</td>\n",
              "      <td>0.0</td>\n",
              "      <td>0.000498</td>\n",
              "      <td>0.003676</td>\n",
              "      <td>0.009469</td>\n",
              "      <td>0.0</td>\n",
              "      <td>0.000498</td>\n",
              "      <td>0.003676</td>\n",
              "      <td>0.009469</td>\n",
              "      <td>0.0</td>\n",
              "      <td>0.000498</td>\n",
              "      <td>0.003676</td>\n",
              "      <td>0.009469</td>\n",
              "      <td>0.0</td>\n",
              "      <td>0.000498</td>\n",
              "      <td>0.003676</td>\n",
              "      <td>0.009469</td>\n",
              "      <td>0.0</td>\n",
              "      <td>0.000498</td>\n",
              "      <td>0.003676</td>\n",
              "      <td>0.009469</td>\n",
              "      <td>0.0</td>\n",
              "      <td>0.000498</td>\n",
              "      <td>0.003676</td>\n",
              "      <td>0.009469</td>\n",
              "      <td>0.0</td>\n",
              "      <td>0.000498</td>\n",
              "      <td>0.003676</td>\n",
              "      <td>0.009469</td>\n",
              "      <td>...</td>\n",
              "      <td>0.0</td>\n",
              "      <td>0.000498</td>\n",
              "      <td>0.003676</td>\n",
              "      <td>0.009469</td>\n",
              "      <td>0.0</td>\n",
              "      <td>0.000498</td>\n",
              "      <td>0.003676</td>\n",
              "      <td>0.009469</td>\n",
              "      <td>0.0</td>\n",
              "      <td>0.000498</td>\n",
              "      <td>0.003676</td>\n",
              "      <td>0.009469</td>\n",
              "      <td>0.0</td>\n",
              "      <td>0.000498</td>\n",
              "      <td>0.003676</td>\n",
              "      <td>0.009469</td>\n",
              "      <td>0.0</td>\n",
              "      <td>0.000498</td>\n",
              "      <td>0.003676</td>\n",
              "      <td>0.009469</td>\n",
              "      <td>0.0</td>\n",
              "      <td>0.000498</td>\n",
              "      <td>0.003676</td>\n",
              "      <td>0.009469</td>\n",
              "      <td>0.0</td>\n",
              "      <td>0.000498</td>\n",
              "      <td>0.003676</td>\n",
              "      <td>0.009469</td>\n",
              "      <td>0.0</td>\n",
              "      <td>0.000498</td>\n",
              "      <td>0.003676</td>\n",
              "      <td>0.009469</td>\n",
              "      <td>0</td>\n",
              "      <td>0.000498</td>\n",
              "      <td>0.003676</td>\n",
              "      <td>0.009469</td>\n",
              "      <td>1.0</td>\n",
              "      <td>0.000498</td>\n",
              "      <td>0.003676</td>\n",
              "      <td>0.009469</td>\n",
              "    </tr>\n",
              "    <tr>\n",
              "      <th>32</th>\n",
              "      <td>0.0</td>\n",
              "      <td>0.000498</td>\n",
              "      <td>0.003676</td>\n",
              "      <td>0.009469</td>\n",
              "      <td>0.0</td>\n",
              "      <td>0.000498</td>\n",
              "      <td>0.003676</td>\n",
              "      <td>0.009469</td>\n",
              "      <td>0.0</td>\n",
              "      <td>0.000498</td>\n",
              "      <td>0.003676</td>\n",
              "      <td>0.009469</td>\n",
              "      <td>0.0</td>\n",
              "      <td>0.000498</td>\n",
              "      <td>0.003676</td>\n",
              "      <td>0.009469</td>\n",
              "      <td>0.0</td>\n",
              "      <td>0.000498</td>\n",
              "      <td>0.003676</td>\n",
              "      <td>0.009469</td>\n",
              "      <td>0.0</td>\n",
              "      <td>0.000498</td>\n",
              "      <td>0.003676</td>\n",
              "      <td>0.009469</td>\n",
              "      <td>0.0</td>\n",
              "      <td>0.000498</td>\n",
              "      <td>0.003676</td>\n",
              "      <td>0.009469</td>\n",
              "      <td>0.0</td>\n",
              "      <td>0.000498</td>\n",
              "      <td>0.003676</td>\n",
              "      <td>0.009469</td>\n",
              "      <td>0.0</td>\n",
              "      <td>0.000498</td>\n",
              "      <td>0.003676</td>\n",
              "      <td>0.009469</td>\n",
              "      <td>0.0</td>\n",
              "      <td>0.000498</td>\n",
              "      <td>0.003676</td>\n",
              "      <td>0.009469</td>\n",
              "      <td>...</td>\n",
              "      <td>0.0</td>\n",
              "      <td>0.000498</td>\n",
              "      <td>0.003676</td>\n",
              "      <td>0.009469</td>\n",
              "      <td>0.0</td>\n",
              "      <td>0.000498</td>\n",
              "      <td>0.003676</td>\n",
              "      <td>0.009469</td>\n",
              "      <td>0.0</td>\n",
              "      <td>0.000498</td>\n",
              "      <td>0.003676</td>\n",
              "      <td>0.009469</td>\n",
              "      <td>0.0</td>\n",
              "      <td>0.000498</td>\n",
              "      <td>0.003676</td>\n",
              "      <td>0.009469</td>\n",
              "      <td>0.0</td>\n",
              "      <td>0.000498</td>\n",
              "      <td>0.003676</td>\n",
              "      <td>0.009469</td>\n",
              "      <td>0.0</td>\n",
              "      <td>0.000498</td>\n",
              "      <td>0.003676</td>\n",
              "      <td>0.009469</td>\n",
              "      <td>0.0</td>\n",
              "      <td>0.000498</td>\n",
              "      <td>0.003676</td>\n",
              "      <td>0.009469</td>\n",
              "      <td>0.0</td>\n",
              "      <td>0.000498</td>\n",
              "      <td>0.003676</td>\n",
              "      <td>0.009469</td>\n",
              "      <td>0</td>\n",
              "      <td>0.000498</td>\n",
              "      <td>0.003676</td>\n",
              "      <td>0.009469</td>\n",
              "      <td>1.0</td>\n",
              "      <td>0.000498</td>\n",
              "      <td>0.003676</td>\n",
              "      <td>0.009469</td>\n",
              "    </tr>\n",
              "    <tr>\n",
              "      <th>33</th>\n",
              "      <td>0.0</td>\n",
              "      <td>0.000498</td>\n",
              "      <td>0.003676</td>\n",
              "      <td>0.009469</td>\n",
              "      <td>0.0</td>\n",
              "      <td>0.000498</td>\n",
              "      <td>0.003676</td>\n",
              "      <td>0.009469</td>\n",
              "      <td>0.0</td>\n",
              "      <td>0.000498</td>\n",
              "      <td>0.003676</td>\n",
              "      <td>0.009469</td>\n",
              "      <td>0.0</td>\n",
              "      <td>0.000498</td>\n",
              "      <td>0.003676</td>\n",
              "      <td>0.009469</td>\n",
              "      <td>0.0</td>\n",
              "      <td>0.000498</td>\n",
              "      <td>0.003676</td>\n",
              "      <td>0.009469</td>\n",
              "      <td>0.0</td>\n",
              "      <td>0.000498</td>\n",
              "      <td>0.003676</td>\n",
              "      <td>0.009469</td>\n",
              "      <td>0.0</td>\n",
              "      <td>0.000498</td>\n",
              "      <td>0.003676</td>\n",
              "      <td>0.009469</td>\n",
              "      <td>0.0</td>\n",
              "      <td>0.000498</td>\n",
              "      <td>0.003676</td>\n",
              "      <td>0.009469</td>\n",
              "      <td>0.0</td>\n",
              "      <td>0.000498</td>\n",
              "      <td>0.003676</td>\n",
              "      <td>0.009469</td>\n",
              "      <td>0.0</td>\n",
              "      <td>0.000498</td>\n",
              "      <td>0.003676</td>\n",
              "      <td>0.009469</td>\n",
              "      <td>...</td>\n",
              "      <td>0.0</td>\n",
              "      <td>0.000498</td>\n",
              "      <td>0.003676</td>\n",
              "      <td>0.009469</td>\n",
              "      <td>0.0</td>\n",
              "      <td>0.000498</td>\n",
              "      <td>0.003676</td>\n",
              "      <td>0.009469</td>\n",
              "      <td>0.0</td>\n",
              "      <td>0.000498</td>\n",
              "      <td>0.003676</td>\n",
              "      <td>0.009469</td>\n",
              "      <td>0.0</td>\n",
              "      <td>0.000498</td>\n",
              "      <td>0.003676</td>\n",
              "      <td>0.009469</td>\n",
              "      <td>0.0</td>\n",
              "      <td>0.000498</td>\n",
              "      <td>0.003676</td>\n",
              "      <td>0.009469</td>\n",
              "      <td>0.0</td>\n",
              "      <td>0.000498</td>\n",
              "      <td>0.003676</td>\n",
              "      <td>0.009469</td>\n",
              "      <td>0.0</td>\n",
              "      <td>0.000498</td>\n",
              "      <td>0.003676</td>\n",
              "      <td>0.009469</td>\n",
              "      <td>0.0</td>\n",
              "      <td>0.000498</td>\n",
              "      <td>0.003676</td>\n",
              "      <td>0.009469</td>\n",
              "      <td>0</td>\n",
              "      <td>0.000532</td>\n",
              "      <td>0.003676</td>\n",
              "      <td>0.009469</td>\n",
              "      <td>1.0</td>\n",
              "      <td>0.000498</td>\n",
              "      <td>0.003676</td>\n",
              "      <td>0.009469</td>\n",
              "    </tr>\n",
              "    <tr>\n",
              "      <th>34</th>\n",
              "      <td>0.0</td>\n",
              "      <td>0.000498</td>\n",
              "      <td>0.003676</td>\n",
              "      <td>0.009469</td>\n",
              "      <td>0.0</td>\n",
              "      <td>0.000498</td>\n",
              "      <td>0.003676</td>\n",
              "      <td>0.009469</td>\n",
              "      <td>0.0</td>\n",
              "      <td>0.000498</td>\n",
              "      <td>0.003676</td>\n",
              "      <td>0.009469</td>\n",
              "      <td>0.0</td>\n",
              "      <td>0.000498</td>\n",
              "      <td>0.003676</td>\n",
              "      <td>0.009469</td>\n",
              "      <td>0.0</td>\n",
              "      <td>0.000498</td>\n",
              "      <td>0.003676</td>\n",
              "      <td>0.009469</td>\n",
              "      <td>0.0</td>\n",
              "      <td>0.000498</td>\n",
              "      <td>0.003676</td>\n",
              "      <td>0.009469</td>\n",
              "      <td>0.0</td>\n",
              "      <td>0.000498</td>\n",
              "      <td>0.003676</td>\n",
              "      <td>0.009469</td>\n",
              "      <td>0.0</td>\n",
              "      <td>0.000498</td>\n",
              "      <td>0.003676</td>\n",
              "      <td>0.009469</td>\n",
              "      <td>0.0</td>\n",
              "      <td>0.000498</td>\n",
              "      <td>0.003676</td>\n",
              "      <td>0.009469</td>\n",
              "      <td>0.0</td>\n",
              "      <td>0.000498</td>\n",
              "      <td>0.003676</td>\n",
              "      <td>0.009469</td>\n",
              "      <td>...</td>\n",
              "      <td>0.0</td>\n",
              "      <td>0.000498</td>\n",
              "      <td>0.003676</td>\n",
              "      <td>0.009469</td>\n",
              "      <td>0.0</td>\n",
              "      <td>0.000498</td>\n",
              "      <td>0.003676</td>\n",
              "      <td>0.009469</td>\n",
              "      <td>0.0</td>\n",
              "      <td>0.000498</td>\n",
              "      <td>0.003676</td>\n",
              "      <td>0.009469</td>\n",
              "      <td>0.0</td>\n",
              "      <td>0.000498</td>\n",
              "      <td>0.003676</td>\n",
              "      <td>0.009469</td>\n",
              "      <td>0.0</td>\n",
              "      <td>0.000498</td>\n",
              "      <td>0.003676</td>\n",
              "      <td>0.009469</td>\n",
              "      <td>0.0</td>\n",
              "      <td>0.000498</td>\n",
              "      <td>0.003676</td>\n",
              "      <td>0.009469</td>\n",
              "      <td>0.0</td>\n",
              "      <td>0.000498</td>\n",
              "      <td>0.003676</td>\n",
              "      <td>0.009469</td>\n",
              "      <td>0.0</td>\n",
              "      <td>0.000532</td>\n",
              "      <td>0.003676</td>\n",
              "      <td>0.009469</td>\n",
              "      <td>0</td>\n",
              "      <td>0.000498</td>\n",
              "      <td>0.003676</td>\n",
              "      <td>0.009469</td>\n",
              "      <td>1.0</td>\n",
              "      <td>0.000498</td>\n",
              "      <td>0.003676</td>\n",
              "      <td>0.009469</td>\n",
              "    </tr>\n",
              "  </tbody>\n",
              "</table>\n",
              "<p>5 rows × 128 columns</p>\n",
              "</div>"
            ],
            "text/plain": [
              "    Country(t-30)  Confirmed(t-30)  ...  Deaths(t+31)  Recovered(t+31)\n",
              "30            0.0         0.000498  ...      0.003676         0.009469\n",
              "31            0.0         0.000498  ...      0.003676         0.009469\n",
              "32            0.0         0.000498  ...      0.003676         0.009469\n",
              "33            0.0         0.000498  ...      0.003676         0.009469\n",
              "34            0.0         0.000498  ...      0.003676         0.009469\n",
              "\n",
              "[5 rows x 128 columns]"
            ]
          },
          "metadata": {
            "tags": []
          },
          "execution_count": 20
        }
      ]
    },
    {
      "cell_type": "code",
      "metadata": {
        "id": "cVR8fLOSdXEY",
        "colab_type": "code",
        "colab": {}
      },
      "source": [
        "last_country = 'Country(t-%d)' % window\n",
        "series = series[(series['Country(t)'] == series[last_country])]"
      ],
      "execution_count": 0,
      "outputs": []
    },
    {
      "cell_type": "code",
      "metadata": {
        "id": "PuUbOlDxdXEc",
        "colab_type": "code",
        "colab": {}
      },
      "source": [
        "columns_to_drop = [('%s(t+%d)' % (col, lag)) for col in ['Recovered','Deaths']]\n",
        "for i in range(window, 0, -1):\n",
        "    columns_to_drop += [('%s(t-%d)' % (col, i)) for col in ['Deaths','Recovered']]\n",
        "series.drop(columns_to_drop, axis=1, inplace=True)\n",
        "series.drop(['Recovered(t)'], axis=1, inplace=True)\n",
        "series.drop(['Deaths(t)'],axis = 1, inplace=True)"
      ],
      "execution_count": 0,
      "outputs": []
    },
    {
      "cell_type": "code",
      "metadata": {
        "scrolled": true,
        "id": "ldk6K1RudXEh",
        "colab_type": "code",
        "outputId": "0f1fd519-1732-4cd5-c3e5-bf5afec84f2a",
        "colab": {
          "base_uri": "https://localhost:8080/",
          "height": 241
        }
      },
      "source": [
        "series.head()"
      ],
      "execution_count": 23,
      "outputs": [
        {
          "output_type": "execute_result",
          "data": {
            "text/html": [
              "<div>\n",
              "<style scoped>\n",
              "    .dataframe tbody tr th:only-of-type {\n",
              "        vertical-align: middle;\n",
              "    }\n",
              "\n",
              "    .dataframe tbody tr th {\n",
              "        vertical-align: top;\n",
              "    }\n",
              "\n",
              "    .dataframe thead th {\n",
              "        text-align: right;\n",
              "    }\n",
              "</style>\n",
              "<table border=\"1\" class=\"dataframe\">\n",
              "  <thead>\n",
              "    <tr style=\"text-align: right;\">\n",
              "      <th></th>\n",
              "      <th>Country(t-30)</th>\n",
              "      <th>Confirmed(t-30)</th>\n",
              "      <th>Country(t-29)</th>\n",
              "      <th>Confirmed(t-29)</th>\n",
              "      <th>Country(t-28)</th>\n",
              "      <th>Confirmed(t-28)</th>\n",
              "      <th>Country(t-27)</th>\n",
              "      <th>Confirmed(t-27)</th>\n",
              "      <th>Country(t-26)</th>\n",
              "      <th>Confirmed(t-26)</th>\n",
              "      <th>Country(t-25)</th>\n",
              "      <th>Confirmed(t-25)</th>\n",
              "      <th>Country(t-24)</th>\n",
              "      <th>Confirmed(t-24)</th>\n",
              "      <th>Country(t-23)</th>\n",
              "      <th>Confirmed(t-23)</th>\n",
              "      <th>Country(t-22)</th>\n",
              "      <th>Confirmed(t-22)</th>\n",
              "      <th>Country(t-21)</th>\n",
              "      <th>Confirmed(t-21)</th>\n",
              "      <th>Country(t-20)</th>\n",
              "      <th>Confirmed(t-20)</th>\n",
              "      <th>Country(t-19)</th>\n",
              "      <th>Confirmed(t-19)</th>\n",
              "      <th>Country(t-18)</th>\n",
              "      <th>Confirmed(t-18)</th>\n",
              "      <th>Country(t-17)</th>\n",
              "      <th>Confirmed(t-17)</th>\n",
              "      <th>Country(t-16)</th>\n",
              "      <th>Confirmed(t-16)</th>\n",
              "      <th>Country(t-15)</th>\n",
              "      <th>Confirmed(t-15)</th>\n",
              "      <th>Country(t-14)</th>\n",
              "      <th>Confirmed(t-14)</th>\n",
              "      <th>Country(t-13)</th>\n",
              "      <th>Confirmed(t-13)</th>\n",
              "      <th>Country(t-12)</th>\n",
              "      <th>Confirmed(t-12)</th>\n",
              "      <th>Country(t-11)</th>\n",
              "      <th>Confirmed(t-11)</th>\n",
              "      <th>Country(t-10)</th>\n",
              "      <th>Confirmed(t-10)</th>\n",
              "      <th>Country(t-9)</th>\n",
              "      <th>Confirmed(t-9)</th>\n",
              "      <th>Country(t-8)</th>\n",
              "      <th>Confirmed(t-8)</th>\n",
              "      <th>Country(t-7)</th>\n",
              "      <th>Confirmed(t-7)</th>\n",
              "      <th>Country(t-6)</th>\n",
              "      <th>Confirmed(t-6)</th>\n",
              "      <th>Country(t-5)</th>\n",
              "      <th>Confirmed(t-5)</th>\n",
              "      <th>Country(t-4)</th>\n",
              "      <th>Confirmed(t-4)</th>\n",
              "      <th>Country(t-3)</th>\n",
              "      <th>Confirmed(t-3)</th>\n",
              "      <th>Country(t-2)</th>\n",
              "      <th>Confirmed(t-2)</th>\n",
              "      <th>Country(t-1)</th>\n",
              "      <th>Confirmed(t-1)</th>\n",
              "      <th>Country(t)</th>\n",
              "      <th>Confirmed(t)</th>\n",
              "      <th>Country(t+31)</th>\n",
              "      <th>Confirmed(t+31)</th>\n",
              "    </tr>\n",
              "  </thead>\n",
              "  <tbody>\n",
              "    <tr>\n",
              "      <th>30</th>\n",
              "      <td>0.0</td>\n",
              "      <td>0.000498</td>\n",
              "      <td>0.0</td>\n",
              "      <td>0.000498</td>\n",
              "      <td>0.0</td>\n",
              "      <td>0.000498</td>\n",
              "      <td>0.0</td>\n",
              "      <td>0.000498</td>\n",
              "      <td>0.0</td>\n",
              "      <td>0.000498</td>\n",
              "      <td>0.0</td>\n",
              "      <td>0.000498</td>\n",
              "      <td>0.0</td>\n",
              "      <td>0.000498</td>\n",
              "      <td>0.0</td>\n",
              "      <td>0.000498</td>\n",
              "      <td>0.0</td>\n",
              "      <td>0.000498</td>\n",
              "      <td>0.0</td>\n",
              "      <td>0.000498</td>\n",
              "      <td>0.0</td>\n",
              "      <td>0.000498</td>\n",
              "      <td>0.0</td>\n",
              "      <td>0.000498</td>\n",
              "      <td>0.0</td>\n",
              "      <td>0.000498</td>\n",
              "      <td>0.0</td>\n",
              "      <td>0.000498</td>\n",
              "      <td>0.0</td>\n",
              "      <td>0.000498</td>\n",
              "      <td>0.0</td>\n",
              "      <td>0.000498</td>\n",
              "      <td>0.0</td>\n",
              "      <td>0.000498</td>\n",
              "      <td>0.0</td>\n",
              "      <td>0.000498</td>\n",
              "      <td>0.0</td>\n",
              "      <td>0.000498</td>\n",
              "      <td>0.0</td>\n",
              "      <td>0.000498</td>\n",
              "      <td>0.0</td>\n",
              "      <td>0.000498</td>\n",
              "      <td>0.0</td>\n",
              "      <td>0.000498</td>\n",
              "      <td>0.0</td>\n",
              "      <td>0.000498</td>\n",
              "      <td>0.0</td>\n",
              "      <td>0.000498</td>\n",
              "      <td>0.0</td>\n",
              "      <td>0.000498</td>\n",
              "      <td>0.0</td>\n",
              "      <td>0.000498</td>\n",
              "      <td>0.0</td>\n",
              "      <td>0.000498</td>\n",
              "      <td>0.0</td>\n",
              "      <td>0.000498</td>\n",
              "      <td>0.0</td>\n",
              "      <td>0.000498</td>\n",
              "      <td>0.0</td>\n",
              "      <td>0.000498</td>\n",
              "      <td>0</td>\n",
              "      <td>0.000498</td>\n",
              "      <td>1.0</td>\n",
              "      <td>0.000498</td>\n",
              "    </tr>\n",
              "    <tr>\n",
              "      <th>31</th>\n",
              "      <td>0.0</td>\n",
              "      <td>0.000498</td>\n",
              "      <td>0.0</td>\n",
              "      <td>0.000498</td>\n",
              "      <td>0.0</td>\n",
              "      <td>0.000498</td>\n",
              "      <td>0.0</td>\n",
              "      <td>0.000498</td>\n",
              "      <td>0.0</td>\n",
              "      <td>0.000498</td>\n",
              "      <td>0.0</td>\n",
              "      <td>0.000498</td>\n",
              "      <td>0.0</td>\n",
              "      <td>0.000498</td>\n",
              "      <td>0.0</td>\n",
              "      <td>0.000498</td>\n",
              "      <td>0.0</td>\n",
              "      <td>0.000498</td>\n",
              "      <td>0.0</td>\n",
              "      <td>0.000498</td>\n",
              "      <td>0.0</td>\n",
              "      <td>0.000498</td>\n",
              "      <td>0.0</td>\n",
              "      <td>0.000498</td>\n",
              "      <td>0.0</td>\n",
              "      <td>0.000498</td>\n",
              "      <td>0.0</td>\n",
              "      <td>0.000498</td>\n",
              "      <td>0.0</td>\n",
              "      <td>0.000498</td>\n",
              "      <td>0.0</td>\n",
              "      <td>0.000498</td>\n",
              "      <td>0.0</td>\n",
              "      <td>0.000498</td>\n",
              "      <td>0.0</td>\n",
              "      <td>0.000498</td>\n",
              "      <td>0.0</td>\n",
              "      <td>0.000498</td>\n",
              "      <td>0.0</td>\n",
              "      <td>0.000498</td>\n",
              "      <td>0.0</td>\n",
              "      <td>0.000498</td>\n",
              "      <td>0.0</td>\n",
              "      <td>0.000498</td>\n",
              "      <td>0.0</td>\n",
              "      <td>0.000498</td>\n",
              "      <td>0.0</td>\n",
              "      <td>0.000498</td>\n",
              "      <td>0.0</td>\n",
              "      <td>0.000498</td>\n",
              "      <td>0.0</td>\n",
              "      <td>0.000498</td>\n",
              "      <td>0.0</td>\n",
              "      <td>0.000498</td>\n",
              "      <td>0.0</td>\n",
              "      <td>0.000498</td>\n",
              "      <td>0.0</td>\n",
              "      <td>0.000498</td>\n",
              "      <td>0.0</td>\n",
              "      <td>0.000498</td>\n",
              "      <td>0</td>\n",
              "      <td>0.000498</td>\n",
              "      <td>1.0</td>\n",
              "      <td>0.000498</td>\n",
              "    </tr>\n",
              "    <tr>\n",
              "      <th>32</th>\n",
              "      <td>0.0</td>\n",
              "      <td>0.000498</td>\n",
              "      <td>0.0</td>\n",
              "      <td>0.000498</td>\n",
              "      <td>0.0</td>\n",
              "      <td>0.000498</td>\n",
              "      <td>0.0</td>\n",
              "      <td>0.000498</td>\n",
              "      <td>0.0</td>\n",
              "      <td>0.000498</td>\n",
              "      <td>0.0</td>\n",
              "      <td>0.000498</td>\n",
              "      <td>0.0</td>\n",
              "      <td>0.000498</td>\n",
              "      <td>0.0</td>\n",
              "      <td>0.000498</td>\n",
              "      <td>0.0</td>\n",
              "      <td>0.000498</td>\n",
              "      <td>0.0</td>\n",
              "      <td>0.000498</td>\n",
              "      <td>0.0</td>\n",
              "      <td>0.000498</td>\n",
              "      <td>0.0</td>\n",
              "      <td>0.000498</td>\n",
              "      <td>0.0</td>\n",
              "      <td>0.000498</td>\n",
              "      <td>0.0</td>\n",
              "      <td>0.000498</td>\n",
              "      <td>0.0</td>\n",
              "      <td>0.000498</td>\n",
              "      <td>0.0</td>\n",
              "      <td>0.000498</td>\n",
              "      <td>0.0</td>\n",
              "      <td>0.000498</td>\n",
              "      <td>0.0</td>\n",
              "      <td>0.000498</td>\n",
              "      <td>0.0</td>\n",
              "      <td>0.000498</td>\n",
              "      <td>0.0</td>\n",
              "      <td>0.000498</td>\n",
              "      <td>0.0</td>\n",
              "      <td>0.000498</td>\n",
              "      <td>0.0</td>\n",
              "      <td>0.000498</td>\n",
              "      <td>0.0</td>\n",
              "      <td>0.000498</td>\n",
              "      <td>0.0</td>\n",
              "      <td>0.000498</td>\n",
              "      <td>0.0</td>\n",
              "      <td>0.000498</td>\n",
              "      <td>0.0</td>\n",
              "      <td>0.000498</td>\n",
              "      <td>0.0</td>\n",
              "      <td>0.000498</td>\n",
              "      <td>0.0</td>\n",
              "      <td>0.000498</td>\n",
              "      <td>0.0</td>\n",
              "      <td>0.000498</td>\n",
              "      <td>0.0</td>\n",
              "      <td>0.000498</td>\n",
              "      <td>0</td>\n",
              "      <td>0.000498</td>\n",
              "      <td>1.0</td>\n",
              "      <td>0.000498</td>\n",
              "    </tr>\n",
              "    <tr>\n",
              "      <th>33</th>\n",
              "      <td>0.0</td>\n",
              "      <td>0.000498</td>\n",
              "      <td>0.0</td>\n",
              "      <td>0.000498</td>\n",
              "      <td>0.0</td>\n",
              "      <td>0.000498</td>\n",
              "      <td>0.0</td>\n",
              "      <td>0.000498</td>\n",
              "      <td>0.0</td>\n",
              "      <td>0.000498</td>\n",
              "      <td>0.0</td>\n",
              "      <td>0.000498</td>\n",
              "      <td>0.0</td>\n",
              "      <td>0.000498</td>\n",
              "      <td>0.0</td>\n",
              "      <td>0.000498</td>\n",
              "      <td>0.0</td>\n",
              "      <td>0.000498</td>\n",
              "      <td>0.0</td>\n",
              "      <td>0.000498</td>\n",
              "      <td>0.0</td>\n",
              "      <td>0.000498</td>\n",
              "      <td>0.0</td>\n",
              "      <td>0.000498</td>\n",
              "      <td>0.0</td>\n",
              "      <td>0.000498</td>\n",
              "      <td>0.0</td>\n",
              "      <td>0.000498</td>\n",
              "      <td>0.0</td>\n",
              "      <td>0.000498</td>\n",
              "      <td>0.0</td>\n",
              "      <td>0.000498</td>\n",
              "      <td>0.0</td>\n",
              "      <td>0.000498</td>\n",
              "      <td>0.0</td>\n",
              "      <td>0.000498</td>\n",
              "      <td>0.0</td>\n",
              "      <td>0.000498</td>\n",
              "      <td>0.0</td>\n",
              "      <td>0.000498</td>\n",
              "      <td>0.0</td>\n",
              "      <td>0.000498</td>\n",
              "      <td>0.0</td>\n",
              "      <td>0.000498</td>\n",
              "      <td>0.0</td>\n",
              "      <td>0.000498</td>\n",
              "      <td>0.0</td>\n",
              "      <td>0.000498</td>\n",
              "      <td>0.0</td>\n",
              "      <td>0.000498</td>\n",
              "      <td>0.0</td>\n",
              "      <td>0.000498</td>\n",
              "      <td>0.0</td>\n",
              "      <td>0.000498</td>\n",
              "      <td>0.0</td>\n",
              "      <td>0.000498</td>\n",
              "      <td>0.0</td>\n",
              "      <td>0.000498</td>\n",
              "      <td>0.0</td>\n",
              "      <td>0.000498</td>\n",
              "      <td>0</td>\n",
              "      <td>0.000532</td>\n",
              "      <td>1.0</td>\n",
              "      <td>0.000498</td>\n",
              "    </tr>\n",
              "    <tr>\n",
              "      <th>34</th>\n",
              "      <td>0.0</td>\n",
              "      <td>0.000498</td>\n",
              "      <td>0.0</td>\n",
              "      <td>0.000498</td>\n",
              "      <td>0.0</td>\n",
              "      <td>0.000498</td>\n",
              "      <td>0.0</td>\n",
              "      <td>0.000498</td>\n",
              "      <td>0.0</td>\n",
              "      <td>0.000498</td>\n",
              "      <td>0.0</td>\n",
              "      <td>0.000498</td>\n",
              "      <td>0.0</td>\n",
              "      <td>0.000498</td>\n",
              "      <td>0.0</td>\n",
              "      <td>0.000498</td>\n",
              "      <td>0.0</td>\n",
              "      <td>0.000498</td>\n",
              "      <td>0.0</td>\n",
              "      <td>0.000498</td>\n",
              "      <td>0.0</td>\n",
              "      <td>0.000498</td>\n",
              "      <td>0.0</td>\n",
              "      <td>0.000498</td>\n",
              "      <td>0.0</td>\n",
              "      <td>0.000498</td>\n",
              "      <td>0.0</td>\n",
              "      <td>0.000498</td>\n",
              "      <td>0.0</td>\n",
              "      <td>0.000498</td>\n",
              "      <td>0.0</td>\n",
              "      <td>0.000498</td>\n",
              "      <td>0.0</td>\n",
              "      <td>0.000498</td>\n",
              "      <td>0.0</td>\n",
              "      <td>0.000498</td>\n",
              "      <td>0.0</td>\n",
              "      <td>0.000498</td>\n",
              "      <td>0.0</td>\n",
              "      <td>0.000498</td>\n",
              "      <td>0.0</td>\n",
              "      <td>0.000498</td>\n",
              "      <td>0.0</td>\n",
              "      <td>0.000498</td>\n",
              "      <td>0.0</td>\n",
              "      <td>0.000498</td>\n",
              "      <td>0.0</td>\n",
              "      <td>0.000498</td>\n",
              "      <td>0.0</td>\n",
              "      <td>0.000498</td>\n",
              "      <td>0.0</td>\n",
              "      <td>0.000498</td>\n",
              "      <td>0.0</td>\n",
              "      <td>0.000498</td>\n",
              "      <td>0.0</td>\n",
              "      <td>0.000498</td>\n",
              "      <td>0.0</td>\n",
              "      <td>0.000498</td>\n",
              "      <td>0.0</td>\n",
              "      <td>0.000532</td>\n",
              "      <td>0</td>\n",
              "      <td>0.000498</td>\n",
              "      <td>1.0</td>\n",
              "      <td>0.000498</td>\n",
              "    </tr>\n",
              "  </tbody>\n",
              "</table>\n",
              "</div>"
            ],
            "text/plain": [
              "    Country(t-30)  Confirmed(t-30)  ...  Country(t+31)  Confirmed(t+31)\n",
              "30            0.0         0.000498  ...            1.0         0.000498\n",
              "31            0.0         0.000498  ...            1.0         0.000498\n",
              "32            0.0         0.000498  ...            1.0         0.000498\n",
              "33            0.0         0.000498  ...            1.0         0.000498\n",
              "34            0.0         0.000498  ...            1.0         0.000498\n",
              "\n",
              "[5 rows x 64 columns]"
            ]
          },
          "metadata": {
            "tags": []
          },
          "execution_count": 23
        }
      ]
    },
    {
      "cell_type": "code",
      "metadata": {
        "id": "PVRYdMOqdXEn",
        "colab_type": "code",
        "colab": {}
      },
      "source": [
        "labels_col = 'Confirmed(t+%d)' % lag_size\n",
        "labels = series[labels_col]\n",
        "series = series.drop(labels_col, axis=1)\n",
        "# series = series.drop(columns = ['Recovered(t+%d)' % lag_size,'Deaths(t+%d)' % lag_size])"
      ],
      "execution_count": 0,
      "outputs": []
    },
    {
      "cell_type": "code",
      "metadata": {
        "id": "F4aQ5h0AdXEq",
        "colab_type": "code",
        "outputId": "08f5faf2-ad6f-4c5d-d856-40f34209caec",
        "colab": {
          "base_uri": "https://localhost:8080/",
          "height": 51
        }
      },
      "source": [
        "X_train, X_valid, Y_train, Y_valid = train_test_split(series, labels.values, test_size=0.2, random_state=0)\n",
        "print('Train set shape', X_train.shape)\n",
        "print('Validation set shape', X_valid.shape)"
      ],
      "execution_count": 25,
      "outputs": [
        {
          "output_type": "stream",
          "text": [
            "Train set shape (1584, 63)\n",
            "Validation set shape (396, 63)\n"
          ],
          "name": "stdout"
        }
      ]
    },
    {
      "cell_type": "code",
      "metadata": {
        "id": "YshBXa3NdXEt",
        "colab_type": "code",
        "colab": {}
      },
      "source": [
        "# columns_to_drop = [('%s(t+%d)' % (col, lag)) for col in ['Reco']]\n",
        "# for i in range(window, 0, -1):\n",
        "#     columns_to_drop += [('%s(t-%d)' % (col, i)) for col in ['Country']]\n",
        "# series.drop(columns_to_drop, axis=1, inplace=True)\n",
        "# series.drop(['Country(t)'], axis=1, inplace=True)"
      ],
      "execution_count": 0,
      "outputs": []
    },
    {
      "cell_type": "code",
      "metadata": {
        "id": "SWci6huD4D2E",
        "colab_type": "code",
        "outputId": "25d6ff39-0bd6-4330-b869-d0953175488a",
        "colab": {
          "base_uri": "https://localhost:8080/",
          "height": 204
        }
      },
      "source": [
        "train.head()"
      ],
      "execution_count": 27,
      "outputs": [
        {
          "output_type": "execute_result",
          "data": {
            "text/html": [
              "<div>\n",
              "<style scoped>\n",
              "    .dataframe tbody tr th:only-of-type {\n",
              "        vertical-align: middle;\n",
              "    }\n",
              "\n",
              "    .dataframe tbody tr th {\n",
              "        vertical-align: top;\n",
              "    }\n",
              "\n",
              "    .dataframe thead th {\n",
              "        text-align: right;\n",
              "    }\n",
              "</style>\n",
              "<table border=\"1\" class=\"dataframe\">\n",
              "  <thead>\n",
              "    <tr style=\"text-align: right;\">\n",
              "      <th></th>\n",
              "      <th>Province/State</th>\n",
              "      <th>Country</th>\n",
              "      <th>latitude</th>\n",
              "      <th>longitude</th>\n",
              "      <th>Date</th>\n",
              "      <th>loc_id</th>\n",
              "      <th>Key</th>\n",
              "      <th>Confirmed</th>\n",
              "      <th>Deaths</th>\n",
              "      <th>Recovered</th>\n",
              "    </tr>\n",
              "  </thead>\n",
              "  <tbody>\n",
              "    <tr>\n",
              "      <th>0</th>\n",
              "      <td>Not specified</td>\n",
              "      <td>Afghanistan</td>\n",
              "      <td>33.0</td>\n",
              "      <td>65.0</td>\n",
              "      <td>2020-01-22</td>\n",
              "      <td>0</td>\n",
              "      <td>0</td>\n",
              "      <td>0.000498</td>\n",
              "      <td>0.003676</td>\n",
              "      <td>0.009469</td>\n",
              "    </tr>\n",
              "    <tr>\n",
              "      <th>1</th>\n",
              "      <td>Not specified</td>\n",
              "      <td>Afghanistan</td>\n",
              "      <td>33.0</td>\n",
              "      <td>65.0</td>\n",
              "      <td>2020-01-23</td>\n",
              "      <td>0</td>\n",
              "      <td>1</td>\n",
              "      <td>0.000498</td>\n",
              "      <td>0.003676</td>\n",
              "      <td>0.009469</td>\n",
              "    </tr>\n",
              "    <tr>\n",
              "      <th>2</th>\n",
              "      <td>Not specified</td>\n",
              "      <td>Afghanistan</td>\n",
              "      <td>33.0</td>\n",
              "      <td>65.0</td>\n",
              "      <td>2020-01-24</td>\n",
              "      <td>0</td>\n",
              "      <td>2</td>\n",
              "      <td>0.000498</td>\n",
              "      <td>0.003676</td>\n",
              "      <td>0.009469</td>\n",
              "    </tr>\n",
              "    <tr>\n",
              "      <th>3</th>\n",
              "      <td>Not specified</td>\n",
              "      <td>Afghanistan</td>\n",
              "      <td>33.0</td>\n",
              "      <td>65.0</td>\n",
              "      <td>2020-01-25</td>\n",
              "      <td>0</td>\n",
              "      <td>3</td>\n",
              "      <td>0.000498</td>\n",
              "      <td>0.003676</td>\n",
              "      <td>0.009469</td>\n",
              "    </tr>\n",
              "    <tr>\n",
              "      <th>4</th>\n",
              "      <td>Not specified</td>\n",
              "      <td>Afghanistan</td>\n",
              "      <td>33.0</td>\n",
              "      <td>65.0</td>\n",
              "      <td>2020-01-26</td>\n",
              "      <td>0</td>\n",
              "      <td>4</td>\n",
              "      <td>0.000498</td>\n",
              "      <td>0.003676</td>\n",
              "      <td>0.009469</td>\n",
              "    </tr>\n",
              "  </tbody>\n",
              "</table>\n",
              "</div>"
            ],
            "text/plain": [
              "  Province/State      Country  latitude  ...  Confirmed    Deaths  Recovered\n",
              "0  Not specified  Afghanistan      33.0  ...   0.000498  0.003676   0.009469\n",
              "1  Not specified  Afghanistan      33.0  ...   0.000498  0.003676   0.009469\n",
              "2  Not specified  Afghanistan      33.0  ...   0.000498  0.003676   0.009469\n",
              "3  Not specified  Afghanistan      33.0  ...   0.000498  0.003676   0.009469\n",
              "4  Not specified  Afghanistan      33.0  ...   0.000498  0.003676   0.009469\n",
              "\n",
              "[5 rows x 10 columns]"
            ]
          },
          "metadata": {
            "tags": []
          },
          "execution_count": 27
        }
      ]
    },
    {
      "cell_type": "code",
      "metadata": {
        "id": "H41reRTEdXEz",
        "colab_type": "code",
        "colab": {}
      },
      "source": [
        "train = train.groupby('Date').sum()\n",
        "train = train.drop(columns=['latitude','longitude','loc_id','Key'],axis=1)"
      ],
      "execution_count": 0,
      "outputs": []
    },
    {
      "cell_type": "code",
      "metadata": {
        "id": "S_kN4yn5dXE2",
        "colab_type": "code",
        "colab": {}
      },
      "source": [
        "test = test.groupby('Date').sum()\n",
        "test = test.drop(columns=['latitude','longitude','loc_id','Key'])"
      ],
      "execution_count": 0,
      "outputs": []
    },
    {
      "cell_type": "code",
      "metadata": {
        "id": "oFHVoNbNdXE5",
        "colab_type": "code",
        "colab": {}
      },
      "source": [
        "def create_sequences(data, seq_length):\n",
        "    xs = []\n",
        "    ys = []\n",
        "\n",
        "    for i in range(len(data)-seq_length-1):\n",
        "        x = data.iloc[i:(i+seq_length)]\n",
        "        y = data.iloc[i+seq_length]\n",
        "        xs.append(np.array(x))\n",
        "        ys.append(np.array(y))\n",
        "#     print('X',xs)\n",
        "#     print('Y',ys)\n",
        "    return np.array(xs), np.array(ys)"
      ],
      "execution_count": 0,
      "outputs": []
    },
    {
      "cell_type": "code",
      "metadata": {
        "id": "iHvax7_66lcm",
        "colab_type": "code",
        "colab": {
          "base_uri": "https://localhost:8080/",
          "height": 235
        },
        "outputId": "184c64c5-00b0-41d6-ca51-40cb02fb4bf6"
      },
      "source": [
        "df = df.groupby('Date').sum()\n",
        "df = df.drop(columns=['latitude','longitude','loc_id','Key','Deaths','Recovered'],axis=1)\n",
        "df.head()"
      ],
      "execution_count": 31,
      "outputs": [
        {
          "output_type": "execute_result",
          "data": {
            "text/html": [
              "<div>\n",
              "<style scoped>\n",
              "    .dataframe tbody tr th:only-of-type {\n",
              "        vertical-align: middle;\n",
              "    }\n",
              "\n",
              "    .dataframe tbody tr th {\n",
              "        vertical-align: top;\n",
              "    }\n",
              "\n",
              "    .dataframe thead th {\n",
              "        text-align: right;\n",
              "    }\n",
              "</style>\n",
              "<table border=\"1\" class=\"dataframe\">\n",
              "  <thead>\n",
              "    <tr style=\"text-align: right;\">\n",
              "      <th></th>\n",
              "      <th>Confirmed</th>\n",
              "    </tr>\n",
              "    <tr>\n",
              "      <th>Date</th>\n",
              "      <th></th>\n",
              "    </tr>\n",
              "  </thead>\n",
              "  <tbody>\n",
              "    <tr>\n",
              "      <th>2020-01-22</th>\n",
              "      <td>0.147030</td>\n",
              "    </tr>\n",
              "    <tr>\n",
              "      <th>2020-01-23</th>\n",
              "      <td>0.131878</td>\n",
              "    </tr>\n",
              "    <tr>\n",
              "      <th>2020-01-24</th>\n",
              "      <td>0.138125</td>\n",
              "    </tr>\n",
              "    <tr>\n",
              "      <th>2020-01-25</th>\n",
              "      <td>0.144969</td>\n",
              "    </tr>\n",
              "    <tr>\n",
              "      <th>2020-01-26</th>\n",
              "      <td>0.151316</td>\n",
              "    </tr>\n",
              "  </tbody>\n",
              "</table>\n",
              "</div>"
            ],
            "text/plain": [
              "            Confirmed\n",
              "Date                 \n",
              "2020-01-22   0.147030\n",
              "2020-01-23   0.131878\n",
              "2020-01-24   0.138125\n",
              "2020-01-25   0.144969\n",
              "2020-01-26   0.151316"
            ]
          },
          "metadata": {
            "tags": []
          },
          "execution_count": 31
        }
      ]
    },
    {
      "cell_type": "code",
      "metadata": {
        "id": "spbzpjTOGx2L",
        "colab_type": "code",
        "outputId": "51f336fc-957b-435a-d9b9-ed15587a04d3",
        "colab": {
          "base_uri": "https://localhost:8080/",
          "height": 34
        }
      },
      "source": [
        "split_point = int(len(df) * 0.80)\n",
        "dataset, validation = df[0:split_point], df[split_point:]\n",
        "print('Dataset %d, Validation %d' % (len(dataset), len(validation)))\n",
        "dataset.to_csv('dataset.csv', header = False)\n",
        "validation.to_csv('validation.csv', header = False)"
      ],
      "execution_count": 32,
      "outputs": [
        {
          "output_type": "stream",
          "text": [
            "Dataset 57, Validation 15\n"
          ],
          "name": "stdout"
        }
      ]
    },
    {
      "cell_type": "code",
      "metadata": {
        "id": "VHAWdN29AtTF",
        "colab_type": "code",
        "colab": {}
      },
      "source": [
        "arima_series = pd.read_csv('dataset.csv', header=None, index_col=0, parse_dates=True, squeeze=True)\n",
        "arima_X_train = arima_series.values\n",
        "arima_X_train = arima_X_train.astype('float32')\n",
        "\n",
        "arima_valid = pd.read_csv('validation.csv',header=None, index_col=0, parse_dates=True, squeeze=True)\n",
        "arima_X_valid = arima_valid.values\n",
        "arima_X_valid = arima_X_valid.astype('float32')"
      ],
      "execution_count": 0,
      "outputs": []
    },
    {
      "cell_type": "code",
      "metadata": {
        "id": "uQHYmrbSBg3_",
        "colab_type": "code",
        "colab": {}
      },
      "source": [
        "def difference(dataset):\n",
        "\tdiff = list()\n",
        "\tfor i in range(1, len(dataset)):\n",
        "\t\tvalue = dataset[i] - dataset[i - 1]\n",
        "\t\tdiff.append(value)\n",
        "\treturn pd.Series(diff)"
      ],
      "execution_count": 0,
      "outputs": []
    },
    {
      "cell_type": "code",
      "metadata": {
        "id": "ixwKahI9EKFE",
        "colab_type": "code",
        "outputId": "4076d8e2-43b6-48a8-d05e-97aee09f85f6",
        "colab": {
          "base_uri": "https://localhost:8080/",
          "height": 119
        }
      },
      "source": [
        "stationary = difference(arima_X_train)\n",
        "stationary.index = arima_series.index[1:]\n",
        "result = adfuller(stationary)\n",
        "print('ADF Statistic: %f' % result[0])\n",
        "print('p-value: %f' % result[1])\n",
        "print('Critical Values:')\n",
        "for key, value in result[4].items():\n",
        "\tprint('\\t%s: %.3f' % (key, value))\n",
        "stationary.to_csv('train_stationary.csv', header = False)"
      ],
      "execution_count": 35,
      "outputs": [
        {
          "output_type": "stream",
          "text": [
            "ADF Statistic: -8.180516\n",
            "p-value: 0.000000\n",
            "Critical Values:\n",
            "\t1%: -3.558\n",
            "\t5%: -2.917\n",
            "\t10%: -2.596\n"
          ],
          "name": "stdout"
        }
      ]
    },
    {
      "cell_type": "markdown",
      "metadata": {
        "id": "OGS8G015XVLB",
        "colab_type": "text"
      },
      "source": [
        "## Model Building"
      ]
    },
    {
      "cell_type": "markdown",
      "metadata": {
        "id": "5juGf0cWdXE8",
        "colab_type": "text"
      },
      "source": [
        "### Multilayer Perceptron Model"
      ]
    },
    {
      "cell_type": "code",
      "metadata": {
        "id": "Nox-iXHzdXE-",
        "colab_type": "code",
        "colab": {}
      },
      "source": [
        "epochs = 20\n",
        "batch = 4\n",
        "lr = 0.0003\n",
        "adam = optimizers.Adam(lr)"
      ],
      "execution_count": 0,
      "outputs": []
    },
    {
      "cell_type": "code",
      "metadata": {
        "id": "2Wm5f9etdXFC",
        "colab_type": "code",
        "outputId": "5b6189f5-d90d-4fab-d315-29e2f9154560",
        "colab": {
          "base_uri": "https://localhost:8080/",
          "height": 768
        }
      },
      "source": [
        "model_mlp = Sequential()\n",
        "model_mlp.add(Dense(64, activation='relu', input_dim=X_train.shape[1]))\n",
        "model_mlp.add(Dense(128,activation = 'relu'))\n",
        "model_mlp.add(Dense(256,activation = 'relu'))\n",
        "model_mlp.add(Dense(512,activation = 'relu'))\n",
        "model_mlp.add(Dense(1024,activation = 'relu'))\n",
        "model_mlp.add(Dense(512,activation = 'relu'))\n",
        "model_mlp.add(Dense(256,activation = 'relu'))\n",
        "model_mlp.add(Dense(128,activation = 'relu'))\n",
        "model_mlp.add(Dense(64,activation = 'relu'))\n",
        "model_mlp.add(Dropout(lr*10))\n",
        "model_mlp.add(Dense(1))\n",
        "model_mlp.compile(loss='mse', optimizer=adam)\n",
        "model_mlp.summary()"
      ],
      "execution_count": 37,
      "outputs": [
        {
          "output_type": "stream",
          "text": [
            "WARNING:tensorflow:From /usr/local/lib/python3.6/dist-packages/keras/backend/tensorflow_backend.py:66: The name tf.get_default_graph is deprecated. Please use tf.compat.v1.get_default_graph instead.\n",
            "\n",
            "WARNING:tensorflow:From /usr/local/lib/python3.6/dist-packages/keras/backend/tensorflow_backend.py:541: The name tf.placeholder is deprecated. Please use tf.compat.v1.placeholder instead.\n",
            "\n",
            "WARNING:tensorflow:From /usr/local/lib/python3.6/dist-packages/keras/backend/tensorflow_backend.py:4432: The name tf.random_uniform is deprecated. Please use tf.random.uniform instead.\n",
            "\n",
            "WARNING:tensorflow:From /usr/local/lib/python3.6/dist-packages/keras/backend/tensorflow_backend.py:148: The name tf.placeholder_with_default is deprecated. Please use tf.compat.v1.placeholder_with_default instead.\n",
            "\n",
            "WARNING:tensorflow:From /usr/local/lib/python3.6/dist-packages/keras/backend/tensorflow_backend.py:3733: calling dropout (from tensorflow.python.ops.nn_ops) with keep_prob is deprecated and will be removed in a future version.\n",
            "Instructions for updating:\n",
            "Please use `rate` instead of `keep_prob`. Rate should be set to `rate = 1 - keep_prob`.\n",
            "WARNING:tensorflow:From /usr/local/lib/python3.6/dist-packages/keras/optimizers.py:793: The name tf.train.Optimizer is deprecated. Please use tf.compat.v1.train.Optimizer instead.\n",
            "\n",
            "Model: \"sequential_1\"\n",
            "_________________________________________________________________\n",
            "Layer (type)                 Output Shape              Param #   \n",
            "=================================================================\n",
            "dense_1 (Dense)              (None, 64)                4096      \n",
            "_________________________________________________________________\n",
            "dense_2 (Dense)              (None, 128)               8320      \n",
            "_________________________________________________________________\n",
            "dense_3 (Dense)              (None, 256)               33024     \n",
            "_________________________________________________________________\n",
            "dense_4 (Dense)              (None, 512)               131584    \n",
            "_________________________________________________________________\n",
            "dense_5 (Dense)              (None, 1024)              525312    \n",
            "_________________________________________________________________\n",
            "dense_6 (Dense)              (None, 512)               524800    \n",
            "_________________________________________________________________\n",
            "dense_7 (Dense)              (None, 256)               131328    \n",
            "_________________________________________________________________\n",
            "dense_8 (Dense)              (None, 128)               32896     \n",
            "_________________________________________________________________\n",
            "dense_9 (Dense)              (None, 64)                8256      \n",
            "_________________________________________________________________\n",
            "dropout_1 (Dropout)          (None, 64)                0         \n",
            "_________________________________________________________________\n",
            "dense_10 (Dense)             (None, 1)                 65        \n",
            "=================================================================\n",
            "Total params: 1,399,681\n",
            "Trainable params: 1,399,681\n",
            "Non-trainable params: 0\n",
            "_________________________________________________________________\n"
          ],
          "name": "stdout"
        }
      ]
    },
    {
      "cell_type": "code",
      "metadata": {
        "id": "OBF-37gmdXFF",
        "colab_type": "code",
        "outputId": "a7c14a29-efc9-4dce-bde4-094dd08d07fe",
        "colab": {
          "base_uri": "https://localhost:8080/",
          "height": 1000
        }
      },
      "source": [
        "mlp_history = model_mlp.fit(X_train.values, Y_train, validation_data=(X_valid.values, Y_valid), epochs=epochs, verbose=1)"
      ],
      "execution_count": 38,
      "outputs": [
        {
          "output_type": "stream",
          "text": [
            "WARNING:tensorflow:From /usr/local/lib/python3.6/dist-packages/keras/backend/tensorflow_backend.py:1033: The name tf.assign_add is deprecated. Please use tf.compat.v1.assign_add instead.\n",
            "\n",
            "WARNING:tensorflow:From /usr/local/lib/python3.6/dist-packages/keras/backend/tensorflow_backend.py:1020: The name tf.assign is deprecated. Please use tf.compat.v1.assign instead.\n",
            "\n",
            "WARNING:tensorflow:From /usr/local/lib/python3.6/dist-packages/keras/backend/tensorflow_backend.py:3005: The name tf.Session is deprecated. Please use tf.compat.v1.Session instead.\n",
            "\n",
            "Train on 1584 samples, validate on 396 samples\n",
            "Epoch 1/20\n",
            "WARNING:tensorflow:From /usr/local/lib/python3.6/dist-packages/keras/backend/tensorflow_backend.py:190: The name tf.get_default_session is deprecated. Please use tf.compat.v1.get_default_session instead.\n",
            "\n",
            "WARNING:tensorflow:From /usr/local/lib/python3.6/dist-packages/keras/backend/tensorflow_backend.py:197: The name tf.ConfigProto is deprecated. Please use tf.compat.v1.ConfigProto instead.\n",
            "\n",
            "WARNING:tensorflow:From /usr/local/lib/python3.6/dist-packages/keras/backend/tensorflow_backend.py:207: The name tf.global_variables is deprecated. Please use tf.compat.v1.global_variables instead.\n",
            "\n",
            "WARNING:tensorflow:From /usr/local/lib/python3.6/dist-packages/keras/backend/tensorflow_backend.py:216: The name tf.is_variable_initialized is deprecated. Please use tf.compat.v1.is_variable_initialized instead.\n",
            "\n",
            "WARNING:tensorflow:From /usr/local/lib/python3.6/dist-packages/keras/backend/tensorflow_backend.py:223: The name tf.variables_initializer is deprecated. Please use tf.compat.v1.variables_initializer instead.\n",
            "\n",
            "1584/1584 [==============================] - 2s 2ms/step - loss: 0.4811 - val_loss: 0.0160\n",
            "Epoch 2/20\n",
            "1584/1584 [==============================] - 1s 928us/step - loss: 0.0359 - val_loss: 0.0187\n",
            "Epoch 3/20\n",
            "1584/1584 [==============================] - 1s 939us/step - loss: 0.0208 - val_loss: 0.0167\n",
            "Epoch 4/20\n",
            "1584/1584 [==============================] - 1s 924us/step - loss: 0.0115 - val_loss: 0.0036\n",
            "Epoch 5/20\n",
            "1584/1584 [==============================] - 1s 912us/step - loss: 0.0058 - val_loss: 6.6819e-05\n",
            "Epoch 6/20\n",
            "1584/1584 [==============================] - 1s 941us/step - loss: 0.0038 - val_loss: 0.0023\n",
            "Epoch 7/20\n",
            "1584/1584 [==============================] - 1s 924us/step - loss: 0.0031 - val_loss: 0.0058\n",
            "Epoch 8/20\n",
            "1584/1584 [==============================] - 1s 928us/step - loss: 0.0050 - val_loss: 2.2474e-04\n",
            "Epoch 9/20\n",
            "1584/1584 [==============================] - 1s 914us/step - loss: 0.0018 - val_loss: 3.9997e-04\n",
            "Epoch 10/20\n",
            "1584/1584 [==============================] - 1s 924us/step - loss: 9.1556e-04 - val_loss: 3.4181e-04\n",
            "Epoch 11/20\n",
            "1584/1584 [==============================] - 1s 934us/step - loss: 0.0013 - val_loss: 0.0049\n",
            "Epoch 12/20\n",
            "1584/1584 [==============================] - 1s 935us/step - loss: 0.0015 - val_loss: 9.2771e-05\n",
            "Epoch 13/20\n",
            "1584/1584 [==============================] - 2s 949us/step - loss: 6.1600e-04 - val_loss: 4.3042e-05\n",
            "Epoch 14/20\n",
            "1584/1584 [==============================] - 1s 922us/step - loss: 6.9057e-04 - val_loss: 9.2557e-05\n",
            "Epoch 15/20\n",
            "1584/1584 [==============================] - 1s 925us/step - loss: 7.4997e-04 - val_loss: 2.3523e-04\n",
            "Epoch 16/20\n",
            "1584/1584 [==============================] - 2s 949us/step - loss: 4.4419e-04 - val_loss: 7.0170e-05\n",
            "Epoch 17/20\n",
            "1584/1584 [==============================] - 1s 923us/step - loss: 7.3648e-04 - val_loss: 8.5155e-04\n",
            "Epoch 18/20\n",
            "1584/1584 [==============================] - 1s 920us/step - loss: 0.0010 - val_loss: 4.3029e-05\n",
            "Epoch 19/20\n",
            "1584/1584 [==============================] - 1s 918us/step - loss: 5.0939e-04 - val_loss: 4.1571e-05\n",
            "Epoch 20/20\n",
            "1584/1584 [==============================] - 1s 936us/step - loss: 4.1932e-04 - val_loss: 4.5489e-05\n"
          ],
          "name": "stdout"
        }
      ]
    },
    {
      "cell_type": "markdown",
      "metadata": {
        "id": "ZZdC-8EQdXFI",
        "colab_type": "text"
      },
      "source": [
        "### Convolutional Neural Network"
      ]
    },
    {
      "cell_type": "code",
      "metadata": {
        "id": "ZjlhB9lZdXFJ",
        "colab_type": "code",
        "outputId": "1177e928-f117-4fca-83f6-8fb52fa63caf",
        "colab": {
          "base_uri": "https://localhost:8080/",
          "height": 51
        }
      },
      "source": [
        "X_train_series = X_train.values.reshape((X_train.shape[0], X_train.shape[1], 1))\n",
        "X_valid_series = X_valid.values.reshape((X_valid.shape[0], X_valid.shape[1], 1))\n",
        "print('Train set shape', X_train_series.shape)\n",
        "print('Validation set shape', X_valid_series.shape)"
      ],
      "execution_count": 39,
      "outputs": [
        {
          "output_type": "stream",
          "text": [
            "Train set shape (1584, 63, 1)\n",
            "Validation set shape (396, 63, 1)\n"
          ],
          "name": "stdout"
        }
      ]
    },
    {
      "cell_type": "code",
      "metadata": {
        "id": "LIepnn_RdXFM",
        "colab_type": "code",
        "outputId": "5f121695-e4a3-468e-d116-710a93482d7b",
        "colab": {
          "base_uri": "https://localhost:8080/",
          "height": 697
        }
      },
      "source": [
        "model_cnn = Sequential()\n",
        "model_cnn.add(Conv1D(filters=64, kernel_size=3, activation='relu', input_shape=(X_train_series.shape[1], X_train_series.shape[2])))\n",
        "model_cnn.add(MaxPooling1D(pool_size=2))\n",
        "model_cnn.add(Conv1D(128, kernel_size = 3, activation = 'relu'))\n",
        "model_cnn.add(MaxPooling1D(pool_size=2))\n",
        "model_cnn.add(Conv1D(128, kernel_size = 3, activation = 'relu'))\n",
        "model_cnn.add(MaxPooling1D(pool_size=2))\n",
        "model_cnn.add(Conv1D(64, kernel_size = 3, activation = 'relu'))\n",
        "model_cnn.add(MaxPooling1D(pool_size=2))\n",
        "model_cnn.add(Flatten())\n",
        "model_cnn.add(Dense(32, activation='relu'))\n",
        "model_cnn.add(Dense(64, activation='relu'))\n",
        "model_cnn.add(Dense(128, activation='relu'))\n",
        "model_cnn.add(Dense(64, activation='relu'))\n",
        "model_cnn.add(Dense(32, activation='relu'))\n",
        "model_cnn.add(Dropout(lr * 10))\n",
        "model_cnn.add(Dense(1))\n",
        "model_cnn.compile(loss='mse', optimizer=adam)\n",
        "model_cnn.summary()"
      ],
      "execution_count": 42,
      "outputs": [
        {
          "output_type": "stream",
          "text": [
            "Model: \"sequential_4\"\n",
            "_________________________________________________________________\n",
            "Layer (type)                 Output Shape              Param #   \n",
            "=================================================================\n",
            "conv1d_11 (Conv1D)           (None, 61, 64)            256       \n",
            "_________________________________________________________________\n",
            "max_pooling1d_9 (MaxPooling1 (None, 30, 64)            0         \n",
            "_________________________________________________________________\n",
            "conv1d_12 (Conv1D)           (None, 28, 128)           24704     \n",
            "_________________________________________________________________\n",
            "max_pooling1d_10 (MaxPooling (None, 14, 128)           0         \n",
            "_________________________________________________________________\n",
            "conv1d_13 (Conv1D)           (None, 12, 128)           49280     \n",
            "_________________________________________________________________\n",
            "max_pooling1d_11 (MaxPooling (None, 6, 128)            0         \n",
            "_________________________________________________________________\n",
            "conv1d_14 (Conv1D)           (None, 4, 64)             24640     \n",
            "_________________________________________________________________\n",
            "max_pooling1d_12 (MaxPooling (None, 2, 64)             0         \n",
            "_________________________________________________________________\n",
            "flatten_1 (Flatten)          (None, 128)               0         \n",
            "_________________________________________________________________\n",
            "dense_11 (Dense)             (None, 32)                4128      \n",
            "_________________________________________________________________\n",
            "dense_12 (Dense)             (None, 64)                2112      \n",
            "_________________________________________________________________\n",
            "dense_13 (Dense)             (None, 128)               8320      \n",
            "_________________________________________________________________\n",
            "dense_14 (Dense)             (None, 64)                8256      \n",
            "_________________________________________________________________\n",
            "dense_15 (Dense)             (None, 32)                2080      \n",
            "_________________________________________________________________\n",
            "dropout_2 (Dropout)          (None, 32)                0         \n",
            "_________________________________________________________________\n",
            "dense_16 (Dense)             (None, 1)                 33        \n",
            "=================================================================\n",
            "Total params: 123,809\n",
            "Trainable params: 123,809\n",
            "Non-trainable params: 0\n",
            "_________________________________________________________________\n"
          ],
          "name": "stdout"
        }
      ]
    },
    {
      "cell_type": "code",
      "metadata": {
        "id": "LtJUQzy8dXFP",
        "colab_type": "code",
        "outputId": "15d79ae8-2bef-47b9-827a-1c8e4314eede",
        "colab": {
          "base_uri": "https://localhost:8080/",
          "height": 714
        }
      },
      "source": [
        "cnn_history = model_cnn.fit(X_train_series, Y_train, validation_data=(X_valid_series, Y_valid), epochs=epochs, verbose=1)"
      ],
      "execution_count": 43,
      "outputs": [
        {
          "output_type": "stream",
          "text": [
            "Train on 1584 samples, validate on 396 samples\n",
            "Epoch 1/20\n",
            "1584/1584 [==============================] - 2s 1ms/step - loss: 0.0501 - val_loss: 1.5160e-04\n",
            "Epoch 2/20\n",
            "1584/1584 [==============================] - 1s 489us/step - loss: 0.0013 - val_loss: 7.9044e-04\n",
            "Epoch 3/20\n",
            "1584/1584 [==============================] - 1s 519us/step - loss: 0.0012 - val_loss: 3.8535e-04\n",
            "Epoch 4/20\n",
            "1584/1584 [==============================] - 1s 508us/step - loss: 5.5695e-04 - val_loss: 4.1141e-05\n",
            "Epoch 5/20\n",
            "1584/1584 [==============================] - 1s 514us/step - loss: 7.4671e-04 - val_loss: 1.5161e-04\n",
            "Epoch 6/20\n",
            "1584/1584 [==============================] - 1s 516us/step - loss: 4.4990e-04 - val_loss: 4.4673e-05\n",
            "Epoch 7/20\n",
            "1584/1584 [==============================] - 1s 522us/step - loss: 4.7004e-04 - val_loss: 5.8877e-05\n",
            "Epoch 8/20\n",
            "1584/1584 [==============================] - 1s 508us/step - loss: 4.2758e-04 - val_loss: 3.9883e-05\n",
            "Epoch 9/20\n",
            "1584/1584 [==============================] - 1s 505us/step - loss: 3.9029e-04 - val_loss: 5.7132e-05\n",
            "Epoch 10/20\n",
            "1584/1584 [==============================] - 1s 516us/step - loss: 4.2240e-04 - val_loss: 5.5853e-05\n",
            "Epoch 11/20\n",
            "1584/1584 [==============================] - 1s 495us/step - loss: 4.0865e-04 - val_loss: 4.2605e-05\n",
            "Epoch 12/20\n",
            "1584/1584 [==============================] - 1s 488us/step - loss: 2.9710e-04 - val_loss: 5.4569e-05\n",
            "Epoch 13/20\n",
            "1584/1584 [==============================] - 1s 497us/step - loss: 3.5427e-04 - val_loss: 4.8709e-05\n",
            "Epoch 14/20\n",
            "1584/1584 [==============================] - 1s 488us/step - loss: 3.0845e-04 - val_loss: 3.9544e-05\n",
            "Epoch 15/20\n",
            "1584/1584 [==============================] - 1s 491us/step - loss: 3.1133e-04 - val_loss: 4.9994e-05\n",
            "Epoch 16/20\n",
            "1584/1584 [==============================] - 1s 503us/step - loss: 2.6383e-04 - val_loss: 4.3163e-05\n",
            "Epoch 17/20\n",
            "1584/1584 [==============================] - 1s 481us/step - loss: 2.6034e-04 - val_loss: 5.4549e-05\n",
            "Epoch 18/20\n",
            "1584/1584 [==============================] - 1s 502us/step - loss: 2.6572e-04 - val_loss: 3.9804e-05\n",
            "Epoch 19/20\n",
            "1584/1584 [==============================] - 1s 498us/step - loss: 2.6606e-04 - val_loss: 3.8659e-05\n",
            "Epoch 20/20\n",
            "1584/1584 [==============================] - 1s 492us/step - loss: 3.0116e-04 - val_loss: 3.8897e-05\n"
          ],
          "name": "stdout"
        }
      ]
    },
    {
      "cell_type": "markdown",
      "metadata": {
        "id": "erifv2w_dXFT",
        "colab_type": "text"
      },
      "source": [
        "### Long Short-Term Memory"
      ]
    },
    {
      "cell_type": "code",
      "metadata": {
        "id": "WX6WuI6SdXFU",
        "colab_type": "code",
        "outputId": "602f78a5-9351-4356-9a1f-e4fbd9cafe0b",
        "colab": {
          "base_uri": "https://localhost:8080/",
          "height": 323
        }
      },
      "source": [
        "model_lstm = Sequential()\n",
        "model_lstm.add(LSTM(64, return_sequences=True,activation='relu', input_shape=(X_train_series.shape[1], X_train_series.shape[2])))\n",
        "model_lstm.add(LSTM(128, return_sequences=True))\n",
        "model_lstm.add(LSTM(64, return_sequences=False))\n",
        "model_lstm.add(Dropout(lr*10))\n",
        "model_lstm.add(Dense(1))\n",
        "model_lstm.compile(loss='mse', optimizer='adam')\n",
        "model_lstm.summary()"
      ],
      "execution_count": 46,
      "outputs": [
        {
          "output_type": "stream",
          "text": [
            "Model: \"sequential_6\"\n",
            "_________________________________________________________________\n",
            "Layer (type)                 Output Shape              Param #   \n",
            "=================================================================\n",
            "lstm_10 (LSTM)               (None, 63, 64)            16896     \n",
            "_________________________________________________________________\n",
            "lstm_11 (LSTM)               (None, 63, 128)           98816     \n",
            "_________________________________________________________________\n",
            "lstm_12 (LSTM)               (None, 64)                49408     \n",
            "_________________________________________________________________\n",
            "dropout_4 (Dropout)          (None, 64)                0         \n",
            "_________________________________________________________________\n",
            "dense_23 (Dense)             (None, 1)                 65        \n",
            "=================================================================\n",
            "Total params: 165,185\n",
            "Trainable params: 165,185\n",
            "Non-trainable params: 0\n",
            "_________________________________________________________________\n"
          ],
          "name": "stdout"
        }
      ]
    },
    {
      "cell_type": "code",
      "metadata": {
        "id": "lU20LR00dXFX",
        "colab_type": "code",
        "outputId": "acae45d3-4ed4-4403-a6cc-b9685003dd52",
        "colab": {
          "base_uri": "https://localhost:8080/",
          "height": 714
        }
      },
      "source": [
        "lstm_history = model_lstm.fit(X_train_series, Y_train, validation_data=(X_valid_series, Y_valid), epochs=epochs, verbose=1)"
      ],
      "execution_count": 47,
      "outputs": [
        {
          "output_type": "stream",
          "text": [
            "Train on 1584 samples, validate on 396 samples\n",
            "Epoch 1/20\n",
            "1584/1584 [==============================] - 13s 8ms/step - loss: 0.0071 - val_loss: 5.1676e-04\n",
            "Epoch 2/20\n",
            "1584/1584 [==============================] - 10s 6ms/step - loss: 7.6424e-04 - val_loss: 3.8255e-04\n",
            "Epoch 3/20\n",
            "1584/1584 [==============================] - 10s 6ms/step - loss: 7.8961e-04 - val_loss: 4.3942e-04\n",
            "Epoch 4/20\n",
            "1584/1584 [==============================] - 10s 6ms/step - loss: 6.0853e-04 - val_loss: 3.1607e-04\n",
            "Epoch 5/20\n",
            "1584/1584 [==============================] - 10s 6ms/step - loss: 5.0913e-04 - val_loss: 1.7010e-04\n",
            "Epoch 6/20\n",
            "1584/1584 [==============================] - 10s 6ms/step - loss: 7.9370e-04 - val_loss: 2.3735e-04\n",
            "Epoch 7/20\n",
            "1584/1584 [==============================] - 10s 6ms/step - loss: 5.6420e-04 - val_loss: 1.6371e-04\n",
            "Epoch 8/20\n",
            "1584/1584 [==============================] - 10s 6ms/step - loss: 4.6341e-04 - val_loss: 2.1835e-04\n",
            "Epoch 9/20\n",
            "1584/1584 [==============================] - 10s 6ms/step - loss: 5.4990e-04 - val_loss: 1.1410e-04\n",
            "Epoch 10/20\n",
            "1584/1584 [==============================] - 10s 6ms/step - loss: 4.2609e-04 - val_loss: 6.2800e-05\n",
            "Epoch 11/20\n",
            "1584/1584 [==============================] - 10s 6ms/step - loss: 3.9659e-04 - val_loss: 4.1525e-05\n",
            "Epoch 12/20\n",
            "1584/1584 [==============================] - 10s 6ms/step - loss: 4.5486e-04 - val_loss: 7.7361e-05\n",
            "Epoch 13/20\n",
            "1584/1584 [==============================] - 10s 6ms/step - loss: 4.1741e-04 - val_loss: 7.5639e-05\n",
            "Epoch 14/20\n",
            "1584/1584 [==============================] - 10s 6ms/step - loss: 3.8333e-04 - val_loss: 2.3177e-04\n",
            "Epoch 15/20\n",
            "1584/1584 [==============================] - 10s 6ms/step - loss: 4.0737e-04 - val_loss: 1.3179e-04\n",
            "Epoch 16/20\n",
            "1584/1584 [==============================] - 10s 6ms/step - loss: 3.6498e-04 - val_loss: 5.1411e-05\n",
            "Epoch 17/20\n",
            "1584/1584 [==============================] - 10s 6ms/step - loss: 3.7585e-04 - val_loss: 5.6774e-05\n",
            "Epoch 18/20\n",
            "1584/1584 [==============================] - 10s 6ms/step - loss: 4.0614e-04 - val_loss: 7.0724e-05\n",
            "Epoch 19/20\n",
            "1584/1584 [==============================] - 10s 6ms/step - loss: 3.8223e-04 - val_loss: 3.6904e-05\n",
            "Epoch 20/20\n",
            "1584/1584 [==============================] - 10s 6ms/step - loss: 3.4554e-04 - val_loss: 9.1481e-05\n"
          ],
          "name": "stdout"
        }
      ]
    },
    {
      "cell_type": "markdown",
      "metadata": {
        "id": "rLpRzEgtdXFa",
        "colab_type": "text"
      },
      "source": [
        "### CNN-LSTM Hybrid Model"
      ]
    },
    {
      "cell_type": "code",
      "metadata": {
        "id": "hMF8GBNodXFb",
        "colab_type": "code",
        "outputId": "307f1c86-4482-479b-d05a-05dc24f31edf",
        "colab": {
          "base_uri": "https://localhost:8080/",
          "height": 51
        }
      },
      "source": [
        "subsequences = 3\n",
        "timesteps = X_train_series.shape[1]//subsequences\n",
        "X_train_series_sub = X_train_series.reshape((X_train_series.shape[0], subsequences, timesteps, 1))\n",
        "X_valid_series_sub = X_valid_series.reshape((X_valid_series.shape[0], subsequences, timesteps, 1))\n",
        "print('Train set shape', X_train_series_sub.shape)\n",
        "print('Validation set shape', X_valid_series_sub.shape)"
      ],
      "execution_count": 48,
      "outputs": [
        {
          "output_type": "stream",
          "text": [
            "Train set shape (1584, 3, 21, 1)\n",
            "Validation set shape (396, 3, 21, 1)\n"
          ],
          "name": "stdout"
        }
      ]
    },
    {
      "cell_type": "code",
      "metadata": {
        "id": "JLgTG6HWdXFe",
        "colab_type": "code",
        "outputId": "46db8e66-c74c-4a96-81a9-dd44f789f8b6",
        "colab": {
          "base_uri": "https://localhost:8080/",
          "height": 527
        }
      },
      "source": [
        "model_cnn_lstm = Sequential()\n",
        "model_cnn_lstm.add(TimeDistributed(Conv1D(filters=64, kernel_size=1, activation='relu'), input_shape=(None, X_train_series_sub.shape[2], X_train_series_sub.shape[3])))\n",
        "model_cnn_lstm.add(TimeDistributed(MaxPooling1D(pool_size=2)))\n",
        "model_cnn_lstm.add(TimeDistributed(Conv1D(filters=128, kernel_size=1, activation='relu')))\n",
        "model_cnn_lstm.add(TimeDistributed(MaxPooling1D(pool_size=2)))\n",
        "model_cnn_lstm.add(TimeDistributed(Conv1D(filters=64, kernel_size=1, activation='relu')))\n",
        "model_cnn_lstm.add(TimeDistributed(MaxPooling1D(pool_size=2)))\n",
        "model_cnn_lstm.add(TimeDistributed(Flatten()))\n",
        "model_cnn_lstm.add(LSTM(64, activation='relu', return_sequences=True))\n",
        "model_cnn_lstm.add(LSTM(128, activation='relu',return_sequences=True))\n",
        "model_cnn_lstm.add(LSTM(64,activation='relu'))\n",
        "model_cnn_lstm.add(Dense(1))\n",
        "model_cnn_lstm.compile(loss='mse', optimizer=adam)\n",
        "model_cnn_lstm.summary()"
      ],
      "execution_count": 49,
      "outputs": [
        {
          "output_type": "stream",
          "text": [
            "Model: \"sequential_7\"\n",
            "_________________________________________________________________\n",
            "Layer (type)                 Output Shape              Param #   \n",
            "=================================================================\n",
            "time_distributed_1 (TimeDist (None, None, 21, 64)      128       \n",
            "_________________________________________________________________\n",
            "time_distributed_2 (TimeDist (None, None, 10, 64)      0         \n",
            "_________________________________________________________________\n",
            "time_distributed_3 (TimeDist (None, None, 10, 128)     8320      \n",
            "_________________________________________________________________\n",
            "time_distributed_4 (TimeDist (None, None, 5, 128)      0         \n",
            "_________________________________________________________________\n",
            "time_distributed_5 (TimeDist (None, None, 5, 64)       8256      \n",
            "_________________________________________________________________\n",
            "time_distributed_6 (TimeDist (None, None, 2, 64)       0         \n",
            "_________________________________________________________________\n",
            "time_distributed_7 (TimeDist (None, None, 128)         0         \n",
            "_________________________________________________________________\n",
            "lstm_13 (LSTM)               (None, None, 64)          49408     \n",
            "_________________________________________________________________\n",
            "lstm_14 (LSTM)               (None, None, 128)         98816     \n",
            "_________________________________________________________________\n",
            "lstm_15 (LSTM)               (None, 64)                49408     \n",
            "_________________________________________________________________\n",
            "dense_24 (Dense)             (None, 1)                 65        \n",
            "=================================================================\n",
            "Total params: 214,401\n",
            "Trainable params: 214,401\n",
            "Non-trainable params: 0\n",
            "_________________________________________________________________\n"
          ],
          "name": "stdout"
        }
      ]
    },
    {
      "cell_type": "code",
      "metadata": {
        "scrolled": true,
        "id": "h-I7BlVHdXFj",
        "colab_type": "code",
        "colab": {
          "base_uri": "https://localhost:8080/",
          "height": 714
        },
        "outputId": "057d9857-4dec-42d0-ed2b-a5a7a9a709c7"
      },
      "source": [
        "cnn_lstm_history = model_cnn_lstm.fit(X_train_series_sub, Y_train, validation_data=(X_valid_series_sub, Y_valid), epochs=epochs, verbose=1)"
      ],
      "execution_count": 50,
      "outputs": [
        {
          "output_type": "stream",
          "text": [
            "Train on 1584 samples, validate on 396 samples\n",
            "Epoch 1/20\n",
            "1584/1584 [==============================] - 6s 4ms/step - loss: 0.0018 - val_loss: 4.4169e-05\n",
            "Epoch 2/20\n",
            "1584/1584 [==============================] - 1s 804us/step - loss: 2.1592e-04 - val_loss: 4.6493e-05\n",
            "Epoch 3/20\n",
            "1584/1584 [==============================] - 1s 824us/step - loss: 2.2118e-04 - val_loss: 3.9258e-05\n",
            "Epoch 4/20\n",
            "1584/1584 [==============================] - 1s 848us/step - loss: 2.1652e-04 - val_loss: 3.8514e-05\n",
            "Epoch 5/20\n",
            "1584/1584 [==============================] - 1s 837us/step - loss: 2.1560e-04 - val_loss: 3.7564e-05\n",
            "Epoch 6/20\n",
            "1584/1584 [==============================] - 1s 855us/step - loss: 2.1796e-04 - val_loss: 4.1217e-05\n",
            "Epoch 7/20\n",
            "1584/1584 [==============================] - 1s 815us/step - loss: 2.1653e-04 - val_loss: 4.0160e-05\n",
            "Epoch 8/20\n",
            "1584/1584 [==============================] - 1s 837us/step - loss: 2.1448e-04 - val_loss: 4.0843e-05\n",
            "Epoch 9/20\n",
            "1584/1584 [==============================] - 1s 804us/step - loss: 2.2026e-04 - val_loss: 3.6999e-05\n",
            "Epoch 10/20\n",
            "1584/1584 [==============================] - 1s 822us/step - loss: 2.1455e-04 - val_loss: 3.8274e-05\n",
            "Epoch 11/20\n",
            "1584/1584 [==============================] - 1s 823us/step - loss: 2.1399e-04 - val_loss: 4.1631e-05\n",
            "Epoch 12/20\n",
            "1584/1584 [==============================] - 1s 848us/step - loss: 2.1558e-04 - val_loss: 3.7437e-05\n",
            "Epoch 13/20\n",
            "1584/1584 [==============================] - 1s 854us/step - loss: 2.1368e-04 - val_loss: 3.6353e-05\n",
            "Epoch 14/20\n",
            "1584/1584 [==============================] - 1s 822us/step - loss: 2.1282e-04 - val_loss: 3.5988e-05\n",
            "Epoch 15/20\n",
            "1584/1584 [==============================] - 1s 825us/step - loss: 2.1410e-04 - val_loss: 3.4886e-05\n",
            "Epoch 16/20\n",
            "1584/1584 [==============================] - 1s 840us/step - loss: 2.1408e-04 - val_loss: 3.6618e-05\n",
            "Epoch 17/20\n",
            "1584/1584 [==============================] - 1s 799us/step - loss: 2.1188e-04 - val_loss: 3.8921e-05\n",
            "Epoch 18/20\n",
            "1584/1584 [==============================] - 1s 809us/step - loss: 2.1369e-04 - val_loss: 3.5074e-05\n",
            "Epoch 19/20\n",
            "1584/1584 [==============================] - 1s 827us/step - loss: 2.1070e-04 - val_loss: 3.4198e-05\n",
            "Epoch 20/20\n",
            "1584/1584 [==============================] - 1s 820us/step - loss: 2.1165e-04 - val_loss: 3.5957e-05\n"
          ],
          "name": "stdout"
        }
      ]
    },
    {
      "cell_type": "markdown",
      "metadata": {
        "id": "HubZFCaBdXFn",
        "colab_type": "text"
      },
      "source": [
        "### PyTorch"
      ]
    },
    {
      "cell_type": "code",
      "metadata": {
        "id": "4jtyQXVjdXFo",
        "colab_type": "code",
        "outputId": "08619a1a-ec9f-42aa-afd3-2f06defe6434",
        "colab": {
          "base_uri": "https://localhost:8080/",
          "height": 51
        }
      },
      "source": [
        "seq_length = 5\n",
        "X_train_torch, y_train_torch = create_sequences(train.drop(columns=['Recovered','Deaths']), seq_length)\n",
        "X_valid_torch, y_valid_torch = create_sequences(test.drop(columns=['Recovered','Deaths']), seq_length)\n",
        "\n",
        "X_train_torch = torch.from_numpy(X_train_torch).float()\n",
        "y_train_torch = torch.from_numpy(y_train_torch).float()\n",
        "\n",
        "X_valid_torch = torch.from_numpy(X_valid_torch).float()\n",
        "y_valid_torch = torch.from_numpy(y_valid_torch).float()\n",
        "\n",
        "print('Train set shape', X_train_torch.shape)\n",
        "print('Validation set shape', X_valid_torch.shape)"
      ],
      "execution_count": 51,
      "outputs": [
        {
          "output_type": "stream",
          "text": [
            "Train set shape torch.Size([35, 5, 1])\n",
            "Validation set shape torch.Size([25, 5, 1])\n"
          ],
          "name": "stdout"
        }
      ]
    },
    {
      "cell_type": "code",
      "metadata": {
        "id": "ON4uzvRBdXFt",
        "colab_type": "code",
        "colab": {}
      },
      "source": [
        "class CoronaVirusPredictor(nn.Module):\n",
        "    def __init__(self, n_features, n_hidden, seq_len, n_layers=2):\n",
        "        super(CoronaVirusPredictor, self).__init__()\n",
        "\n",
        "        self.n_hidden = n_hidden\n",
        "        self.seq_len = seq_len\n",
        "        self.n_layers = n_layers\n",
        "\n",
        "        self.lstm = nn.LSTM(\n",
        "          input_size=n_features,\n",
        "          hidden_size=n_hidden,\n",
        "          num_layers=n_layers,\n",
        "          dropout= lr * 10\n",
        "        )\n",
        "\n",
        "        self.linear = nn.Linear(in_features=n_hidden, out_features=1)\n",
        "        \n",
        "    def reset_hidden_state(self):\n",
        "        self.hidden = (\n",
        "            torch.zeros(self.n_layers, self.seq_len, self.n_hidden),\n",
        "            torch.zeros(self.n_layers, self.seq_len, self.n_hidden)\n",
        "        )\n",
        "        \n",
        "    def forward(self, sequences):\n",
        "        lstm_out, self.hidden = self.lstm(\n",
        "          sequences.view(len(sequences), self.seq_len, -1),\n",
        "          self.hidden\n",
        "        )\n",
        "        last_time_step = \\\n",
        "          lstm_out.view(self.seq_len, len(sequences), self.n_hidden)[-1]\n",
        "        y_pred = self.linear(last_time_step)\n",
        "        return y_pred"
      ],
      "execution_count": 0,
      "outputs": []
    },
    {
      "cell_type": "code",
      "metadata": {
        "id": "a8ZAq93ndXFw",
        "colab_type": "code",
        "colab": {}
      },
      "source": [
        "def train_model(model,train_data,train_labels,test_data=None,test_labels=None):\n",
        "    loss_fn = torch.nn.MSELoss(reduction='sum')\n",
        "    optimiser = torch.optim.Adam(model.parameters(), lr=1e-3)\n",
        "    num_epochs = epochs\n",
        "    train_hist = np.zeros(num_epochs)\n",
        "    test_hist = np.zeros(num_epochs)\n",
        "    \n",
        "    for t in range(1,num_epochs+1):\n",
        "        model.reset_hidden_state()\n",
        "        y_pred = model(X_train_torch)\n",
        "        loss = loss_fn(y_pred.float(), y_train_torch)\n",
        "        if test_data is not None:\n",
        "            with torch.no_grad():\n",
        "                y_test_pred = model(X_valid_torch)\n",
        "                test_loss = loss_fn(y_test_pred.float(), y_valid_torch)\n",
        "                test_hist[t-1] = test_loss.item()\n",
        "\n",
        "            if t % 10 == 0:\n",
        "                print(f'Epoch {t} train loss: {loss.item()} test loss: {test_loss.item()}')\n",
        "        elif t % 10 == 0:\n",
        "            print(f'Epoch {t} train loss: {loss.item()}')\n",
        "\n",
        "        train_hist[t-1] = loss.item()\n",
        "        optimiser.zero_grad()\n",
        "        loss.backward()\n",
        "        optimiser.step()\n",
        "    return model.eval(), train_hist, test_hist, y_pred, y_test_pred"
      ],
      "execution_count": 0,
      "outputs": []
    },
    {
      "cell_type": "code",
      "metadata": {
        "id": "oE24kc85dXF3",
        "colab_type": "code",
        "outputId": "450d0845-4154-4be3-b224-45a10a920b24",
        "colab": {
          "base_uri": "https://localhost:8080/",
          "height": 119
        }
      },
      "source": [
        "torch_model = CoronaVirusPredictor( n_features=1,n_hidden=128,seq_len=seq_length,n_layers=4)\n",
        "print(torch_model)\n",
        "torch_model, train_hist, test_hist, y_pred, y_test_pred = train_model( torch_model, X_train_torch, y_train_torch, X_valid_torch, y_valid_torch)"
      ],
      "execution_count": 54,
      "outputs": [
        {
          "output_type": "stream",
          "text": [
            "CoronaVirusPredictor(\n",
            "  (lstm): LSTM(1, 128, num_layers=4, dropout=0.0029999999999999996)\n",
            "  (linear): Linear(in_features=128, out_features=1, bias=True)\n",
            ")\n",
            "Epoch 10 train loss: 0.25659266114234924 test loss: 42.7035026550293\n",
            "Epoch 20 train loss: 0.25160136818885803 test loss: 41.91297149658203\n"
          ],
          "name": "stdout"
        }
      ]
    },
    {
      "cell_type": "markdown",
      "metadata": {
        "id": "ubJl5pgJ7jmY",
        "colab_type": "text"
      },
      "source": [
        "### ARIMA"
      ]
    },
    {
      "cell_type": "code",
      "metadata": {
        "id": "oCNnUpFN7pJ5",
        "colab_type": "code",
        "colab": {}
      },
      "source": [
        "def predict_arima_model(X_train, X_valid, arima_order):\n",
        "    X_train = X_train.astype('float32')\n",
        "    X_valid = X_valid.astype('float32')\n",
        "    train_size = int(len(X_train) * 0.8)\n",
        "    train, test = X_train[0:train_size], X_train[train_size:]\n",
        "    history = [x for x in train]\n",
        "\n",
        "    train_pred = []\n",
        "    for t in range(len(test)):\n",
        "        model = ARIMA(history, order=arima_order)\n",
        "        model_fit = model.fit(disp=0)\n",
        "        yhat = model_fit.forecast()[0]\n",
        "        train_pred.append(yhat)\n",
        "        history.append(test[t])\n",
        "    loss = losses.mean_squared_error(test, train_pred)\n",
        "    loss = tf.Session().run(loss)\n",
        "    sum = 0\n",
        "    for i in loss:\n",
        "      sum += i\n",
        "    train_loss = sum / len(loss)\n",
        "\n",
        "    valid_pred = []\n",
        "    for t in range(len(X_valid)):\n",
        "        model = ARIMA(history, order=arima_order)\n",
        "        model_fit = model.fit(disp=0)\n",
        "        yhat = model_fit.forecast()[0]\n",
        "        valid_pred.append(yhat)\n",
        "        history.append(X_valid[t])\n",
        "    loss = losses.mean_squared_error(X_valid, train_pred)\n",
        "    loss = tf.Session().run(loss)\n",
        "    sum = 0\n",
        "    for i in loss:\n",
        "      sum += i\n",
        "    valid_loss = sum / len(loss)\n",
        "    return train_loss,valid_loss, train_pred, valid_pred "
      ],
      "execution_count": 0,
      "outputs": []
    },
    {
      "cell_type": "code",
      "metadata": {
        "id": "Vf_AtDls9C7s",
        "colab_type": "code",
        "colab": {}
      },
      "source": [
        "def evaluate_models(dataset, valid,  p_values, d_values, q_values):\n",
        "    dataset = dataset.astype('float32')\n",
        "    valid = valid.astype('float32')\n",
        "    best_train_score, best_valid_score, best_cfg = float(\"inf\"),float(\"inf\"), None\n",
        "    train_losses = []\n",
        "    valid_losses = []\n",
        "    train_prediction = []\n",
        "    valid_prediction = []\n",
        "    i = 1\n",
        "    for p in p_values:\n",
        "        for d in d_values:\n",
        "            for q in q_values:\n",
        "                order = (p,d,q)\n",
        "                try:\n",
        "                  train_loss, valid_loss, train_pred, valid_pred = predict_arima_model(dataset,valid, order)\n",
        "                  train_losses.append(train_loss)\n",
        "                  valid_losses.append(valid_loss)\n",
        "                  if (train_loss + valid_loss) < (best_train_score + best_valid_score):\n",
        "                    best_train_score,best_valid_score, best_cfg = train_loss, valid_loss, order\n",
        "                    train_prediction = train_pred\n",
        "                    valid_prediction = valid_pred\n",
        "                  print('ARIMA %s : Iteration = %s Train Loss=%.3f Valid Loss=%.3f' % (order,i,train_loss, valid_loss))\n",
        "                except:\n",
        "                  # print('ARIMA %s : Iteration = %s Train Loss=%.3f Valid Loss=%.3f' % (order,i,train_loss, valid_loss))\n",
        "                  continue\n",
        "                i = i + 1\n",
        "    print('Best ARIMA%s Train Loss=%.3f Valid Loss=%.3f' % (best_cfg, best_train_score, best_valid_score))\n",
        "    return train_losses, valid_losses, train_prediction, valid_prediction"
      ],
      "execution_count": 0,
      "outputs": []
    },
    {
      "cell_type": "code",
      "metadata": {
        "id": "IMlsMQ2NvOre",
        "colab_type": "code",
        "colab": {
          "base_uri": "https://localhost:8080/",
          "height": 527
        },
        "outputId": "f70b7faf-3faf-4a75-d0b3-95bd10b08970"
      },
      "source": [
        "p_values = range(0,10)\n",
        "d_values = range(0, 4)\n",
        "q_values = range(0, 4)\n",
        "arima_train_loss, arima_valid_loss, arima_train_prediction, arima_valid_prediction = evaluate_models(arima_X_train, arima_X_valid, p_values, d_values, q_values)"
      ],
      "execution_count": 57,
      "outputs": [
        {
          "output_type": "stream",
          "text": [
            "ARIMA (0, 0, 0) : Iteration = 1 Train Loss=0.082 Valid Loss=3.159\n",
            "ARIMA (0, 0, 1) : Iteration = 2 Train Loss=0.067 Valid Loss=3.008\n",
            "ARIMA (0, 1, 0) : Iteration = 3 Train Loss=0.062 Valid Loss=2.585\n",
            "ARIMA (0, 1, 1) : Iteration = 4 Train Loss=0.055 Valid Loss=2.719\n",
            "ARIMA (0, 1, 2) : Iteration = 5 Train Loss=0.057 Valid Loss=2.802\n",
            "ARIMA (0, 2, 0) : Iteration = 6 Train Loss=0.114 Valid Loss=2.546\n",
            "ARIMA (0, 2, 1) : Iteration = 7 Train Loss=0.064 Valid Loss=2.569\n",
            "ARIMA (1, 0, 0) : Iteration = 8 Train Loss=0.061 Valid Loss=2.884\n",
            "ARIMA (1, 1, 0) : Iteration = 9 Train Loss=0.056 Valid Loss=2.626\n",
            "ARIMA (1, 1, 1) : Iteration = 10 Train Loss=0.057 Valid Loss=2.732\n",
            "ARIMA (1, 2, 0) : Iteration = 11 Train Loss=0.079 Valid Loss=2.502\n",
            "ARIMA (2, 0, 0) : Iteration = 12 Train Loss=0.061 Valid Loss=2.836\n",
            "ARIMA (2, 1, 0) : Iteration = 13 Train Loss=0.054 Valid Loss=2.664\n",
            "ARIMA (2, 2, 0) : Iteration = 14 Train Loss=0.068 Valid Loss=2.504\n",
            "ARIMA (3, 0, 0) : Iteration = 15 Train Loss=0.060 Valid Loss=2.819\n",
            "ARIMA (3, 1, 0) : Iteration = 16 Train Loss=0.054 Valid Loss=2.691\n",
            "ARIMA (3, 1, 1) : Iteration = 17 Train Loss=0.057 Valid Loss=2.736\n",
            "ARIMA (3, 2, 0) : Iteration = 18 Train Loss=0.064 Valid Loss=2.512\n",
            "ARIMA (4, 1, 0) : Iteration = 19 Train Loss=0.054 Valid Loss=2.711\n",
            "ARIMA (4, 2, 0) : Iteration = 20 Train Loss=0.066 Valid Loss=2.506\n",
            "ARIMA (5, 0, 0) : Iteration = 21 Train Loss=0.060 Valid Loss=2.828\n",
            "ARIMA (5, 1, 0) : Iteration = 22 Train Loss=0.055 Valid Loss=2.712\n",
            "ARIMA (5, 1, 1) : Iteration = 23 Train Loss=0.057 Valid Loss=2.731\n",
            "ARIMA (5, 2, 0) : Iteration = 24 Train Loss=0.063 Valid Loss=2.526\n",
            "ARIMA (6, 0, 0) : Iteration = 25 Train Loss=0.060 Valid Loss=2.821\n",
            "ARIMA (6, 1, 0) : Iteration = 26 Train Loss=0.055 Valid Loss=2.718\n",
            "ARIMA (7, 1, 0) : Iteration = 27 Train Loss=0.055 Valid Loss=2.723\n",
            "ARIMA (8, 1, 0) : Iteration = 28 Train Loss=0.056 Valid Loss=2.730\n",
            "ARIMA (9, 1, 0) : Iteration = 29 Train Loss=0.056 Valid Loss=2.721\n",
            "Best ARIMA(4, 2, 0) Train Loss=0.066 Valid Loss=2.506\n"
          ],
          "name": "stdout"
        }
      ]
    },
    {
      "cell_type": "markdown",
      "metadata": {
        "id": "yDUBDvcPdXF7",
        "colab_type": "text"
      },
      "source": [
        "## Comparing Models"
      ]
    },
    {
      "cell_type": "code",
      "metadata": {
        "id": "e8Kje8PDdXF7",
        "colab_type": "code",
        "outputId": "8bcf0dc2-7bc5-4503-9b8e-e186072b4836",
        "colab": {
          "base_uri": "https://localhost:8080/",
          "height": 1000
        }
      },
      "source": [
        "fig, axes = plt.subplots(2, 2, sharex=True, sharey=True,figsize=(22,12))\n",
        "ax1, ax2 = axes[0]\n",
        "ax3, ax4 = axes[1]\n",
        "\n",
        "ax1.plot(mlp_history.history['loss'], label='Train loss')\n",
        "ax1.plot(mlp_history.history['val_loss'], label='Validation loss')\n",
        "ax1.legend(loc='best')\n",
        "ax1.set_title('MLP')\n",
        "ax1.set_xlabel('Epochs')\n",
        "ax1.set_ylabel('MSE')\n",
        "\n",
        "ax2.plot(cnn_history.history['loss'], label='Train loss')\n",
        "ax2.plot(cnn_history.history['val_loss'], label='Validation loss')\n",
        "ax2.legend(loc='best')\n",
        "ax2.set_title('CNN')\n",
        "ax2.set_xlabel('Epochs')\n",
        "ax2.set_ylabel('MSE')\n",
        "\n",
        "ax3.plot(lstm_history.history['loss'], label='Train loss')\n",
        "ax3.plot(lstm_history.history['val_loss'], label='Validation loss')\n",
        "ax3.legend(loc='best')\n",
        "ax3.set_title('LSTM')\n",
        "ax3.set_xlabel('Epochs')\n",
        "ax3.set_ylabel('MSE')\n",
        "\n",
        "ax4.plot(cnn_lstm_history.history['loss'], label='Train loss')\n",
        "ax4.plot(cnn_lstm_history.history['val_loss'], label='Validation loss')\n",
        "ax4.legend(loc='best')\n",
        "ax4.set_title('CNN-LSTM')\n",
        "ax4.set_xlabel('Epochs')\n",
        "ax4.set_ylabel('MSE')\n",
        "\n",
        "plt.show()\n",
        "\n",
        "plt.figure(figsize = (22,12))\n",
        "plt.subplot(2,2,1)\n",
        "plt.plot(train_hist, label='Train loss')\n",
        "plt.plot(test_hist, label='Validation loss')\n",
        "plt.legend(loc='best')\n",
        "plt.title('PyTorch')\n",
        "plt.xlabel('Epochs')\n",
        "plt.ylabel('MSE')\n",
        "\n",
        "plt.subplot(2,2,2)\n",
        "plt.plot(arima_train_loss, label='Train loss')\n",
        "plt.plot(arima_valid_loss, label='Validation loss')\n",
        "plt.legend(loc='best')\n",
        "plt.title('ARIMA')\n",
        "plt.xlabel('Epochs')\n",
        "plt.ylabel('MSE')\n",
        "\n",
        "plt.show()"
      ],
      "execution_count": 58,
      "outputs": [
        {
          "output_type": "display_data",
          "data": {
            "image/png": "[encoded data removed]",
            "text/plain": [
              "<Figure size 1584x864 with 4 Axes>"
            ]
          },
          "metadata": {
            "tags": [],
            "image/png": {
              "width": 1290,
              "height": 724
            }
          }
        },
        {
          "output_type": "display_data",
          "data": {
            "image/png": "[encoded data removed]",
            "text/plain": [
              "<Figure size 1584x864 with 2 Axes>"
            ]
          },
          "metadata": {
            "tags": [],
            "image/png": {
              "width": 1286,
              "height": 368
            }
          }
        }
      ]
    },
    {
      "cell_type": "markdown",
      "metadata": {
        "id": "tEhhqMFuNYog",
        "colab_type": "text"
      },
      "source": [
        "### RMSE"
      ]
    },
    {
      "cell_type": "markdown",
      "metadata": {
        "id": "Ap0_SN4wdXF-",
        "colab_type": "text"
      },
      "source": [
        "#### MLP"
      ]
    },
    {
      "cell_type": "code",
      "metadata": {
        "id": "pgOrgRFFdXF_",
        "colab_type": "code",
        "outputId": "fef15d46-b24b-4d29-cdef-9b3254d2de7f",
        "colab": {
          "base_uri": "https://localhost:8080/",
          "height": 51
        }
      },
      "source": [
        "mlp_train_pred = model_mlp.predict(X_train.values)\n",
        "mlp_valid_pred = model_mlp.predict(X_valid.values)\n",
        "print('Train rmse:', np.sqrt(mean_squared_error(Y_train, mlp_train_pred)))\n",
        "print('Validation rmse:', np.sqrt(mean_squared_error(Y_valid, mlp_valid_pred)))"
      ],
      "execution_count": 59,
      "outputs": [
        {
          "output_type": "stream",
          "text": [
            "Train rmse: 0.01488963592158838\n",
            "Validation rmse: 0.006744537675711176\n"
          ],
          "name": "stdout"
        }
      ]
    },
    {
      "cell_type": "markdown",
      "metadata": {
        "id": "1sNOaP2odXGD",
        "colab_type": "text"
      },
      "source": [
        "#### CNN"
      ]
    },
    {
      "cell_type": "code",
      "metadata": {
        "id": "U-og8TmHdXGE",
        "colab_type": "code",
        "outputId": "9af7ffad-753d-48e5-9b9e-2a8b90302fba",
        "colab": {
          "base_uri": "https://localhost:8080/",
          "height": 51
        }
      },
      "source": [
        "cnn_train_pred = model_cnn.predict(X_train_series)\n",
        "cnn_valid_pred = model_cnn.predict(X_valid_series)\n",
        "print('Train rmse:', np.sqrt(mean_squared_error(Y_train, cnn_train_pred)))\n",
        "print('Validation rmse:', np.sqrt(mean_squared_error(Y_valid, cnn_valid_pred)))"
      ],
      "execution_count": 60,
      "outputs": [
        {
          "output_type": "stream",
          "text": [
            "Train rmse: 0.014652555467590003\n",
            "Validation rmse: 0.0062367593772055165\n"
          ],
          "name": "stdout"
        }
      ]
    },
    {
      "cell_type": "markdown",
      "metadata": {
        "id": "iG1weg3sdXGJ",
        "colab_type": "text"
      },
      "source": [
        "#### LSTM"
      ]
    },
    {
      "cell_type": "code",
      "metadata": {
        "id": "LkjzJci8dXGK",
        "colab_type": "code",
        "outputId": "0f518410-06ba-4fa1-d110-269780993ba9",
        "colab": {
          "base_uri": "https://localhost:8080/",
          "height": 51
        }
      },
      "source": [
        "lstm_train_pred = model_lstm.predict(X_train_series)\n",
        "lstm_valid_pred = model_cnn.predict(X_valid_series)\n",
        "print('Train rmse:', np.sqrt(mean_squared_error(Y_train, lstm_train_pred)))\n",
        "print('Validation rmse:', np.sqrt(mean_squared_error(Y_valid, lstm_valid_pred)))"
      ],
      "execution_count": 61,
      "outputs": [
        {
          "output_type": "stream",
          "text": [
            "Train rmse: 0.01637186362951516\n",
            "Validation rmse: 0.0062367593772055165\n"
          ],
          "name": "stdout"
        }
      ]
    },
    {
      "cell_type": "markdown",
      "metadata": {
        "id": "H0PprbPFdXGS",
        "colab_type": "text"
      },
      "source": [
        "#### CNN - LSTM"
      ]
    },
    {
      "cell_type": "code",
      "metadata": {
        "id": "Vd2UUvfBdXGS",
        "colab_type": "code",
        "outputId": "325d0808-bc17-45d5-a598-fedcc4d7c83b",
        "colab": {
          "base_uri": "https://localhost:8080/",
          "height": 51
        }
      },
      "source": [
        "cnn_lstm_train_pred = model_cnn_lstm.predict(X_train_series_sub)\n",
        "cnn_lstm_valid_pred = model_cnn_lstm.predict(X_valid_series_sub)\n",
        "print('Train rmse:', np.sqrt(mean_squared_error(Y_train, cnn_lstm_train_pred)))\n",
        "print('Validation rmse:', np.sqrt(mean_squared_error(Y_valid, cnn_lstm_valid_pred)))"
      ],
      "execution_count": 62,
      "outputs": [
        {
          "output_type": "stream",
          "text": [
            "Train rmse: 0.014526469483850052\n",
            "Validation rmse: 0.005996374142857966\n"
          ],
          "name": "stdout"
        }
      ]
    },
    {
      "cell_type": "markdown",
      "metadata": {
        "id": "KAFHKBWYdXGV",
        "colab_type": "text"
      },
      "source": [
        "#### PyTorch"
      ]
    },
    {
      "cell_type": "code",
      "metadata": {
        "id": "BvdIj973dXGW",
        "colab_type": "code",
        "outputId": "0f0fc18f-6cc9-4581-bc67-fcd570f50a81",
        "colab": {
          "base_uri": "https://localhost:8080/",
          "height": 51
        }
      },
      "source": [
        "print('Train rmse:', np.sqrt(mean_squared_error(np.array(y_train_torch.detach()).reshape(y_train_torch.shape[0]), np.array(y_pred.detach()).reshape(y_pred.shape[0]))))\n",
        "print('Validation rmse:', np.sqrt(mean_squared_error(np.array(y_valid_torch.detach()).reshape(y_valid_torch.shape[0]), np.array(y_test_pred.detach()).reshape(y_test_pred.shape[0]))))"
      ],
      "execution_count": 63,
      "outputs": [
        {
          "output_type": "stream",
          "text": [
            "Train rmse: 0.08478568\n",
            "Validation rmse: 1.2948046\n"
          ],
          "name": "stdout"
        }
      ]
    },
    {
      "cell_type": "markdown",
      "metadata": {
        "id": "wP5CuDnitAFw",
        "colab_type": "text"
      },
      "source": [
        "#### ARIMA"
      ]
    },
    {
      "cell_type": "code",
      "metadata": {
        "id": "W2xQqKxYtDfm",
        "colab_type": "code",
        "colab": {
          "base_uri": "https://localhost:8080/",
          "height": 51
        },
        "outputId": "2732c1cc-29cf-4c03-e1a6-253500952a00"
      },
      "source": [
        "train_size = int(len(arima_X_train) * 0.8)\n",
        "arima_train = arima_X_train[train_size:]\n",
        "print('Train rmse:', np.sqrt(mean_squared_error(arima_train, arima_train_prediction)))\n",
        "print('Validation rmse:', np.sqrt(mean_squared_error(arima_X_valid, arima_valid_prediction)))"
      ],
      "execution_count": 76,
      "outputs": [
        {
          "output_type": "stream",
          "text": [
            "Train rmse: 0.14053249967472112\n",
            "Validation rmse: 0.24714301534936914\n"
          ],
          "name": "stdout"
        }
      ]
    },
    {
      "cell_type": "markdown",
      "metadata": {
        "id": "0hQ2J8-ANgut",
        "colab_type": "text"
      },
      "source": [
        "### Mean Absolute Error"
      ]
    },
    {
      "cell_type": "markdown",
      "metadata": {
        "id": "AmY5d6uaNpQ7",
        "colab_type": "text"
      },
      "source": [
        "#### MLP"
      ]
    },
    {
      "cell_type": "code",
      "metadata": {
        "id": "rnImup0hdXGZ",
        "colab_type": "code",
        "outputId": "376bbf58-eac8-4e8a-f76d-2e59f9ecdb39",
        "colab": {
          "base_uri": "https://localhost:8080/",
          "height": 51
        }
      },
      "source": [
        "print('Train mae:', mean_absolute_error(Y_train, mlp_train_pred))\n",
        "print('Validation mae:', mean_absolute_error(Y_valid, mlp_valid_pred))"
      ],
      "execution_count": 77,
      "outputs": [
        {
          "output_type": "stream",
          "text": [
            "Train mae: 0.002376040590456615\n",
            "Validation mae: 0.0023447015148569494\n"
          ],
          "name": "stdout"
        }
      ]
    },
    {
      "cell_type": "markdown",
      "metadata": {
        "id": "9j6W0EvwPRMB",
        "colab_type": "text"
      },
      "source": [
        "#### CNN"
      ]
    },
    {
      "cell_type": "code",
      "metadata": {
        "id": "whs_JHzePNey",
        "colab_type": "code",
        "outputId": "7f2f9699-a868-4589-e16d-e523f88ebd3f",
        "colab": {
          "base_uri": "https://localhost:8080/",
          "height": 51
        }
      },
      "source": [
        "print('Train mae:', mean_absolute_error(Y_train, cnn_train_pred))\n",
        "print('Validation mae:', mean_absolute_error(Y_valid, cnn_valid_pred))"
      ],
      "execution_count": 78,
      "outputs": [
        {
          "output_type": "stream",
          "text": [
            "Train mae: 0.0017952532963595338\n",
            "Validation mae: 0.0016735170507585688\n"
          ],
          "name": "stdout"
        }
      ]
    },
    {
      "cell_type": "markdown",
      "metadata": {
        "id": "hl9leU6bPkPX",
        "colab_type": "text"
      },
      "source": [
        "#### LSTM"
      ]
    },
    {
      "cell_type": "code",
      "metadata": {
        "id": "FAVRbgA2PglI",
        "colab_type": "code",
        "outputId": "b2aec647-5d20-4cd0-a349-2d5741c27aa7",
        "colab": {
          "base_uri": "https://localhost:8080/",
          "height": 51
        }
      },
      "source": [
        "print('Train mae:', mean_absolute_error(Y_train, lstm_train_pred))\n",
        "print('Validation mae:', mean_absolute_error(Y_valid, lstm_valid_pred))"
      ],
      "execution_count": 79,
      "outputs": [
        {
          "output_type": "stream",
          "text": [
            "Train mae: 0.007501966822489741\n",
            "Validation mae: 0.0016735170507585688\n"
          ],
          "name": "stdout"
        }
      ]
    },
    {
      "cell_type": "markdown",
      "metadata": {
        "id": "7E0fkvY1P7tc",
        "colab_type": "text"
      },
      "source": [
        "#### CNN-LSTM"
      ]
    },
    {
      "cell_type": "code",
      "metadata": {
        "id": "zVN7ijRZP3GW",
        "colab_type": "code",
        "outputId": "200f89d8-7c20-4b20-d499-251ae93e6057",
        "colab": {
          "base_uri": "https://localhost:8080/",
          "height": 51
        }
      },
      "source": [
        "print('Train mae:', mean_absolute_error(Y_train, cnn_lstm_train_pred))\n",
        "print('Validation mae:', mean_absolute_error(Y_valid, cnn_lstm_valid_pred))"
      ],
      "execution_count": 80,
      "outputs": [
        {
          "output_type": "stream",
          "text": [
            "Train mae: 0.0018244589648790167\n",
            "Validation mae: 0.001607511876477003\n"
          ],
          "name": "stdout"
        }
      ]
    },
    {
      "cell_type": "markdown",
      "metadata": {
        "id": "1_8ss149QMfB",
        "colab_type": "text"
      },
      "source": [
        "#### PyTorch"
      ]
    },
    {
      "cell_type": "code",
      "metadata": {
        "id": "Hi1pcbWHQHzm",
        "colab_type": "code",
        "outputId": "5ab22c56-42cf-47e0-ce41-3daff10f34ff",
        "colab": {
          "base_uri": "https://localhost:8080/",
          "height": 51
        }
      },
      "source": [
        "print('Train mae:', mean_absolute_error(np.array(y_train_torch.detach()).reshape(y_train_torch.shape[0]), np.array(y_pred.detach()).reshape(y_pred.shape[0])))\n",
        "print('Validation mae:', mean_absolute_error(np.array(y_valid_torch.detach()).reshape(y_valid_torch.shape[0]), np.array(y_test_pred.detach()).reshape(y_test_pred.shape[0])))"
      ],
      "execution_count": 81,
      "outputs": [
        {
          "output_type": "stream",
          "text": [
            "Train mae: 0.049153265\n",
            "Validation mae: 1.0141432\n"
          ],
          "name": "stdout"
        }
      ]
    },
    {
      "cell_type": "markdown",
      "metadata": {
        "id": "wIYJbUF-zimK",
        "colab_type": "text"
      },
      "source": [
        "#### ARIMA"
      ]
    },
    {
      "cell_type": "code",
      "metadata": {
        "id": "jRsP9sG1zkrB",
        "colab_type": "code",
        "colab": {
          "base_uri": "https://localhost:8080/",
          "height": 51
        },
        "outputId": "a238dd15-ae8b-4333-ef14-43bde7bc533d"
      },
      "source": [
        "print('Train rmse:', mean_absolute_error(arima_train, arima_train_prediction))\n",
        "print('Validation rmse:', mean_absolute_error(arima_X_valid, arima_valid_prediction))"
      ],
      "execution_count": 82,
      "outputs": [
        {
          "output_type": "stream",
          "text": [
            "Train rmse: 0.08265332109375025\n",
            "Validation rmse: 0.19360254673895677\n"
          ],
          "name": "stdout"
        }
      ]
    },
    {
      "cell_type": "markdown",
      "metadata": {
        "id": "8g8k3bMEQmFH",
        "colab_type": "text"
      },
      "source": [
        "### Mean Absolute Percentage Error"
      ]
    },
    {
      "cell_type": "code",
      "metadata": {
        "id": "1o5LsZ1PQXm5",
        "colab_type": "code",
        "colab": {}
      },
      "source": [
        "def mean_absolute_percentage_error(y_true, y_pred):\n",
        "  return np.mean(np.abs(y_true - y_pred/y_true)) * 100"
      ],
      "execution_count": 0,
      "outputs": []
    },
    {
      "cell_type": "markdown",
      "metadata": {
        "id": "j9bqcYiORJVC",
        "colab_type": "text"
      },
      "source": [
        "#### MLP"
      ]
    },
    {
      "cell_type": "code",
      "metadata": {
        "id": "2MnIQe9HRH9w",
        "colab_type": "code",
        "outputId": "800d5af5-1cc2-4bbb-c193-3c498825993e",
        "colab": {
          "base_uri": "https://localhost:8080/",
          "height": 51
        }
      },
      "source": [
        "print('Train mape:', mean_absolute_percentage_error(Y_train, mlp_train_pred))\n",
        "print('Validation mape:', mean_absolute_percentage_error(Y_valid, mlp_valid_pred))"
      ],
      "execution_count": 84,
      "outputs": [
        {
          "output_type": "stream",
          "text": [
            "Train mape: 252.27840362680055\n",
            "Validation mape: 258.57937874468547\n"
          ],
          "name": "stdout"
        }
      ]
    },
    {
      "cell_type": "markdown",
      "metadata": {
        "id": "2K14wTeTSoss",
        "colab_type": "text"
      },
      "source": [
        "#### CNN"
      ]
    },
    {
      "cell_type": "code",
      "metadata": {
        "id": "_hgxBcLjRVcm",
        "colab_type": "code",
        "outputId": "f95a58d7-c294-460a-ebb8-130cc1cd023c",
        "colab": {
          "base_uri": "https://localhost:8080/",
          "height": 51
        }
      },
      "source": [
        "print('Train mae:', mean_absolute_percentage_error(Y_train, cnn_train_pred))\n",
        "print('Validation mae:', mean_absolute_percentage_error(Y_valid, cnn_valid_pred))"
      ],
      "execution_count": 85,
      "outputs": [
        {
          "output_type": "stream",
          "text": [
            "Train mae: 251.9943904973089\n",
            "Validation mae: 237.97147076979343\n"
          ],
          "name": "stdout"
        }
      ]
    },
    {
      "cell_type": "markdown",
      "metadata": {
        "id": "u2_-_D7aSv3R",
        "colab_type": "text"
      },
      "source": [
        "#### LSTM"
      ]
    },
    {
      "cell_type": "code",
      "metadata": {
        "id": "0Jttz2MFSuj9",
        "colab_type": "code",
        "outputId": "0cfefee3-7eed-41fc-fce7-fbca319d8543",
        "colab": {
          "base_uri": "https://localhost:8080/",
          "height": 51
        }
      },
      "source": [
        "print('Train mae:', mean_absolute_percentage_error(Y_train, lstm_train_pred))\n",
        "print('Validation mae:', mean_absolute_percentage_error(Y_valid, lstm_valid_pred))"
      ],
      "execution_count": 86,
      "outputs": [
        {
          "output_type": "stream",
          "text": [
            "Train mae: 1211.6320907880229\n",
            "Validation mae: 237.97147076979343\n"
          ],
          "name": "stdout"
        }
      ]
    },
    {
      "cell_type": "markdown",
      "metadata": {
        "id": "vx3fO4ZmS3TZ",
        "colab_type": "text"
      },
      "source": [
        "#### CNN-LSTM"
      ]
    },
    {
      "cell_type": "code",
      "metadata": {
        "id": "PzLK204yS2Ce",
        "colab_type": "code",
        "outputId": "d3679fca-fc9f-4910-96e9-c3b176d19145",
        "colab": {
          "base_uri": "https://localhost:8080/",
          "height": 51
        }
      },
      "source": [
        "print('Train mae:', mean_absolute_percentage_error(Y_train, cnn_lstm_train_pred))\n",
        "print('Validation mae:', mean_absolute_percentage_error(Y_valid, cnn_lstm_valid_pred))"
      ],
      "execution_count": 87,
      "outputs": [
        {
          "output_type": "stream",
          "text": [
            "Train mae: 301.5291538218612\n",
            "Validation mae: 283.30801619104733\n"
          ],
          "name": "stdout"
        }
      ]
    },
    {
      "cell_type": "markdown",
      "metadata": {
        "id": "fow7PcjNTAHY",
        "colab_type": "text"
      },
      "source": [
        "#### PyTorch"
      ]
    },
    {
      "cell_type": "code",
      "metadata": {
        "id": "QUyrX7P3S_CQ",
        "colab_type": "code",
        "outputId": "3d63c9c6-247f-4bf6-ed4f-3578d3a9423f",
        "colab": {
          "base_uri": "https://localhost:8080/",
          "height": 51
        }
      },
      "source": [
        "print('Train mae:', mean_absolute_percentage_error(np.array(y_train_torch.detach()).reshape(y_train_torch.shape[0]), np.array(y_pred.detach()).reshape(y_pred.shape[0])))\n",
        "print('Validation mae:', mean_absolute_percentage_error(np.array(y_valid_torch.detach()).reshape(y_valid_torch.shape[0]), np.array(y_test_pred.detach()).reshape(y_test_pred.shape[0])))"
      ],
      "execution_count": 88,
      "outputs": [
        {
          "output_type": "stream",
          "text": [
            "Train mae: 91.2947952747345\n",
            "Validation mae: 111.68197393417358\n"
          ],
          "name": "stdout"
        }
      ]
    },
    {
      "cell_type": "markdown",
      "metadata": {
        "id": "Gop7nbYAz10m",
        "colab_type": "text"
      },
      "source": [
        "#### ARIMA"
      ]
    },
    {
      "cell_type": "code",
      "metadata": {
        "id": "xpwsmJADTG_I",
        "colab_type": "code",
        "colab": {
          "base_uri": "https://localhost:8080/",
          "height": 51
        },
        "outputId": "9c0180ee-9a92-42d0-d4de-907f1e65c32d"
      },
      "source": [
        "print('Train mae:', mean_absolute_percentage_error(arima_X_train, arima_train_prediction))\n",
        "print('Validation mae:', mean_absolute_percentage_error(arima_X_valid, arima_valid_prediction))"
      ],
      "execution_count": 89,
      "outputs": [
        {
          "output_type": "stream",
          "text": [
            "Train rmse: 185.37371566351013\n",
            "Validation rmse: 112.32278031693839\n"
          ],
          "name": "stdout"
        }
      ]
    },
    {
      "cell_type": "code",
      "metadata": {
        "id": "v3TdX1pf0BhH",
        "colab_type": "code",
        "colab": {}
      },
      "source": [
        ""
      ],
      "execution_count": 0,
      "outputs": []
    },
    {
      "cell_type": "markdown",
      "metadata": {
        "colab_type": "text",
        "id": "NfFwdBb50GHj"
      },
      "source": [
        "### MSE"
      ]
    },
    {
      "cell_type": "markdown",
      "metadata": {
        "colab_type": "text",
        "id": "Azmo1MZ00GHl"
      },
      "source": [
        "#### MLP"
      ]
    },
    {
      "cell_type": "code",
      "metadata": {
        "colab_type": "code",
        "outputId": "52fa8343-2777-4664-cb85-c18a1667bd14",
        "id": "Qm0NiTAJ0GHm",
        "colab": {
          "base_uri": "https://localhost:8080/",
          "height": 51
        }
      },
      "source": [
        "mlp_train_pred = model_mlp.predict(X_train.values)\n",
        "mlp_valid_pred = model_mlp.predict(X_valid.values)\n",
        "print('Train mse:', (mean_squared_error(Y_train, mlp_train_pred)))\n",
        "print('Validation mse:', (mean_squared_error(Y_valid, mlp_valid_pred)))"
      ],
      "execution_count": 90,
      "outputs": [
        {
          "output_type": "stream",
          "text": [
            "Train mse: 0.00022170125787745508\n",
            "Validation mse: 4.548878845908752e-05\n"
          ],
          "name": "stdout"
        }
      ]
    },
    {
      "cell_type": "markdown",
      "metadata": {
        "colab_type": "text",
        "id": "nVmsLQ-30GHt"
      },
      "source": [
        "#### CNN"
      ]
    },
    {
      "cell_type": "code",
      "metadata": {
        "colab_type": "code",
        "outputId": "51f69e2a-58e3-4230-f1a9-ab7f95dbf935",
        "id": "l2kCPVOz0GHu",
        "colab": {
          "base_uri": "https://localhost:8080/",
          "height": 51
        }
      },
      "source": [
        "cnn_train_pred = model_cnn.predict(X_train_series)\n",
        "cnn_valid_pred = model_cnn.predict(X_valid_series)\n",
        "print('Train mse:', (mean_squared_error(Y_train, cnn_train_pred)))\n",
        "print('Validation mse:', (mean_squared_error(Y_valid, cnn_valid_pred)))"
      ],
      "execution_count": 91,
      "outputs": [
        {
          "output_type": "stream",
          "text": [
            "Train mse: 0.00021469738173080167\n",
            "Validation mse: 3.889716752916094e-05\n"
          ],
          "name": "stdout"
        }
      ]
    },
    {
      "cell_type": "markdown",
      "metadata": {
        "colab_type": "text",
        "id": "faVONpua0GHx"
      },
      "source": [
        "#### LSTM"
      ]
    },
    {
      "cell_type": "code",
      "metadata": {
        "colab_type": "code",
        "outputId": "60e7e046-64c2-4815-bf72-d514186db08c",
        "id": "5TzFWt1f0GHy",
        "colab": {
          "base_uri": "https://localhost:8080/",
          "height": 51
        }
      },
      "source": [
        "lstm_train_pred = model_lstm.predict(X_train_series)\n",
        "lstm_valid_pred = model_cnn.predict(X_valid_series)\n",
        "print('Train mse:', (mean_squared_error(Y_train, lstm_train_pred)))\n",
        "print('Validation mse:', (mean_squared_error(Y_valid, lstm_valid_pred)))"
      ],
      "execution_count": 92,
      "outputs": [
        {
          "output_type": "stream",
          "text": [
            "Train mse: 0.0002680379187034413\n",
            "Validation mse: 3.889716752916094e-05\n"
          ],
          "name": "stdout"
        }
      ]
    },
    {
      "cell_type": "markdown",
      "metadata": {
        "colab_type": "text",
        "id": "C8noDTiy0GH1"
      },
      "source": [
        "#### CNN - LSTM"
      ]
    },
    {
      "cell_type": "code",
      "metadata": {
        "colab_type": "code",
        "outputId": "8ad3388e-cad3-44fc-b74e-51e9ea77cde5",
        "id": "muBEn6c20GH2",
        "colab": {
          "base_uri": "https://localhost:8080/",
          "height": 51
        }
      },
      "source": [
        "cnn_lstm_train_pred = model_cnn_lstm.predict(X_train_series_sub)\n",
        "cnn_lstm_valid_pred = model_cnn_lstm.predict(X_valid_series_sub)\n",
        "print('Train mse:', (mean_squared_error(Y_train, cnn_lstm_train_pred)))\n",
        "print('Validation mse:', (mean_squared_error(Y_valid, cnn_lstm_valid_pred)))"
      ],
      "execution_count": 93,
      "outputs": [
        {
          "output_type": "stream",
          "text": [
            "Train mse: 0.0002110183156652268\n",
            "Validation mse: 3.595650286113561e-05\n"
          ],
          "name": "stdout"
        }
      ]
    },
    {
      "cell_type": "markdown",
      "metadata": {
        "colab_type": "text",
        "id": "6oSqa7Zd0GH5"
      },
      "source": [
        "#### PyTorch"
      ]
    },
    {
      "cell_type": "code",
      "metadata": {
        "colab_type": "code",
        "outputId": "45d05620-557c-4254-a798-9ef2466bc360",
        "id": "i_3BzTLi0GH6",
        "colab": {
          "base_uri": "https://localhost:8080/",
          "height": 51
        }
      },
      "source": [
        "print('Train mse:', (mean_squared_error(np.array(y_train_torch.detach()).reshape(y_train_torch.shape[0]), np.array(y_pred.detach()).reshape(y_pred.shape[0]))))\n",
        "print('Validation mse:', (mean_squared_error(np.array(y_valid_torch.detach()).reshape(y_valid_torch.shape[0]), np.array(y_test_pred.detach()).reshape(y_test_pred.shape[0]))))"
      ],
      "execution_count": 94,
      "outputs": [
        {
          "output_type": "stream",
          "text": [
            "Train mse: 0.0071886107\n",
            "Validation mse: 1.6765189\n"
          ],
          "name": "stdout"
        }
      ]
    },
    {
      "cell_type": "markdown",
      "metadata": {
        "colab_type": "text",
        "id": "jYkQKyrf0GH9"
      },
      "source": [
        "#### ARIMA"
      ]
    },
    {
      "cell_type": "code",
      "metadata": {
        "colab_type": "code",
        "id": "bF-bHGpx0GH-",
        "colab": {
          "base_uri": "https://localhost:8080/",
          "height": 51
        },
        "outputId": "0dabe9ce-051e-499f-9739-abb485d523d3"
      },
      "source": [
        "print('Train mse:', (mean_squared_error(arima_train, arima_train_prediction)))\n",
        "print('Validation mse:', (mean_squared_error(arima_X_valid, arima_valid_prediction)))"
      ],
      "execution_count": 96,
      "outputs": [
        {
          "output_type": "stream",
          "text": [
            "Train mse: 0.01974938346482549\n",
            "Validation mse: 0.061079670035978514\n"
          ],
          "name": "stdout"
        }
      ]
    },
    {
      "cell_type": "code",
      "metadata": {
        "id": "MiCjlx8wG8vI",
        "colab_type": "code",
        "colab": {}
      },
      "source": [
        ""
      ],
      "execution_count": 0,
      "outputs": []
    }
  ]
}